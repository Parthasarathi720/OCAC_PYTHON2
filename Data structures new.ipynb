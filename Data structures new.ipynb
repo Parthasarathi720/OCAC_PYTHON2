{
 "cells": [
  {
   "cell_type": "code",
   "execution_count": 1,
   "id": "026c01ce-5b2d-4327-b89f-8c86e280b8cb",
   "metadata": {},
   "outputs": [
    {
     "data": {
      "text/plain": [
       "range(0, 10)"
      ]
     },
     "execution_count": 1,
     "metadata": {},
     "output_type": "execute_result"
    }
   ],
   "source": [
    "range(10)"
   ]
  },
  {
   "cell_type": "code",
   "execution_count": 3,
   "id": "efc5f00a-4b5d-4a16-823e-33a2748aff1e",
   "metadata": {},
   "outputs": [
    {
     "data": {
      "text/plain": [
       "[0, 1, 2, 3, 4, 5, 6, 7, 8, 9]"
      ]
     },
     "execution_count": 3,
     "metadata": {},
     "output_type": "execute_result"
    }
   ],
   "source": [
    "list(range(10))"
   ]
  },
  {
   "cell_type": "code",
   "execution_count": 5,
   "id": "51c3b931-36fc-48c6-9602-25f4a1a3af81",
   "metadata": {},
   "outputs": [
    {
     "data": {
      "text/plain": [
       "[2, 3, 4, 5, 6, 7, 8, 9, 10, 11]"
      ]
     },
     "execution_count": 5,
     "metadata": {},
     "output_type": "execute_result"
    }
   ],
   "source": [
    "list(range(2,12))"
   ]
  },
  {
   "cell_type": "code",
   "execution_count": 9,
   "id": "b5cb2cf6-c6e7-4fa8-8fa0-b0c810721f92",
   "metadata": {},
   "outputs": [
    {
     "name": "stdout",
     "output_type": "stream",
     "text": [
      "[1, 4, 7, 10]\n"
     ]
    }
   ],
   "source": [
    "print(list(range(1,12,3)))"
   ]
  },
  {
   "cell_type": "code",
   "execution_count": 11,
   "id": "d5f43202-e13b-494e-8d5e-cb41b849dd47",
   "metadata": {},
   "outputs": [
    {
     "name": "stdout",
     "output_type": "stream",
     "text": [
      "[9, 6]\n"
     ]
    }
   ],
   "source": [
    "print(list(range(9,3,-3)))"
   ]
  },
  {
   "cell_type": "code",
   "execution_count": 13,
   "id": "59bd6eaf-0904-4214-96e3-391f622a529c",
   "metadata": {},
   "outputs": [
    {
     "name": "stdout",
     "output_type": "stream",
     "text": [
      "[100, 98, 96, 94, 92, 90, 88, 86, 84, 82, 80, 78, 76, 74, 72, 70, 68, 66, 64, 62, 60, 58, 56, 54, 52, 50, 48, 46, 44, 42, 40, 38, 36, 34, 32, 30, 28, 26, 24, 22, 20, 18, 16, 14, 12, 10, 8, 6, 4, 2]\n"
     ]
    }
   ],
   "source": [
    "print(list(range(100,0,-2)))"
   ]
  },
  {
   "cell_type": "code",
   "execution_count": 35,
   "id": "0eb1e0ba-ca3c-49e2-97b6-13a4571423d8",
   "metadata": {},
   "outputs": [
    {
     "data": {
      "text/plain": [
       "1"
      ]
     },
     "execution_count": 35,
     "metadata": {},
     "output_type": "execute_result"
    }
   ],
   "source": [
    "1 == []\n",
    "1"
   ]
  },
  {
   "cell_type": "code",
   "execution_count": 29,
   "id": "7dbfb7a8-cfa4-4bdf-9592-bb8cce972e5d",
   "metadata": {},
   "outputs": [
    {
     "data": {
      "text/plain": [
       "1"
      ]
     },
     "execution_count": 29,
     "metadata": {},
     "output_type": "execute_result"
    }
   ],
   "source": [
    "1 == list()\n",
    "1"
   ]
  },
  {
   "cell_type": "code",
   "execution_count": 61,
   "id": "68b8498d-640a-4b8b-b650-72b1a7c7a29f",
   "metadata": {},
   "outputs": [
    {
     "data": {
      "text/plain": [
       "1"
      ]
     },
     "execution_count": 61,
     "metadata": {},
     "output_type": "execute_result"
    }
   ],
   "source": [
    "1==[7,8,9]\n",
    "1"
   ]
  },
  {
   "cell_type": "code",
   "execution_count": 45,
   "id": "c62cfbae-83ed-411f-892a-a28c33173a25",
   "metadata": {},
   "outputs": [
    {
     "data": {
      "text/plain": [
       "int"
      ]
     },
     "execution_count": 45,
     "metadata": {},
     "output_type": "execute_result"
    }
   ],
   "source": [
    "type(1)"
   ]
  },
  {
   "cell_type": "code",
   "execution_count": 47,
   "id": "ef776316-7530-46b3-88ff-164e56be2875",
   "metadata": {},
   "outputs": [
    {
     "data": {
      "text/plain": [
       "[1, 0.2, (1+3j), True, '2', 'rew']"
      ]
     },
     "execution_count": 47,
     "metadata": {},
     "output_type": "execute_result"
    }
   ],
   "source": [
    "li=[1,0.2,1+3j,True,'2','rew']\n",
    "li"
   ]
  },
  {
   "cell_type": "code",
   "execution_count": 49,
   "id": "58f0fdbc-7cc9-4247-8028-7643163ca1bc",
   "metadata": {},
   "outputs": [
    {
     "name": "stdout",
     "output_type": "stream",
     "text": [
      "[[1, 2], [3, 4], 1, 3]\n"
     ]
    }
   ],
   "source": [
    "lst3 = [[1, 2], [3,4],1,3]\n",
    "print(lst3)"
   ]
  },
  {
   "cell_type": "code",
   "execution_count": 51,
   "id": "ec657b17-fbb9-445f-8872-743d3bfa88b6",
   "metadata": {},
   "outputs": [
    {
     "name": "stdout",
     "output_type": "stream",
     "text": [
      "8\n"
     ]
    }
   ],
   "source": [
    "lst = ['one' , 'two', 'three', 'four',[1,2,3,4],3,4,[1,2]]\n",
    "print(len(lst))"
   ]
  },
  {
   "cell_type": "code",
   "execution_count": 63,
   "id": "f403bbce-2e20-49b2-b1f6-bde470497590",
   "metadata": {},
   "outputs": [
    {
     "name": "stdout",
     "output_type": "stream",
     "text": [
      "Please\n"
     ]
    }
   ],
   "source": [
    "my_list = [10 ,20.5, \"Please\"]\n",
    "my_list[0]\n",
    "print(my_list[-1])"
   ]
  },
  {
   "cell_type": "code",
   "execution_count": 65,
   "id": "7e7f603a-4402-4a94-93aa-3be5489bc8c5",
   "metadata": {},
   "outputs": [
    {
     "data": {
      "text/plain": [
       "['Old', 20.5, 'Please']"
      ]
     },
     "execution_count": 65,
     "metadata": {},
     "output_type": "execute_result"
    }
   ],
   "source": [
    "my_list[0] = 'Old'\n",
    "my_list"
   ]
  },
  {
   "cell_type": "code",
   "execution_count": 59,
   "id": "250375d3-1df8-4e4b-9f98-305018265293",
   "metadata": {},
   "outputs": [
    {
     "name": "stdout",
     "output_type": "stream",
     "text": [
      "[80, 90, 30, 70, 20, 50, 30, 80]\n",
      "[80, 90, 30, 70, 20, 50, 30, 80]\n",
      "[80, 30, 20, 30]\n",
      "[30, 20, 30]\n",
      "[80, 30, 50, 20, 70, 30, 90, 80]\n"
     ]
    }
   ],
   "source": [
    "numbers = [80, 90, 30, 70, 20,50,30,80]\n",
    "print(numbers[:])\n",
    "print(numbers[0:])\n",
    "print(numbers[::2])\n",
    "print(numbers[2::2])\n",
    "print(numbers[-1::-1])"
   ]
  },
  {
   "cell_type": "code",
   "execution_count": 81,
   "id": "d47ad031-3118-4444-a9cd-6cc0299edf21",
   "metadata": {},
   "outputs": [
    {
     "data": {
      "text/plain": [
       "4"
      ]
     },
     "execution_count": 81,
     "metadata": {},
     "output_type": "execute_result"
    }
   ],
   "source": [
    "nest = [1,2,3,[4,5,['target',3,40]]]\n",
    "len(nest)"
   ]
  },
  {
   "cell_type": "code",
   "execution_count": 83,
   "id": "c4bc0969-79d6-4c2f-afd6-a3ab0f8a6c00",
   "metadata": {},
   "outputs": [
    {
     "data": {
      "text/plain": [
       "'target'"
      ]
     },
     "execution_count": 83,
     "metadata": {},
     "output_type": "execute_result"
    }
   ],
   "source": [
    "nest[3][2][0]"
   ]
  },
  {
   "cell_type": "code",
   "execution_count": 85,
   "id": "f7108f27-fc0b-4ec5-8939-5d45ecb0646f",
   "metadata": {},
   "outputs": [
    {
     "data": {
      "text/plain": [
       "'hello'"
      ]
     },
     "execution_count": 85,
     "metadata": {},
     "output_type": "execute_result"
    }
   ],
   "source": [
    "lst = [1,2,[3,4],[5,[100,200,['hello'],23,11],1,7]]\n",
    "lst[3][1][2][0]\n"
   ]
  },
  {
   "cell_type": "code",
   "execution_count": 87,
   "id": "5d43162c-2a97-496b-b34a-184eaf10f932",
   "metadata": {},
   "outputs": [
    {
     "data": {
      "text/plain": [
       "[1, 2, [3, 4], [5, [100, 200, ['hello'], 23, 11], 54, 7]]"
      ]
     },
     "execution_count": 87,
     "metadata": {},
     "output_type": "execute_result"
    }
   ],
   "source": [
    "lst[3][2]=54\n",
    "lst"
   ]
  },
  {
   "cell_type": "code",
   "execution_count": 89,
   "id": "b222063e-c6ef-4a39-8650-a2c2fdd4cf79",
   "metadata": {},
   "outputs": [
    {
     "data": {
      "text/plain": [
       "['dsad', 'b', 'c', 'a', 6, 4.0]"
      ]
     },
     "execution_count": 89,
     "metadata": {},
     "output_type": "execute_result"
    }
   ],
   "source": [
    "l1 = [\"dsad\", 'b', 'c']\n",
    "l2 = ['a',6,4.0]\n",
    "l1 + l2"
   ]
  },
  {
   "cell_type": "code",
   "execution_count": 91,
   "id": "81e0ed2e-379b-49c0-9432-a61659440694",
   "metadata": {},
   "outputs": [
    {
     "data": {
      "text/plain": [
       "['a', 'b', 'c', '6']"
      ]
     },
     "execution_count": 91,
     "metadata": {},
     "output_type": "execute_result"
    }
   ],
   "source": [
    "my_list = ['a','b','c']\n",
    "my_list.append('6')\n",
    "my_list"
   ]
  },
  {
   "cell_type": "code",
   "execution_count": 93,
   "id": "07bf1084-f8fa-417c-9433-4dc62d6b23b3",
   "metadata": {},
   "outputs": [
    {
     "data": {
      "text/plain": [
       "[1, 2, 3, 4, 5, 6, [7, 9]]"
      ]
     },
     "execution_count": 93,
     "metadata": {},
     "output_type": "execute_result"
    }
   ],
   "source": [
    "lst=[1,2,3,4,5,6]\n",
    "lst.append([7,9])\n",
    "lst"
   ]
  },
  {
   "cell_type": "code",
   "execution_count": 95,
   "id": "d4c810aa-03c8-4116-b833-013b86a53dd7",
   "metadata": {},
   "outputs": [
    {
     "data": {
      "text/plain": [
       "[1, 2, 3, 4, 5, 6, 4, 5]"
      ]
     },
     "execution_count": 95,
     "metadata": {},
     "output_type": "execute_result"
    }
   ],
   "source": [
    "lst=[1,2,3,4,5,6]\n",
    "lst.extend([4,5])\n",
    "lst"
   ]
  },
  {
   "cell_type": "code",
   "execution_count": 99,
   "id": "79920a73-fdee-4473-8f2c-4e2c35ab3fdd",
   "metadata": {},
   "outputs": [
    {
     "name": "stdout",
     "output_type": "stream",
     "text": [
      "['one', 'two', 'four', 3]\n"
     ]
    }
   ],
   "source": [
    "lst = ['one', 'two', 'four']\n",
    "lst.insert(3,3)\n",
    "print(lst)"
   ]
  },
  {
   "cell_type": "raw",
   "id": "3f2e0f6a-11f7-402e-b08c-8dd737a86c38",
   "metadata": {},
   "source": [
    "marks = [10, 90, 4, 3, 6, 7, 84, 9, 14, 15, 3, 87, 09]\n",
    "marks.remove(10)\n",
    "marks"
   ]
  },
  {
   "cell_type": "markdown",
   "id": "f64f5406-f4cd-4e5e-a387-faa65fe8a172",
   "metadata": {},
   "source": [
    "lst = ['one', [1,2,'two'], 'three', 'four', 'two']\n",
    "lst.remove(lst[1]\n",
    "print(lst)"
   ]
  },
  {
   "cell_type": "code",
   "execution_count": 102,
   "id": "2c8049b7-934a-43c7-a564-0b40aebd503b",
   "metadata": {},
   "outputs": [
    {
     "name": "stdout",
     "output_type": "stream",
     "text": [
      "[3, 4, 5, 6, 7]\n"
     ]
    }
   ],
   "source": [
    "a=[3,4,5,6,7]\n",
    "a.clear\n",
    "print(a)"
   ]
  },
  {
   "cell_type": "code",
   "execution_count": 104,
   "id": "298e895c-f755-4bca-b8b4-8afecdfbc5af",
   "metadata": {},
   "outputs": [
    {
     "name": "stdout",
     "output_type": "stream",
     "text": [
      "[3, 7, 8, 5]\n"
     ]
    }
   ],
   "source": [
    "lst=[3,7,8,5,6]\n",
    "lst.pop()\n",
    "print(lst)"
   ]
  },
  {
   "cell_type": "code",
   "execution_count": 106,
   "id": "15d3ef3e-ab11-4227-9ac2-6de14970c958",
   "metadata": {},
   "outputs": [
    {
     "name": "stdout",
     "output_type": "stream",
     "text": [
      "['two', 'three', 'five', 'eight']\n"
     ]
    }
   ],
   "source": [
    "lst = ['two', 'three', 'five', 'eight']\n",
    "lst.pop\n",
    "print(lst)"
   ]
  },
  {
   "cell_type": "code",
   "execution_count": 108,
   "id": "508cc723-1c86-4676-b757-033cc2a9606d",
   "metadata": {},
   "outputs": [
    {
     "name": "stdout",
     "output_type": "stream",
     "text": [
      "['three', 'six', 'seven', 'eight']\n"
     ]
    }
   ],
   "source": [
    "lst = ['two','three', 'six', 'seven', 'eight']\n",
    "del(lst)[0]\n",
    "print(lst)\n"
   ]
  },
  {
   "cell_type": "code",
   "execution_count": 112,
   "id": "695fb019-04c3-46c9-a9c1-648c818ae781",
   "metadata": {},
   "outputs": [
    {
     "data": {
      "text/plain": [
       "[]"
      ]
     },
     "execution_count": 112,
     "metadata": {},
     "output_type": "execute_result"
    }
   ],
   "source": [
    "marks = [10,20,30,40,50,60,70,80,90,100]\n",
    "del marks[0:70]\n",
    "marks"
   ]
  },
  {
   "cell_type": "code",
   "execution_count": 114,
   "id": "246f9104-e7cb-4e31-b085-7e192ae32b5e",
   "metadata": {},
   "outputs": [
    {
     "name": "stdout",
     "output_type": "stream",
     "text": [
      "['eight', 'seven', 'six', 'five']\n"
     ]
    }
   ],
   "source": [
    "lst = ['five','six','seven', 'eight']\n",
    "lst.reverse()\n",
    "print(lst)"
   ]
  },
  {
   "cell_type": "code",
   "execution_count": 116,
   "id": "42f940d0-5d3a-4144-8c8f-624c68d8e879",
   "metadata": {},
   "outputs": [
    {
     "data": {
      "text/plain": [
       "[2, 4, 6, 7, 9]"
      ]
     },
     "execution_count": 116,
     "metadata": {},
     "output_type": "execute_result"
    }
   ],
   "source": [
    "numbers = [2,9,7,6,4]\n",
    "sorted(numbers)"
   ]
  },
  {
   "cell_type": "code",
   "execution_count": 120,
   "id": "2c623a50-ea0b-47fc-ae41-c8b71f593e8e",
   "metadata": {},
   "outputs": [
    {
     "data": {
      "text/plain": [
       "[9, 7, 6, 4, 2]"
      ]
     },
     "execution_count": 120,
     "metadata": {},
     "output_type": "execute_result"
    }
   ],
   "source": [
    "sorted(numbers, reverse=True)\n"
   ]
  },
  {
   "cell_type": "code",
   "execution_count": 122,
   "id": "e2dd0252-f2cd-48f9-b7ca-2774a9700eb1",
   "metadata": {},
   "outputs": [
    {
     "data": {
      "text/plain": [
       "[2, 3.9, 6, 8, 30]"
      ]
     },
     "execution_count": 122,
     "metadata": {},
     "output_type": "execute_result"
    }
   ],
   "source": [
    "lst = [2, 30, 6, 8, 3.9]\n",
    "lst.sort()\n",
    "lst"
   ]
  },
  {
   "cell_type": "code",
   "execution_count": 124,
   "id": "9c45b0d4-fedc-486f-8791-0fdb27fc9aa3",
   "metadata": {},
   "outputs": [
    {
     "ename": "TypeError",
     "evalue": "'<' not supported between instances of 'str' and 'int'",
     "output_type": "error",
     "traceback": [
      "\u001b[1;31m---------------------------------------------------------------------------\u001b[0m",
      "\u001b[1;31mTypeError\u001b[0m                                 Traceback (most recent call last)",
      "Cell \u001b[1;32mIn[124], line 2\u001b[0m\n\u001b[0;32m      1\u001b[0m lst \u001b[38;5;241m=\u001b[39m [\u001b[38;5;241m1\u001b[39m, \u001b[38;5;241m30\u001b[39m, \u001b[38;5;124m'\u001b[39m\u001b[38;5;124mc\u001b[39m\u001b[38;5;124m'\u001b[39m, \u001b[38;5;241m3\u001b[39m, \u001b[38;5;124m'\u001b[39m\u001b[38;5;124mb\u001b[39m\u001b[38;5;124m'\u001b[39m]\n\u001b[1;32m----> 2\u001b[0m \u001b[38;5;28mprint\u001b[39m(lst\u001b[38;5;241m.\u001b[39msort())\n",
      "\u001b[1;31mTypeError\u001b[0m: '<' not supported between instances of 'str' and 'int'"
     ]
    }
   ],
   "source": [
    "lst = [1, 30, 'c', 3, 'b']\n",
    "print(lst.sort())"
   ]
  },
  {
   "cell_type": "code",
   "execution_count": 126,
   "id": "f01345f1-b504-4074-af52-83ed33af806d",
   "metadata": {},
   "outputs": [
    {
     "name": "stdout",
     "output_type": "stream",
     "text": [
      "1\n",
      "1\n"
     ]
    }
   ],
   "source": [
    "numbers=[4, 5, 7, 9,0,3, 2, 1, 9]\n",
    "print(numbers.count(1))\n",
    "print(numbers.count(3))"
   ]
  },
  {
   "cell_type": "code",
   "execution_count": 128,
   "id": "85e51c5f-7da8-46e0-9c52-408b0dd6b66c",
   "metadata": {},
   "outputs": [
    {
     "name": "stdout",
     "output_type": "stream",
     "text": [
      "[3, 4, 6, 7]\n",
      "[3, 4, 6, 7]\n"
     ]
    }
   ],
   "source": [
    "l1=[3,4,6]\n",
    "l2=l1\n",
    "l2.append(7)\n",
    "print(l1)\n",
    "print(l2)"
   ]
  },
  {
   "cell_type": "code",
   "execution_count": 130,
   "id": "d9d2294e-a7db-4213-9bcd-0b063f652587",
   "metadata": {},
   "outputs": [
    {
     "name": "stdout",
     "output_type": "stream",
     "text": [
      "[6, 7, 8]\n",
      "[6, 7, 8, 9]\n"
     ]
    }
   ],
   "source": [
    "l1=[6,7,8]\n",
    "l2=l1.copy()\n",
    "l2.append(9)\n",
    "print(l1)\n",
    "print(l2)"
   ]
  },
  {
   "cell_type": "code",
   "execution_count": 134,
   "id": "e87f63c7-569c-4123-a598-f551d69b95b6",
   "metadata": {},
   "outputs": [
    {
     "data": {
      "text/plain": [
       "2"
      ]
     },
     "execution_count": 134,
     "metadata": {},
     "output_type": "execute_result"
    }
   ],
   "source": [
    "lst = [3, 40, 9]\n",
    "lst.index(9)"
   ]
  },
  {
   "cell_type": "code",
   "execution_count": 136,
   "id": "e7df00a1-dc29-4bd5-a311-7878db7747c8",
   "metadata": {},
   "outputs": [
    {
     "data": {
      "text/plain": [
       "3"
      ]
     },
     "execution_count": 136,
     "metadata": {},
     "output_type": "execute_result"
    }
   ],
   "source": [
    "## Min\n",
    "min(lst)"
   ]
  },
  {
   "cell_type": "code",
   "execution_count": 138,
   "id": "440ddad3-bb9e-40ce-8668-8c531abf98ba",
   "metadata": {},
   "outputs": [
    {
     "data": {
      "text/plain": [
       "40"
      ]
     },
     "execution_count": 138,
     "metadata": {},
     "output_type": "execute_result"
    }
   ],
   "source": [
    "## Max\n",
    "max(lst)"
   ]
  },
  {
   "cell_type": "code",
   "execution_count": 140,
   "id": "c581f3cd-d3ca-4bb4-a342-57aac099eeb3",
   "metadata": {},
   "outputs": [
    {
     "data": {
      "text/plain": [
       "25"
      ]
     },
     "execution_count": 140,
     "metadata": {},
     "output_type": "execute_result"
    }
   ],
   "source": [
    "lst=[3,4,5,6,7]\n",
    "sum(lst)"
   ]
  },
  {
   "cell_type": "code",
   "execution_count": 142,
   "id": "9c8ce440-5a94-4dd7-a593-e9e05fa4bdb5",
   "metadata": {},
   "outputs": [
    {
     "data": {
      "text/plain": [
       "tuple"
      ]
     },
     "execution_count": 142,
     "metadata": {},
     "output_type": "execute_result"
    }
   ],
   "source": [
    "tup1 = ()\n",
    "type(tup1)"
   ]
  },
  {
   "cell_type": "code",
   "execution_count": 144,
   "id": "5ec9a721-6334-4ea7-8a1e-a1aba294cce4",
   "metadata": {},
   "outputs": [
    {
     "data": {
      "text/plain": [
       "tuple"
      ]
     },
     "execution_count": 144,
     "metadata": {},
     "output_type": "execute_result"
    }
   ],
   "source": [
    "tup2=tuple()\n",
    "type(tup2)"
   ]
  },
  {
   "cell_type": "code",
   "execution_count": 146,
   "id": "15713721-f692-4d84-a99e-b53586a242f9",
   "metadata": {},
   "outputs": [
    {
     "data": {
      "text/plain": [
       "(200, 'parbati', 34.765)"
      ]
     },
     "execution_count": 146,
     "metadata": {},
     "output_type": "execute_result"
    }
   ],
   "source": [
    "tup3 = (200, 'parbati', 34.765)\n",
    "tup3"
   ]
  },
  {
   "cell_type": "code",
   "execution_count": 160,
   "id": "a85f7ae5-f262-4c92-9b1f-73cf6c6ae506",
   "metadata": {},
   "outputs": [
    {
     "ename": "SyntaxError",
     "evalue": "unterminated string literal (detected at line 1) (2430879976.py, line 1)",
     "output_type": "error",
     "traceback": [
      "\u001b[1;36m  Cell \u001b[1;32mIn[160], line 1\u001b[1;36m\u001b[0m\n\u001b[1;33m    tup4 = '('parbati', 34, (70, 80),(120, 80))\u001b[0m\n\u001b[1;37m                     ^\u001b[0m\n\u001b[1;31mSyntaxError\u001b[0m\u001b[1;31m:\u001b[0m unterminated string literal (detected at line 1)\n"
     ]
    }
   ],
   "source": [
    "tup4 = '('parbati', 34, (70, 80),(120, 80))\n"
   ]
  },
  {
   "cell_type": "code",
   "execution_count": 162,
   "id": "e14e1005-b1d4-4f7b-835b-2d4667138100",
   "metadata": {},
   "outputs": [
    {
     "data": {
      "text/plain": [
       "('parbati', 45, [60, 300], [320, 70], {'partha', 'unmesha'}, (50, 33, 56))"
      ]
     },
     "execution_count": 162,
     "metadata": {},
     "output_type": "execute_result"
    }
   ],
   "source": [
    "tup5 = ('parbati', 45 ,[60, 300],[130, 70] , {'partha', 'unmesha'} , (50,33,56))\n",
    "tup5[3][0]=320\n",
    "tup5"
   ]
  },
  {
   "cell_type": "code",
   "execution_count": 164,
   "id": "e82d96a5-153b-422c-a2c0-431d63d8c7aa",
   "metadata": {},
   "outputs": [
    {
     "data": {
      "text/plain": [
       "6"
      ]
     },
     "execution_count": 164,
     "metadata": {},
     "output_type": "execute_result"
    }
   ],
   "source": [
    "len(tup5)\n"
   ]
  },
  {
   "cell_type": "code",
   "execution_count": 166,
   "id": "7079aa39-71c9-4665-86a5-9e7b0dfb8e93",
   "metadata": {},
   "outputs": [
    {
     "data": {
      "text/plain": [
       "'parbati'"
      ]
     },
     "execution_count": 166,
     "metadata": {},
     "output_type": "execute_result"
    }
   ],
   "source": [
    "tup5[0]\n"
   ]
  },
  {
   "cell_type": "code",
   "execution_count": 174,
   "id": "d7077091-b9a1-465d-a29e-65554f2d511f",
   "metadata": {},
   "outputs": [
    {
     "ename": "IndexError",
     "evalue": "list index out of range",
     "output_type": "error",
     "traceback": [
      "\u001b[1;31m---------------------------------------------------------------------------\u001b[0m",
      "\u001b[1;31mIndexError\u001b[0m                                Traceback (most recent call last)",
      "Cell \u001b[1;32mIn[174], line 1\u001b[0m\n\u001b[1;32m----> 1\u001b[0m tup5[\u001b[38;5;241m2\u001b[39m][\u001b[38;5;241m3\u001b[39m]\n\u001b[0;32m      2\u001b[0m lem\n",
      "\u001b[1;31mIndexError\u001b[0m: list index out of range"
     ]
    }
   ],
   "source": [
    "tup5[2][3]\n",
    "lem"
   ]
  },
  {
   "cell_type": "code",
   "execution_count": 178,
   "id": "39913c92-536b-4d29-98b8-d452b2477582",
   "metadata": {},
   "outputs": [
    {
     "ename": "NameError",
     "evalue": "name 'tup4' is not defined",
     "output_type": "error",
     "traceback": [
      "\u001b[1;31m---------------------------------------------------------------------------\u001b[0m",
      "\u001b[1;31mNameError\u001b[0m                                 Traceback (most recent call last)",
      "Cell \u001b[1;32mIn[178], line 1\u001b[0m\n\u001b[1;32m----> 1\u001b[0m tup4(\u001b[38;5;241m34\u001b[39m)\n",
      "\u001b[1;31mNameError\u001b[0m: name 'tup4' is not defined"
     ]
    }
   ],
   "source": [
    "tup4(34)"
   ]
  },
  {
   "cell_type": "code",
   "execution_count": 180,
   "id": "1da0e4ee-de45-4334-a6b2-9298dc028f67",
   "metadata": {},
   "outputs": [
    {
     "data": {
      "text/plain": [
       "('five', 'six', 'seven')"
      ]
     },
     "execution_count": 180,
     "metadata": {},
     "output_type": "execute_result"
    }
   ],
   "source": [
    "mytuple = ('five', 'six', 'seven', 'eight', 'nine', 'ten')\n",
    "mytuple[0:3]"
   ]
  },
  {
   "cell_type": "code",
   "execution_count": 182,
   "id": "209ba3ca-bb3e-4692-8775-929c12a2abfc",
   "metadata": {},
   "outputs": [
    {
     "data": {
      "text/plain": [
       "('eight', 'nine', 'ten')"
      ]
     },
     "execution_count": 182,
     "metadata": {},
     "output_type": "execute_result"
    }
   ],
   "source": [
    "mytuple[3:6]\n"
   ]
  },
  {
   "cell_type": "code",
   "execution_count": 184,
   "id": "d31f7fdc-ee32-45f0-b3eb-9bdfd5895e30",
   "metadata": {},
   "outputs": [
    {
     "data": {
      "text/plain": [
       "('five', 'six', 'seven', 'eight')"
      ]
     },
     "execution_count": 184,
     "metadata": {},
     "output_type": "execute_result"
    }
   ],
   "source": [
    "mytuple[:4]\n"
   ]
  },
  {
   "cell_type": "code",
   "execution_count": 186,
   "id": "a00ed193-52d4-4edc-a4f7-e98fbcc046aa",
   "metadata": {},
   "outputs": [
    {
     "data": {
      "text/plain": [
       "('six', 'seven', 'eight', 'nine', 'ten')"
      ]
     },
     "execution_count": 186,
     "metadata": {},
     "output_type": "execute_result"
    }
   ],
   "source": [
    "mytuple[-5:]\n"
   ]
  },
  {
   "cell_type": "code",
   "execution_count": 188,
   "id": "f25b2372-26c9-4038-af51-babeaf72b856",
   "metadata": {},
   "outputs": [
    {
     "data": {
      "text/plain": [
       "('seven',)"
      ]
     },
     "execution_count": 188,
     "metadata": {},
     "output_type": "execute_result"
    }
   ],
   "source": [
    "mytuple[-4::-6]"
   ]
  },
  {
   "cell_type": "code",
   "execution_count": 190,
   "id": "21957262-cc21-4976-b0cf-30e58b9b6008",
   "metadata": {},
   "outputs": [
    {
     "data": {
      "text/plain": [
       "('five', 'six', 'seven', 'eight', 'nine')"
      ]
     },
     "execution_count": 190,
     "metadata": {},
     "output_type": "execute_result"
    }
   ],
   "source": [
    "mytuple[:5]"
   ]
  },
  {
   "cell_type": "code",
   "execution_count": 192,
   "id": "6bcdddee-732f-47fe-a60a-644bdbd6d109",
   "metadata": {},
   "outputs": [
    {
     "data": {
      "text/plain": [
       "('seven', 'eight', 'nine', 'ten')"
      ]
     },
     "execution_count": 192,
     "metadata": {},
     "output_type": "execute_result"
    }
   ],
   "source": [
    "mytuple[-4:]"
   ]
  },
  {
   "cell_type": "code",
   "execution_count": 194,
   "id": "ace014d9-8dba-4592-9c90-d46429aaac19",
   "metadata": {},
   "outputs": [
    {
     "data": {
      "text/plain": [
       "('five', 'six', 'seven', 'eight', 'nine', 'ten')"
      ]
     },
     "execution_count": 194,
     "metadata": {},
     "output_type": "execute_result"
    }
   ],
   "source": [
    "mytuple"
   ]
  },
  {
   "cell_type": "code",
   "execution_count": null,
   "id": "cff65585-e46d-4273-9f5d-44c510bd1ddf",
   "metadata": {},
   "outputs": [],
   "source": [
    "mytuple =('one', 'two', 'three', 'four', 'one', 'one', 'two', 'three')\n",
    "mytuple1.count('one')"
   ]
  },
  {
   "cell_type": "code",
   "execution_count": 223,
   "id": "654e9d07-a57d-442f-8699-a38527ca0c88",
   "metadata": {},
   "outputs": [
    {
     "data": {
      "text/plain": [
       "['i', 's', 'x']"
      ]
     },
     "execution_count": 223,
     "metadata": {},
     "output_type": "execute_result"
    }
   ],
   "source": [
    "mytuple = (46,36,47,98,75,29,57)\n",
    "sorted(mytuple2)"
   ]
  },
  {
   "cell_type": "code",
   "execution_count": 225,
   "id": "8923ecda-7c2e-4785-a687-e3c2eb3ffeb9",
   "metadata": {},
   "outputs": [
    {
     "data": {
      "text/plain": [
       "['x', 's', 'i']"
      ]
     },
     "execution_count": 225,
     "metadata": {},
     "output_type": "execute_result"
    }
   ],
   "source": [
    "sorted(mytuple2, reverse=True)"
   ]
  },
  {
   "cell_type": "code",
   "execution_count": 227,
   "id": "2f8d95da-ce9c-4d07-9717-f8a5cbb76ea6",
   "metadata": {},
   "outputs": [
    {
     "data": {
      "text/plain": [
       "(46, 36, 47, 98, 75, 29, 57)"
      ]
     },
     "execution_count": 227,
     "metadata": {},
     "output_type": "execute_result"
    }
   ],
   "source": [
    "mytuple"
   ]
  },
  {
   "cell_type": "code",
   "execution_count": 233,
   "id": "7df4d562-0a34-4da8-93be-62eb79cd9d51",
   "metadata": {},
   "outputs": [
    {
     "data": {
      "text/plain": [
       "True"
      ]
     },
     "execution_count": 233,
     "metadata": {},
     "output_type": "execute_result"
    }
   ],
   "source": [
    "mytuple = ('three', 'four', 'five', 'six', 'seven',  'eight')\n",
    "'four'\n",
    "'four' in mytuple"
   ]
  },
  {
   "cell_type": "code",
   "execution_count": 235,
   "id": "de9b407a-91e4-4278-b802-3217d6cdc4a7",
   "metadata": {},
   "outputs": [
    {
     "data": {
      "text/plain": [
       "False"
      ]
     },
     "execution_count": 235,
     "metadata": {},
     "output_type": "execute_result"
    }
   ],
   "source": [
    "'one'in mytuple"
   ]
  },
  {
   "cell_type": "code",
   "execution_count": 237,
   "id": "7a08b74b-c1fb-44df-9d9f-1d5626e25629",
   "metadata": {},
   "outputs": [
    {
     "name": "stdout",
     "output_type": "stream",
     "text": [
      "set()\n",
      "<class 'set'>\n"
     ]
    }
   ],
   "source": [
    "set_var= set()\n",
    "print(set_var)\n",
    "print(type(set_var))"
   ]
  },
  {
   "cell_type": "code",
   "execution_count": 241,
   "id": "d4e622a0-23f2-4271-8e90-ba6cb4485ca0",
   "metadata": {},
   "outputs": [
    {
     "name": "stdout",
     "output_type": "stream",
     "text": [
      "{'b', 50, 40, 60, 30}\n"
     ]
    }
   ],
   "source": [
    "b = {30, 40, 50, 60, 'b'}\n",
    "print(b)"
   ]
  },
  {
   "cell_type": "code",
   "execution_count": 243,
   "id": "0a1832ab-580a-491c-9bee-522b7e3bb5e0",
   "metadata": {},
   "outputs": [
    {
     "name": "stdout",
     "output_type": "stream",
     "text": [
      "{40, 50, 20, 30}\n"
     ]
    }
   ],
   "source": [
    "s = {30, 20, 50, 40, 20, 20, 20}\n",
    "print(s)"
   ]
  },
  {
   "cell_type": "code",
   "execution_count": 245,
   "id": "c8fccba6-ca6e-4571-8685-1b04d0b3f1b1",
   "metadata": {},
   "outputs": [
    {
     "ename": "TypeError",
     "evalue": "'set' object is not subscriptable",
     "output_type": "error",
     "traceback": [
      "\u001b[1;31m---------------------------------------------------------------------------\u001b[0m",
      "\u001b[1;31mTypeError\u001b[0m                                 Traceback (most recent call last)",
      "Cell \u001b[1;32mIn[245], line 1\u001b[0m\n\u001b[1;32m----> 1\u001b[0m \u001b[38;5;28mprint\u001b[39m(s[\u001b[38;5;241m1\u001b[39m])\n",
      "\u001b[1;31mTypeError\u001b[0m: 'set' object is not subscriptable"
     ]
    }
   ],
   "source": [
    "print(s[1])"
   ]
  },
  {
   "cell_type": "code",
   "execution_count": 247,
   "id": "262023e9-f87a-4e58-8592-a09c7f39429a",
   "metadata": {},
   "outputs": [
    {
     "name": "stdout",
     "output_type": "stream",
     "text": [
      "[4, 5, 6]\n"
     ]
    }
   ],
   "source": [
    "s = list(set([4, 5, 6,4,5,6,4,5]))\n",
    "print(s)"
   ]
  },
  {
   "cell_type": "code",
   "execution_count": 249,
   "id": "b3de92b1-35ab-41de-8c78-5cca2aabb2eb",
   "metadata": {},
   "outputs": [
    {
     "data": {
      "text/plain": [
       "{'a', 'b', 'c'}"
      ]
     },
     "execution_count": 249,
     "metadata": {},
     "output_type": "execute_result"
    }
   ],
   "source": [
    "tup_set = set(('a', 'b', 'c'))\n",
    "tup_set"
   ]
  },
  {
   "cell_type": "code",
   "execution_count": 251,
   "id": "c56193c9-7484-4920-8085-5f9272b74a63",
   "metadata": {},
   "outputs": [
    {
     "data": {
      "text/plain": [
       "{4, 7, 10, 13, 16, 19, 22, 25, 28, 31, 34, 37, 40, 43, 46, 49}"
      ]
     },
     "execution_count": 251,
     "metadata": {},
     "output_type": "execute_result"
    }
   ],
   "source": [
    "i = set(range(4,50,3))\n",
    "i"
   ]
  },
  {
   "cell_type": "code",
   "execution_count": 255,
   "id": "4c0785c2-ce81-4d7d-835c-3aec402498f2",
   "metadata": {},
   "outputs": [
    {
     "data": {
      "text/plain": [
       "set()"
      ]
     },
     "execution_count": 255,
     "metadata": {},
     "output_type": "execute_result"
    }
   ],
   "source": [
    "c = set()\n",
    "c"
   ]
  },
  {
   "cell_type": "code",
   "execution_count": 257,
   "id": "5ccf91c7-feef-4ed6-b4a4-ca3026618e9e",
   "metadata": {},
   "outputs": [
    {
     "data": {
      "text/plain": [
       "{4}"
      ]
     },
     "execution_count": 257,
     "metadata": {},
     "output_type": "execute_result"
    }
   ],
   "source": [
    "c.add(4)\n",
    "c"
   ]
  },
  {
   "cell_type": "code",
   "execution_count": 259,
   "id": "37ee4153-d732-4e74-bc42-2cea0ddda05c",
   "metadata": {},
   "outputs": [
    {
     "data": {
      "text/plain": [
       "{4, 5, 'a'}"
      ]
     },
     "execution_count": 259,
     "metadata": {},
     "output_type": "execute_result"
    }
   ],
   "source": [
    "c.add(5)\n",
    "c.add(4)\n",
    "c.add('a')\n",
    "c"
   ]
  },
  {
   "cell_type": "code",
   "execution_count": 261,
   "id": "087976f4-0529-431f-a75a-5b4aa8a9b99b",
   "metadata": {},
   "outputs": [
    {
     "name": "stdout",
     "output_type": "stream",
     "text": [
      "{1, 3, 6}\n"
     ]
    }
   ],
   "source": [
    "s=set()\n",
    "s.update([6,3,1])\n",
    "print(s)"
   ]
  },
  {
   "cell_type": "code",
   "execution_count": 267,
   "id": "a38c1d3b-f999-43e7-8162-88016d621ec2",
   "metadata": {},
   "outputs": [
    {
     "name": "stdout",
     "output_type": "stream",
     "text": [
      "{1, 2, 3, 5, 6, 8, 9}\n"
     ]
    }
   ],
   "source": [
    "s.update([6, 9], {2, 5, 8})\n",
    "print(s)"
   ]
  },
  {
   "cell_type": "code",
   "execution_count": 269,
   "id": "9ddf85c7-1035-4623-9a0e-b6fcb54344db",
   "metadata": {},
   "outputs": [
    {
     "data": {
      "text/plain": [
       "{4, 5, 'a'}"
      ]
     },
     "execution_count": 269,
     "metadata": {},
     "output_type": "execute_result"
    }
   ],
   "source": [
    "d = c.copy()\n",
    "d"
   ]
  },
  {
   "cell_type": "code",
   "execution_count": 271,
   "id": "4f15dffb-1522-44e3-8e8b-cdbfb08b8e6a",
   "metadata": {},
   "outputs": [
    {
     "data": {
      "text/plain": [
       "{4, 5, 7, 'a'}"
      ]
     },
     "execution_count": 271,
     "metadata": {},
     "output_type": "execute_result"
    }
   ],
   "source": [
    "d.add(7)\n",
    "d"
   ]
  },
  {
   "cell_type": "code",
   "execution_count": 273,
   "id": "c742c0b8-515d-49ae-8fe1-8ac9901ae697",
   "metadata": {},
   "outputs": [
    {
     "data": {
      "text/plain": [
       "{4, 5, 'a'}"
      ]
     },
     "execution_count": 273,
     "metadata": {},
     "output_type": "execute_result"
    }
   ],
   "source": [
    "c"
   ]
  },
  {
   "cell_type": "code",
   "execution_count": 277,
   "id": "51a24723-114c-46c8-b63a-9e13ac6cd2aa",
   "metadata": {},
   "outputs": [
    {
     "name": "stdout",
     "output_type": "stream",
     "text": [
      "{3, 4, 5, 6, 7}\n",
      "{3, 5, 6, 7}\n"
     ]
    }
   ],
   "source": [
    "s = {3, 4, 5, 6, 7}\n",
    "print(s)\n",
    "s.discard(4)\n",
    "print(s)"
   ]
  },
  {
   "cell_type": "raw",
   "id": "b600b0a3-8983-4c5b-af6b-9f98c0d920da",
   "metadata": {},
   "source": [
    "s.discard(8)\n",
    "print(s)"
   ]
  },
  {
   "cell_type": "code",
   "execution_count": 284,
   "id": "a8ad4d15-dbf1-42b5-bc93-286818b614cb",
   "metadata": {},
   "outputs": [
    {
     "name": "stdout",
     "output_type": "stream",
     "text": [
      "{3, 6, 7}\n"
     ]
    }
   ],
   "source": [
    "s.remove(5)\n",
    "print(s)"
   ]
  },
  {
   "cell_type": "code",
   "execution_count": 288,
   "id": "075d7387-5071-4e1d-bdc1-7dc9b0d0341b",
   "metadata": {},
   "outputs": [
    {
     "ename": "KeyError",
     "evalue": "2",
     "output_type": "error",
     "traceback": [
      "\u001b[1;31m---------------------------------------------------------------------------\u001b[0m",
      "\u001b[1;31mKeyError\u001b[0m                                  Traceback (most recent call last)",
      "Cell \u001b[1;32mIn[288], line 1\u001b[0m\n\u001b[1;32m----> 1\u001b[0m s\u001b[38;5;241m.\u001b[39mremove(\u001b[38;5;241m2\u001b[39m)\n",
      "\u001b[1;31mKeyError\u001b[0m: 2"
     ]
    }
   ],
   "source": [
    "s.remove(2)"
   ]
  },
  {
   "cell_type": "code",
   "execution_count": 290,
   "id": "dd8e29d9-bbbe-47cc-954d-348c7a472a30",
   "metadata": {},
   "outputs": [
    {
     "name": "stdout",
     "output_type": "stream",
     "text": [
      "{4, 5, 6, 7, 8, 9, 'partha', 'unmesha'}\n"
     ]
    }
   ],
   "source": [
    "s = {4, 5, 6, 7, 8, 9,'partha', 'unmesha'}\n",
    "s.pop\n",
    "print(s)"
   ]
  },
  {
   "cell_type": "code",
   "execution_count": 292,
   "id": "1217c3a9-e814-4dbf-ad50-460c1ab6153d",
   "metadata": {},
   "outputs": [
    {
     "name": "stdout",
     "output_type": "stream",
     "text": [
      "set()\n"
     ]
    }
   ],
   "source": [
    "s = {2, 3, 4, 5, 6, 7}\n",
    "s.clear()\n",
    "print(s)\n"
   ]
  },
  {
   "cell_type": "code",
   "execution_count": 310,
   "id": "4358aa24-543a-4b4d-98df-2a272d75fc9a",
   "metadata": {},
   "outputs": [
    {
     "ename": "NameError",
     "evalue": "name 's' is not defined",
     "output_type": "error",
     "traceback": [
      "\u001b[1;31m---------------------------------------------------------------------------\u001b[0m",
      "\u001b[1;31mNameError\u001b[0m                                 Traceback (most recent call last)",
      "Cell \u001b[1;32mIn[310], line 3\u001b[0m\n\u001b[0;32m      1\u001b[0m s \u001b[38;5;241m=\u001b[39m {\u001b[38;5;241m2\u001b[39m, \u001b[38;5;241m3\u001b[39m, \u001b[38;5;241m5\u001b[39m, \u001b[38;5;241m6\u001b[39m, \u001b[38;5;241m7\u001b[39m, \u001b[38;5;241m8\u001b[39m}\n\u001b[0;32m      2\u001b[0m \u001b[38;5;28;01mdel\u001b[39;00m s \n\u001b[1;32m----> 3\u001b[0m \u001b[38;5;28mprint\u001b[39m(s)\n",
      "\u001b[1;31mNameError\u001b[0m: name 's' is not defined"
     ]
    }
   ],
   "source": [
    "s = {2, 3, 5, 6, 7, 8}\n",
    "del s \n",
    "print(s)"
   ]
  },
  {
   "cell_type": "code",
   "execution_count": 312,
   "id": "0b528dab-cb58-43d2-a645-813bfba951f6",
   "metadata": {},
   "outputs": [
    {
     "name": "stdout",
     "output_type": "stream",
     "text": [
      "{1, 2, 3, 4, 5, 6, 7}\n"
     ]
    }
   ],
   "source": [
    "set1 = {1, 2, 3, 4, 5}\n",
    "set2 = {3, 4, 5, 6, 7}\n",
    "print(set1 | set2)"
   ]
  },
  {
   "cell_type": "code",
   "execution_count": 314,
   "id": "92862581-e502-4975-9a71-b7289865a474",
   "metadata": {},
   "outputs": [
    {
     "name": "stdout",
     "output_type": "stream",
     "text": [
      "{1, 2, 3, 4, 5, 6, 7}\n"
     ]
    }
   ],
   "source": [
    "print(set1.union(set2))"
   ]
  },
  {
   "cell_type": "code",
   "execution_count": 316,
   "id": "7015234c-3cd4-4e7c-b7bc-cd93cf8db35e",
   "metadata": {},
   "outputs": [
    {
     "data": {
      "text/plain": [
       "{1, 2, 3, 4, 5}"
      ]
     },
     "execution_count": 316,
     "metadata": {},
     "output_type": "execute_result"
    }
   ],
   "source": [
    "set1"
   ]
  },
  {
   "cell_type": "code",
   "execution_count": 318,
   "id": "6d763aac-87a5-4a00-b410-aad701dc8c19",
   "metadata": {},
   "outputs": [
    {
     "name": "stdout",
     "output_type": "stream",
     "text": [
      "{3, 4, 5}\n"
     ]
    }
   ],
   "source": [
    "print(set1 & set2)"
   ]
  },
  {
   "cell_type": "code",
   "execution_count": 320,
   "id": "7a5a9fac-05f9-4946-912a-46e147c68730",
   "metadata": {},
   "outputs": [
    {
     "name": "stdout",
     "output_type": "stream",
     "text": [
      "{3, 4, 5}\n"
     ]
    }
   ],
   "source": [
    "print(set1.intersection(set2))"
   ]
  },
  {
   "cell_type": "code",
   "execution_count": 322,
   "id": "75cc9e68-fafb-4212-b6be-ef31a646df2b",
   "metadata": {},
   "outputs": [
    {
     "name": "stdout",
     "output_type": "stream",
     "text": [
      "{1, 2}\n"
     ]
    }
   ],
   "source": [
    "print(set1 - set2)"
   ]
  },
  {
   "cell_type": "code",
   "execution_count": 324,
   "id": "c63a17fc-3e86-4fee-b351-88430c8d4a8d",
   "metadata": {},
   "outputs": [
    {
     "name": "stdout",
     "output_type": "stream",
     "text": [
      "{1, 2}\n"
     ]
    }
   ],
   "source": [
    "print(set1.difference(set2))"
   ]
  },
  {
   "cell_type": "code",
   "execution_count": 326,
   "id": "ff9fc76b-975a-4b5c-82f3-810a65d4d410",
   "metadata": {},
   "outputs": [
    {
     "name": "stdout",
     "output_type": "stream",
     "text": [
      "{6, 7}\n"
     ]
    }
   ],
   "source": [
    "print(set2 - set1)"
   ]
  },
  {
   "cell_type": "code",
   "execution_count": 330,
   "id": "0d61c938-33ac-45ac-8efb-9406493fd5a9",
   "metadata": {},
   "outputs": [
    {
     "data": {
      "text/plain": [
       "{1, 2}"
      ]
     },
     "execution_count": 330,
     "metadata": {},
     "output_type": "execute_result"
    }
   ],
   "source": [
    "set1.difference_update(set2)\n",
    "set1"
   ]
  },
  {
   "cell_type": "code",
   "execution_count": 332,
   "id": "5693528a-9e7d-4293-b862-af218660a614",
   "metadata": {},
   "outputs": [
    {
     "data": {
      "text/plain": [
       "{3, 4, 5, 6, 7}"
      ]
     },
     "execution_count": 332,
     "metadata": {},
     "output_type": "execute_result"
    }
   ],
   "source": [
    "set2.difference_update(set1)\n",
    "set2"
   ]
  },
  {
   "cell_type": "code",
   "execution_count": 334,
   "id": "5f483eee-cae9-4bbd-b1fd-7cbe8f9a0614",
   "metadata": {},
   "outputs": [
    {
     "name": "stdout",
     "output_type": "stream",
     "text": [
      "{2, 3, 4, 7, 8, 9}\n"
     ]
    }
   ],
   "source": [
    "set1 = {2, 3, 4, 5, 6}\n",
    "set2 = {5, 6, 7, 8, 9}\n",
    "print(set1^set2)"
   ]
  },
  {
   "cell_type": "code",
   "execution_count": 340,
   "id": "b17d2368-ffbd-4705-84cd-7bc21f0d9ab2",
   "metadata": {},
   "outputs": [
    {
     "name": "stdout",
     "output_type": "stream",
     "text": [
      "{2, 3, 4, 7, 8, 9}\n"
     ]
    }
   ],
   "source": [
    "print(set1.symmetric_difference(set2))\n",
    "      "
   ]
  },
  {
   "cell_type": "code",
   "execution_count": 344,
   "id": "8388f8ac-70f5-4a47-a421-27fe7ebdd48f",
   "metadata": {},
   "outputs": [
    {
     "data": {
      "text/plain": [
       "{2, 3, 4, 7, 8, 9}"
      ]
     },
     "execution_count": 344,
     "metadata": {},
     "output_type": "execute_result"
    }
   ],
   "source": [
    "set2.symmetric_difference_update(set1)\n",
    "set2"
   ]
  },
  {
   "cell_type": "code",
   "execution_count": 346,
   "id": "dbb7ca16-8d08-4951-9a2d-f0c1f002d1ef",
   "metadata": {},
   "outputs": [
    {
     "data": {
      "text/plain": [
       "True"
      ]
     },
     "execution_count": 346,
     "metadata": {},
     "output_type": "execute_result"
    }
   ],
   "source": [
    "c = {7, 8, 9}\n",
    "d = {7, 8, 9, 10}\n",
    "c.issubset(d)\n"
   ]
  },
  {
   "cell_type": "code",
   "execution_count": 348,
   "id": "de8a5f4c-358a-4090-9435-02f948738a3b",
   "metadata": {},
   "outputs": [
    {
     "data": {
      "text/plain": [
       "False"
      ]
     },
     "execution_count": 348,
     "metadata": {},
     "output_type": "execute_result"
    }
   ],
   "source": [
    "d.issubset(c)"
   ]
  },
  {
   "cell_type": "code",
   "execution_count": 350,
   "id": "646d8f74-c65e-4d04-8539-e1e564df54c4",
   "metadata": {},
   "outputs": [
    {
     "data": {
      "text/plain": [
       "True"
      ]
     },
     "execution_count": 350,
     "metadata": {},
     "output_type": "execute_result"
    }
   ],
   "source": [
    "d.issuperset(c)\n"
   ]
  },
  {
   "cell_type": "code",
   "execution_count": 352,
   "id": "ca7b773f-0b1b-4779-b503-7ef9bec6f878",
   "metadata": {},
   "outputs": [
    {
     "data": {
      "text/plain": [
       "False"
      ]
     },
     "execution_count": 352,
     "metadata": {},
     "output_type": "execute_result"
    }
   ],
   "source": [
    "c.isdisjoint(d)"
   ]
  },
  {
   "cell_type": "code",
   "execution_count": 354,
   "id": "cc148b9e-055c-4975-a374-79d87b1e383b",
   "metadata": {},
   "outputs": [
    {
     "data": {
      "text/plain": [
       "dict"
      ]
     },
     "execution_count": 354,
     "metadata": {},
     "output_type": "execute_result"
    }
   ],
   "source": [
    "dic={}\n",
    "type(dic)"
   ]
  },
  {
   "cell_type": "code",
   "execution_count": 356,
   "id": "dccf3401-5461-4047-9620-a2a8f7cb5af7",
   "metadata": {},
   "outputs": [
    {
     "name": "stdout",
     "output_type": "stream",
     "text": [
      "{}\n"
     ]
    }
   ],
   "source": [
    "print(dic)"
   ]
  },
  {
   "cell_type": "code",
   "execution_count": 358,
   "id": "98f9103f-9e4c-4a0d-8133-961f3b5175ec",
   "metadata": {},
   "outputs": [
    {
     "data": {
      "text/plain": [
       "dict"
      ]
     },
     "execution_count": 358,
     "metadata": {},
     "output_type": "execute_result"
    }
   ],
   "source": [
    "d=dict()\n",
    "type(d)"
   ]
  },
  {
   "cell_type": "code",
   "execution_count": 360,
   "id": "90c86aaa-fbc1-4967-975d-b39fd2c4cf3b",
   "metadata": {},
   "outputs": [
    {
     "name": "stdout",
     "output_type": "stream",
     "text": [
      "{}\n"
     ]
    }
   ],
   "source": [
    "print(d)"
   ]
  },
  {
   "cell_type": "code",
   "execution_count": 362,
   "id": "d1f84d10-4f31-41b8-9bb7-03a141c6578e",
   "metadata": {},
   "outputs": [
    {
     "data": {
      "text/plain": [
       "dict"
      ]
     },
     "execution_count": 362,
     "metadata": {},
     "output_type": "execute_result"
    }
   ],
   "source": [
    "my_dict={\"bike1\": \"yamaha\" , \"bike2\":\"HONDA\", \"bike3\":\"ninja\"}\n",
    "type(my_dict)"
   ]
  },
  {
   "cell_type": "code",
   "execution_count": 364,
   "id": "e8f5677b-aada-497d-8fb4-18251e4f1518",
   "metadata": {},
   "outputs": [
    {
     "data": {
      "text/plain": [
       "'yamaha'"
      ]
     },
     "execution_count": 364,
     "metadata": {},
     "output_type": "execute_result"
    }
   ],
   "source": [
    "my_dict['bike1']"
   ]
  },
  {
   "cell_type": "code",
   "execution_count": 370,
   "id": "97460496-f264-4517-a0d5-397c18276302",
   "metadata": {},
   "outputs": [
    {
     "data": {
      "text/plain": [
       "[5, 6, 16]"
      ]
     },
     "execution_count": 370,
     "metadata": {},
     "output_type": "execute_result"
    }
   ],
   "source": [
    "dict1 = {'ring1': 678, 'ring2': [5,6,16], 'ring3': (67,4,98), 'ring4': ['item1', 'item2', 'item3']}\n",
    "dict1['ring2']"
   ]
  },
  {
   "cell_type": "code",
   "execution_count": 372,
   "id": "c46d37a3-2d1a-4a15-b9ec-138c5e559f61",
   "metadata": {},
   "outputs": [
    {
     "data": {
      "text/plain": [
       "dict_keys(['ring1', 'ring2', 'ring3', 'ring4'])"
      ]
     },
     "execution_count": 372,
     "metadata": {},
     "output_type": "execute_result"
    }
   ],
   "source": [
    "dict1.keys()"
   ]
  },
  {
   "cell_type": "code",
   "execution_count": 374,
   "id": "503214ca-a92f-4bbe-a7ea-e0c2eec11bba",
   "metadata": {},
   "outputs": [
    {
     "data": {
      "text/plain": [
       "dict_values([678, [5, 6, 16], (67, 4, 98), ['item1', 'item2', 'item3']])"
      ]
     },
     "execution_count": 374,
     "metadata": {},
     "output_type": "execute_result"
    }
   ],
   "source": [
    "dict1.values()"
   ]
  },
  {
   "cell_type": "code",
   "execution_count": 376,
   "id": "0eb82e85-1165-453a-bb3f-d88f2b5e6818",
   "metadata": {},
   "outputs": [
    {
     "data": {
      "text/plain": [
       "dict_items([('bike1', 'yamaha'), ('bike2', 'HONDA'), ('bike3', 'ninja')])"
      ]
     },
     "execution_count": 376,
     "metadata": {},
     "output_type": "execute_result"
    }
   ],
   "source": [
    "my_dict.items()"
   ]
  },
  {
   "cell_type": "code",
   "execution_count": 380,
   "id": "f42c82b1-912d-44f0-9a3f-beca4d4d7bef",
   "metadata": {},
   "outputs": [
    {
     "data": {
      "text/plain": [
       "{'bike1': 'yamaha',\n",
       " 'bike2': 'HONDA',\n",
       " 'bike3': 'ninja',\n",
       " 'bike4': 'hayabusa 2.0'}"
      ]
     },
     "execution_count": 380,
     "metadata": {},
     "output_type": "execute_result"
    }
   ],
   "source": [
    "my_dict['bike4']='hayabusa 2.0'\n",
    "my_dict"
   ]
  },
  {
   "cell_type": "code",
   "execution_count": 382,
   "id": "5809c931-f0bc-4a81-8ae8-0ee7a438685a",
   "metadata": {},
   "outputs": [
    {
     "data": {
      "text/plain": [
       "{'bike1': 'yamaha',\n",
       " 'bike2': 'HONDA',\n",
       " 'bike3': 'ninja',\n",
       " 'bike4': 'hayabusa 2.0'}"
      ]
     },
     "execution_count": 382,
     "metadata": {},
     "output_type": "execute_result"
    }
   ],
   "source": [
    "my_dict['bike1']='yamaha'\n",
    "my_dict"
   ]
  },
  {
   "cell_type": "code",
   "execution_count": 390,
   "id": "fb9b929e-0b68-4c38-b5d8-925b2ba6c5b8",
   "metadata": {},
   "outputs": [
    {
     "ename": "SyntaxError",
     "evalue": "unterminated string literal (detected at line 4) (999680582.py, line 4)",
     "output_type": "error",
     "traceback": [
      "\u001b[1;36m  Cell \u001b[1;32mIn[390], line 4\u001b[1;36m\u001b[0m\n\u001b[1;33m    car_type={'car1':car1_model,'car2':car2_model,'car3_model}\u001b[0m\n\u001b[1;37m                                                  ^\u001b[0m\n\u001b[1;31mSyntaxError\u001b[0m\u001b[1;31m:\u001b[0m unterminated string literal (detected at line 4)\n"
     ]
    }
   ],
   "source": [
    "car1_model={'ford':1986}\n",
    "car2_model={'hyundai':1870}\n",
    "car3_model={'tata':1976}\n",
    "car_type={'car1':car1_model,'car2':car2_model,'car3_model}\n",
    "print(car_type)\n",
    "            "
   ]
  },
  {
   "cell_type": "code",
   "execution_count": 392,
   "id": "5a0648ce-4dfe-4a01-b733-751f648ebbcd",
   "metadata": {},
   "outputs": [
    {
     "ename": "NameError",
     "evalue": "name 'car_type' is not defined",
     "output_type": "error",
     "traceback": [
      "\u001b[1;31m---------------------------------------------------------------------------\u001b[0m",
      "\u001b[1;31mNameError\u001b[0m                                 Traceback (most recent call last)",
      "Cell \u001b[1;32mIn[392], line 1\u001b[0m\n\u001b[1;32m----> 1\u001b[0m \u001b[38;5;28mprint\u001b[39m(car_type[\u001b[38;5;124m'\u001b[39m\u001b[38;5;124mcar1\u001b[39m\u001b[38;5;124m'\u001b[39m])\n",
      "\u001b[1;31mNameError\u001b[0m: name 'car_type' is not defined"
     ]
    }
   ],
   "source": [
    "print(car_type['car1'])"
   ]
  },
  {
   "cell_type": "code",
   "execution_count": 394,
   "id": "cbf6ee6f-b9ef-45bf-bc8e-3fd280850d48",
   "metadata": {},
   "outputs": [
    {
     "ename": "NameError",
     "evalue": "name 'car_type' is not defined",
     "output_type": "error",
     "traceback": [
      "\u001b[1;31m---------------------------------------------------------------------------\u001b[0m",
      "\u001b[1;31mNameError\u001b[0m                                 Traceback (most recent call last)",
      "Cell \u001b[1;32mIn[394], line 1\u001b[0m\n\u001b[1;32m----> 1\u001b[0m \u001b[38;5;28mprint\u001b[39m(car_type[\u001b[38;5;124m'\u001b[39m\u001b[38;5;124mcar1\u001b[39m\u001b[38;5;124m'\u001b[39m][\u001b[38;5;124m'\u001b[39m\u001b[38;5;124mMercedes\u001b[39m\u001b[38;5;124m'\u001b[39m])\n",
      "\u001b[1;31mNameError\u001b[0m: name 'car_type' is not defined"
     ]
    }
   ],
   "source": [
    "print(car_type['car1']['Mercedes'])"
   ]
  },
  {
   "cell_type": "code",
   "execution_count": null,
   "id": "0716aaa7-f371-4a3b-aafe-a5fbcd24eb79",
   "metadata": {},
   "outputs": [],
   "source": []
  }
 ],
 "metadata": {
  "kernelspec": {
   "display_name": "Python 3 (ipykernel)",
   "language": "python",
   "name": "python3"
  },
  "language_info": {
   "codemirror_mode": {
    "name": "ipython",
    "version": 3
   },
   "file_extension": ".py",
   "mimetype": "text/x-python",
   "name": "python",
   "nbconvert_exporter": "python",
   "pygments_lexer": "ipython3",
   "version": "3.11.7"
  }
 },
 "nbformat": 4,
 "nbformat_minor": 5
}
