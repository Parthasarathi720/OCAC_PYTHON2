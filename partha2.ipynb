{
 "cells": [
  {
   "cell_type": "code",
   "execution_count": 1,
   "id": "5ed72c26-1113-4d66-bbce-7d32c668af75",
   "metadata": {},
   "outputs": [
    {
     "name": "stdout",
     "output_type": "stream",
     "text": [
      "210\n"
     ]
    }
   ],
   "source": [
    "print(210)"
   ]
  },
  {
   "cell_type": "code",
   "execution_count": 2,
   "id": "01ec0363-0a25-4a0c-b9fc-6bcd7b935d7c",
   "metadata": {},
   "outputs": [
    {
     "name": "stdout",
     "output_type": "stream",
     "text": [
      "partha\n"
     ]
    }
   ],
   "source": [
    "print(\"partha\")"
   ]
  },
  {
   "cell_type": "code",
   "execution_count": 3,
   "id": "c884baa0-d917-416a-b0c9-5d3f490620db",
   "metadata": {},
   "outputs": [
    {
     "name": "stdout",
     "output_type": "stream",
     "text": [
      "partha 72@@#\n"
     ]
    }
   ],
   "source": [
    "print(\"partha 72@@#\")"
   ]
  },
  {
   "cell_type": "code",
   "execution_count": 4,
   "id": "c408b5f9-5c29-4703-a081-3552e43544de",
   "metadata": {},
   "outputs": [
    {
     "name": "stdout",
     "output_type": "stream",
     "text": [
      "72\n"
     ]
    }
   ],
   "source": [
    "b=72\n",
    "print(b)"
   ]
  },
  {
   "cell_type": "code",
   "execution_count": 5,
   "id": "8e951370-2b5a-4be5-8b7d-763a645f7f23",
   "metadata": {},
   "outputs": [
    {
     "name": "stdout",
     "output_type": "stream",
     "text": [
      "72\n"
     ]
    }
   ],
   "source": [
    "partha=72\n",
    "print(partha)"
   ]
  },
  {
   "cell_type": "code",
   "execution_count": 6,
   "id": "4cfc7c3e-9864-492a-a5e0-2c718d8817fa",
   "metadata": {},
   "outputs": [
    {
     "name": "stdout",
     "output_type": "stream",
     "text": [
      "ashok\n"
     ]
    }
   ],
   "source": [
    "print(\"ashok\")"
   ]
  },
  {
   "cell_type": "code",
   "execution_count": 7,
   "id": "0b933932-9650-4315-9f29-a4037cf8bc7f",
   "metadata": {},
   "outputs": [
    {
     "name": "stdout",
     "output_type": "stream",
     "text": [
      "100 200 300 400\n"
     ]
    }
   ],
   "source": [
    "a=100\n",
    "b=200\n",
    "c=300\n",
    "d=400\n",
    "\n",
    "print(a,b,c,d)"
   ]
  },
  {
   "cell_type": "code",
   "execution_count": 8,
   "id": "40ea8f29-008e-4240-9333-4676e20933c3",
   "metadata": {},
   "outputs": [
    {
     "name": "stdout",
     "output_type": "stream",
     "text": [
      "30\n"
     ]
    },
    {
     "data": {
      "text/plain": [
       "int"
      ]
     },
     "execution_count": 8,
     "metadata": {},
     "output_type": "execute_result"
    }
   ],
   "source": [
    "a=30\n",
    "print(a)\n",
    "type(a)"
   ]
  },
  {
   "cell_type": "code",
   "execution_count": 9,
   "id": "f2ccb9d5-f204-4d7f-89cc-6d5baebd1d7f",
   "metadata": {},
   "outputs": [
    {
     "name": "stdout",
     "output_type": "stream",
     "text": [
      "35\n"
     ]
    },
    {
     "data": {
      "text/plain": [
       "str"
      ]
     },
     "execution_count": 9,
     "metadata": {},
     "output_type": "execute_result"
    }
   ],
   "source": [
    "a='35'\n",
    "print(a)\n",
    "type(a)"
   ]
  },
  {
   "cell_type": "code",
   "execution_count": 10,
   "id": "ed74e3c8-f461-45d2-88bc-b2c156be96f9",
   "metadata": {},
   "outputs": [
    {
     "name": "stdout",
     "output_type": "stream",
     "text": [
      "300\n"
     ]
    }
   ],
   "source": [
    "# print function in python 3\n",
    "a=100\n",
    "b=200\n",
    "c=a+b\n",
    "print(c)\n"
   ]
  },
  {
   "cell_type": "code",
   "execution_count": 11,
   "id": "87aab1e3-8f24-4dac-8cd0-4bd8a3900048",
   "metadata": {},
   "outputs": [
    {
     "name": "stdout",
     "output_type": "stream",
     "text": [
      "143\n"
     ]
    }
   ],
   "source": [
    "a=56\n",
    "b=87\n",
    "print(a+b)"
   ]
  },
  {
   "cell_type": "code",
   "execution_count": 12,
   "id": "b5d0d9a2-fa23-45c7-b5b9-703762ead480",
   "metadata": {},
   "outputs": [
    {
     "name": "stdout",
     "output_type": "stream",
     "text": [
      "90\n"
     ]
    }
   ],
   "source": [
    "print(34+56)"
   ]
  },
  {
   "cell_type": "code",
   "execution_count": 13,
   "id": "951e6221-9d8f-4965-84ba-744af78c0274",
   "metadata": {},
   "outputs": [
    {
     "name": "stdout",
     "output_type": "stream",
     "text": [
      "56 43 67 23\n"
     ]
    }
   ],
   "source": [
    "a=56\n",
    "b=43\n",
    "c=67\n",
    "d=23\n",
    "\n",
    "print(a,b,c,d)"
   ]
  },
  {
   "cell_type": "code",
   "execution_count": null,
   "id": "66bdc473-a684-48d0-b33c-e7e3b01ff360",
   "metadata": {},
   "outputs": [],
   "source": []
  },
  {
   "cell_type": "code",
   "execution_count": 14,
   "id": "9a217235-c01f-4c9a-aa90-2af47adc03e2",
   "metadata": {},
   "outputs": [
    {
     "name": "stdout",
     "output_type": "stream",
     "text": [
      "56:43:67:23\n"
     ]
    }
   ],
   "source": [
    "a=56\n",
    "b=43\n",
    "c=67\n",
    "d=23\n",
    "\n",
    "print(a,b,c,d,sep=\":\")"
   ]
  },
  {
   "cell_type": "code",
   "execution_count": 15,
   "id": "798e3e26-4a51-499c-a28b-e88aa831cb63",
   "metadata": {},
   "outputs": [
    {
     "name": "stdout",
     "output_type": "stream",
     "text": [
      "The value of a :  56\n"
     ]
    }
   ],
   "source": [
    "a=56\n",
    "print(\"The value of a : \",a) "
   ]
  },
  {
   "cell_type": "code",
   "execution_count": 16,
   "id": "35f3f089-f024-4523-81e8-c02d5510b92f",
   "metadata": {},
   "outputs": [],
   "source": [
    "first_name='partha'\n",
    "last_name='gudu'"
   ]
  },
  {
   "cell_type": "code",
   "execution_count": 17,
   "id": "14fa9815-a307-4d8a-a24e-d8995ca41d26",
   "metadata": {},
   "outputs": [
    {
     "name": "stdout",
     "output_type": "stream",
     "text": [
      "Name gudu partha\n"
     ]
    }
   ],
   "source": [
    "print(\"Name\",last_name,first_name)\n"
   ]
  },
  {
   "cell_type": "code",
   "execution_count": 3,
   "id": "3686ff56-9f56-45bc-8721-42840cb1b141",
   "metadata": {},
   "outputs": [
    {
     "ename": "NameError",
     "evalue": "name 'first_name' is not defined",
     "output_type": "error",
     "traceback": [
      "\u001b[1;31m---------------------------------------------------------------------------\u001b[0m",
      "\u001b[1;31mNameError\u001b[0m                                 Traceback (most recent call last)",
      "Cell \u001b[1;32mIn[3], line 1\u001b[0m\n\u001b[1;32m----> 1\u001b[0m \u001b[38;5;28mprint\u001b[39m(\u001b[38;5;124m\"\u001b[39m\u001b[38;5;124mMy first name is:\u001b[39m\u001b[38;5;124m\"\u001b[39m,first_name,\u001b[38;5;124m\"\u001b[39m\u001b[38;5;124mand last name is:\u001b[39m\u001b[38;5;124m\"\u001b[39m,last_name)\n",
      "\u001b[1;31mNameError\u001b[0m: name 'first_name' is not defined"
     ]
    }
   ],
   "source": [
    "print(\"My first name is:\",first_name,\"and last name is:\",last_name)"
   ]
  },
  {
   "cell_type": "code",
   "execution_count": 6,
   "id": "8bca3f02-93d1-4cdb-9bc2-e62744c57875",
   "metadata": {},
   "outputs": [
    {
     "ename": "NameError",
     "evalue": "name 'first_name' is not defined",
     "output_type": "error",
     "traceback": [
      "\u001b[1;31m---------------------------------------------------------------------------\u001b[0m",
      "\u001b[1;31mNameError\u001b[0m                                 Traceback (most recent call last)",
      "Cell \u001b[1;32mIn[6], line 1\u001b[0m\n\u001b[1;32m----> 1\u001b[0m \u001b[38;5;28mprint\u001b[39m(\u001b[38;5;124m\"\u001b[39m\u001b[38;5;124mMy first name is: \u001b[39m\u001b[38;5;132;01m{}\u001b[39;00m\u001b[38;5;124m and last name is: \u001b[39m\u001b[38;5;132;01m{}\u001b[39;00m\u001b[38;5;124m\"\u001b[39m\u001b[38;5;241m.\u001b[39mformat(first_name,last_name))\n",
      "\u001b[1;31mNameError\u001b[0m: name 'first_name' is not defined"
     ]
    }
   ],
   "source": [
    "print(\"My first name is: {} and last name is: {}\".format(first_name,last_name))"
   ]
  },
  {
   "cell_type": "code",
   "execution_count": null,
   "id": "37543c98-78b1-44ae-b2d3-4d505b31ac32",
   "metadata": {},
   "outputs": [],
   "source": []
  }
 ],
 "metadata": {
  "kernelspec": {
   "display_name": "Python 3 (ipykernel)",
   "language": "python",
   "name": "python3"
  },
  "language_info": {
   "codemirror_mode": {
    "name": "ipython",
    "version": 3
   },
   "file_extension": ".py",
   "mimetype": "text/x-python",
   "name": "python",
   "nbconvert_exporter": "python",
   "pygments_lexer": "ipython3",
   "version": "3.11.7"
  }
 },
 "nbformat": 4,
 "nbformat_minor": 5
}
