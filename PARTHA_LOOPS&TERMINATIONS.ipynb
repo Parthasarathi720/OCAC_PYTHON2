{
 "cells": [
  {
   "cell_type": "code",
   "execution_count": 1,
   "id": "238ea6b8-ab1b-49a2-a1b2-38b359999122",
   "metadata": {},
   "outputs": [
    {
     "name": "stdout",
     "output_type": "stream",
     "text": [
      "1\n",
      "2\n",
      "3\n",
      "4\n",
      "5\n"
     ]
    }
   ],
   "source": [
    "seq = [1,2,3,4,5]\n",
    "for i in seq:\n",
    "    print(i)"
   ]
  },
  {
   "cell_type": "code",
   "execution_count": 3,
   "id": "106a3829-d657-4043-a432-6cd9498ad9ab",
   "metadata": {},
   "outputs": [
    {
     "name": "stdout",
     "output_type": "stream",
     "text": [
      "1\n",
      "2\n",
      "3\n",
      "4\n",
      "5\n"
     ]
    }
   ],
   "source": [
    "seq = [1,2,3,4,5]\n",
    "for item in seq:\n",
    "    print(item)"
   ]
  },
  {
   "cell_type": "code",
   "execution_count": 5,
   "id": "a8356fe4-acb5-4195-8e33-9916b628cee0",
   "metadata": {},
   "outputs": [
    {
     "name": "stdout",
     "output_type": "stream",
     "text": [
      "apple\n",
      "banana\n",
      "cherry\n",
      "mango\n"
     ]
    }
   ],
   "source": [
    "fruits = ['apple','banana','cherry','mango']\n",
    "for x in fruits:\n",
    "    print(x)"
   ]
  },
  {
   "cell_type": "code",
   "execution_count": 7,
   "id": "4363b713-06c5-42ac-b0ea-5b0ecf196419",
   "metadata": {},
   "outputs": [
    {
     "name": "stdout",
     "output_type": "stream",
     "text": [
      "123456"
     ]
    }
   ],
   "source": [
    "list1=[1,2,3,4,5,6]\n",
    "for i in list1:\n",
    "    print(i,end='')"
   ]
  },
  {
   "cell_type": "code",
   "execution_count": 9,
   "id": "44884b35-7409-4828-bc65-96f9fbadb4bc",
   "metadata": {},
   "outputs": [
    {
     "name": "stdout",
     "output_type": "stream",
     "text": [
      "1 2 3 "
     ]
    }
   ],
   "source": [
    "a=\"123\"\n",
    "for char in a:\n",
    "    print(char,end=' ')"
   ]
  },
  {
   "cell_type": "code",
   "execution_count": 23,
   "id": "f074be1a-fefc-4119-ad77-e8d0b0f06246",
   "metadata": {},
   "outputs": [
    {
     "name": "stdout",
     "output_type": "stream",
     "text": [
      "0 hello\n",
      "1 hello\n",
      "2 hello\n",
      "3 hello\n",
      "4 hello\n",
      "5 hello\n",
      "6 hello\n",
      "7 hello\n",
      "8 hello\n",
      "9 hello\n"
     ]
    }
   ],
   "source": [
    "for x in range(10):\n",
    "    print(x,\"hello\")"
   ]
  },
  {
   "cell_type": "code",
   "execution_count": 25,
   "id": "15a0e016-f693-48d6-a883-99215e143769",
   "metadata": {},
   "outputs": [
    {
     "name": "stdout",
     "output_type": "stream",
     "text": [
      "1 2 3 4 5 6 7 8 9 10 "
     ]
    }
   ],
   "source": [
    "for i in range(1,11):\n",
    "    print(i,end=\" \")"
   ]
  },
  {
   "cell_type": "code",
   "execution_count": 27,
   "id": "5ca7dd9e-b209-4a04-99a9-e1c1f7d7ddb9",
   "metadata": {},
   "outputs": [
    {
     "name": "stdout",
     "output_type": "stream",
     "text": [
      "11\n",
      "12\n",
      "13\n",
      "14\n",
      "15\n",
      "16\n",
      "17\n",
      "18\n",
      "19\n",
      "20\n",
      "21\n",
      "22\n",
      "23\n",
      "24\n",
      "25\n",
      "26\n",
      "27\n",
      "28\n",
      "29\n",
      "30\n",
      "31\n",
      "32\n",
      "33\n",
      "34\n",
      "35\n",
      "36\n",
      "37\n",
      "38\n",
      "39\n",
      "40\n",
      "41\n",
      "42\n",
      "43\n",
      "44\n",
      "45\n",
      "46\n",
      "47\n",
      "48\n",
      "49\n",
      "50\n"
     ]
    }
   ],
   "source": [
    "for i in range(11,51):\n",
    "    print(i)"
   ]
  },
  {
   "cell_type": "code",
   "execution_count": 29,
   "id": "728c5aab-9f81-4870-ac43-ba25ea7b1b65",
   "metadata": {},
   "outputs": [
    {
     "name": "stdout",
     "output_type": "stream",
     "text": [
      "100 98 96 94 92 90 88 86 84 82 80 78 76 74 72 70 68 66 64 62 60 58 56 54 52 50 48 46 44 42 40 38 36 34 32 30 28 26 24 22 20 18 16 14 12 10 8 6 4 2 "
     ]
    }
   ],
   "source": [
    "for i in range(100,1,-2):\n",
    "    print(i,end=' ')"
   ]
  },
  {
   "cell_type": "code",
   "execution_count": 33,
   "id": "01b0cc77-7c74-45f3-a42e-dc6446001ed7",
   "metadata": {},
   "outputs": [
    {
     "name": "stdout",
     "output_type": "stream",
     "text": [
      "12\n",
      "14\n",
      "16\n",
      "18\n",
      "20\n",
      "22\n",
      "24\n",
      "26\n",
      "28\n",
      "30\n",
      "32\n",
      "34\n",
      "36\n",
      "38\n",
      "40\n",
      "42\n",
      "44\n",
      "46\n",
      "48\n"
     ]
    }
   ],
   "source": [
    "for i in range(12,50,2):\n",
    "    print(i)"
   ]
  },
  {
   "cell_type": "code",
   "execution_count": 35,
   "id": "eb8b8c91-05a5-4572-9e07-dc29ea69d644",
   "metadata": {},
   "outputs": [
    {
     "name": "stdout",
     "output_type": "stream",
     "text": [
      "item at index  0  is:  item1\n",
      "item at index  1  is:  item2\n",
      "item at index  2  is:  item3\n",
      "item at index  3  is:  item4\n"
     ]
    }
   ],
   "source": [
    "items = ['item1','item2','item3','item4']\n",
    "for i in range(len(items)):\n",
    "    print(\"item at index \",i,\" is: \",items[i])"
   ]
  },
  {
   "cell_type": "code",
   "execution_count": 37,
   "id": "92c9ce8e-993f-49fd-ab14-99aaeeeff72f",
   "metadata": {},
   "outputs": [
    {
     "name": "stdout",
     "output_type": "stream",
     "text": [
      "sum: 1\n",
      "sum: 3\n",
      "sum: 6\n",
      "sum: 10\n"
     ]
    }
   ],
   "source": [
    "a=[1,2,3,4]\n",
    "sum1=0\n",
    "for i in a:\n",
    "    sum1=sum1+i\n",
    "    print(\"sum:\",sum1)"
   ]
  },
  {
   "cell_type": "code",
   "execution_count": 39,
   "id": "a8b65029-29f9-4e88-b8c5-196035279240",
   "metadata": {},
   "outputs": [
    {
     "name": "stdout",
     "output_type": "stream",
     "text": [
      "after 1 iteration the sum: 1\n",
      "after 2 iteration the sum: 3\n",
      "after 3 iteration the sum: 6\n",
      "after 4 iteration the sum: 10\n"
     ]
    }
   ],
   "source": [
    "a=[1,2,3,4]\n",
    "sum1 =0\n",
    "for i in a:\n",
    "    sum1=sum1+i\n",
    "    print(\"after\",i,\"iteration the sum:\",sum1)"
   ]
  },
  {
   "cell_type": "code",
   "execution_count": 41,
   "id": "58aa57a7-6982-4482-b1af-1ca73f1b46a4",
   "metadata": {},
   "outputs": [
    {
     "name": "stdout",
     "output_type": "stream",
     "text": [
      "I like pop\n"
     ]
    }
   ],
   "source": [
    "genre = ['pop','rock','jazz','sapna']\n",
    "for i in range(1):\n",
    "    print(\"I like\",genre[i])"
   ]
  },
  {
   "cell_type": "code",
   "execution_count": 43,
   "id": "284bd199-223c-44c3-85af-9ca571d2aa1d",
   "metadata": {},
   "outputs": [
    {
     "name": "stdin",
     "output_type": "stream",
     "text": [
      "enter lower bound values: 29\n",
      "enter upper bound values: 79\n"
     ]
    },
    {
     "name": "stdout",
     "output_type": "stream",
     "text": [
      "30,32,34,36,38,40,42,44,46,48,50,52,54,56,58,60,62,64,66,68,70,72,74,76,78,"
     ]
    }
   ],
   "source": [
    "ib=int(input('enter lower bound values:'))\n",
    "ub=int(input('enter upper bound values:'))\n",
    "for i in range(ib,ub+1):\n",
    "    if i%2==0:\n",
    "        print(i,end=',')"
   ]
  },
  {
   "cell_type": "code",
   "execution_count": 45,
   "id": "2056b10a-49c1-4c03-abcf-47976e08ca23",
   "metadata": {},
   "outputs": [
    {
     "name": "stdin",
     "output_type": "stream",
     "text": [
      "enter the number: 78\n"
     ]
    },
    {
     "name": "stdout",
     "output_type": "stream",
     "text": [
      "* * * * * * * * * * * * * * * * * * * * * * * * * * * * * * * * * * * * * * * * * * * * * * * * * * * * * * * * * * * * * * * * * * * * * * * * * * * * * * "
     ]
    }
   ],
   "source": [
    "n=int(input(\"enter the number:\"))\n",
    "for i in range(n):\n",
    "    print(\"*\",end=\" \")"
   ]
  },
  {
   "cell_type": "code",
   "execution_count": 47,
   "id": "3dda5f81-9d32-458a-b635-cf9785c6c101",
   "metadata": {},
   "outputs": [
    {
     "name": "stdin",
     "output_type": "stream",
     "text": [
      " 67\n",
      " 90\n"
     ]
    },
    {
     "name": "stdout",
     "output_type": "stream",
     "text": [
      "68 \n",
      "sum is 68\n",
      "70 \n",
      "sum is 138\n",
      "72 \n",
      "sum is 210\n",
      "74 \n",
      "sum is 284\n",
      "76 \n",
      "sum is 360\n",
      "78 \n",
      "sum is 438\n",
      "80 \n",
      "sum is 518\n",
      "82 \n",
      "sum is 600\n",
      "84 \n",
      "sum is 684\n",
      "86 \n",
      "sum is 770\n",
      "88 \n",
      "sum is 858\n",
      "90 \n",
      "sum is 948\n"
     ]
    }
   ],
   "source": [
    "ib=int(input())\n",
    "ub=int(input())\n",
    "s=0\n",
    "for i in range(ib,ub+1):\n",
    "    if (i%2==0):\n",
    "        s=s+i\n",
    "        print(i,end=' ')\n",
    "        print('\\nsum is' ,s)"
   ]
  },
  {
   "cell_type": "code",
   "execution_count": 49,
   "id": "ad7b0fa1-1692-4c4b-a451-c5e8882d5995",
   "metadata": {},
   "outputs": [
    {
     "name": "stdout",
     "output_type": "stream",
     "text": [
      "5\n",
      "10\n",
      "15\n",
      "20\n",
      "25\n",
      "30\n",
      "40\n",
      "45\n",
      "50\n",
      "55\n",
      "60\n",
      "65\n",
      "75\n",
      "80\n",
      "85\n",
      "90\n",
      "95\n",
      "100\n",
      "110\n",
      "115\n",
      "120\n",
      "125\n",
      "130\n",
      "135\n",
      "145\n",
      "150\n",
      "155\n",
      "160\n",
      "165\n",
      "170\n",
      "180\n",
      "185\n",
      "190\n",
      "195\n",
      "200\n",
      "205\n",
      "215\n",
      "220\n",
      "225\n",
      "230\n",
      "235\n",
      "240\n",
      "250\n",
      "255\n",
      "260\n",
      "265\n",
      "270\n",
      "275\n",
      "285\n",
      "290\n",
      "295\n",
      "300\n"
     ]
    }
   ],
   "source": [
    "for num in range(1,303):\n",
    "    if num%5 == 0 and num%7!=0:\n",
    "        print(num)"
   ]
  },
  {
   "cell_type": "code",
   "execution_count": 51,
   "id": "6cb8dfe2-6758-408a-8ef8-282e44af13d7",
   "metadata": {},
   "outputs": [
    {
     "name": "stdin",
     "output_type": "stream",
     "text": [
      "enter multiplication table: 4\n"
     ]
    },
    {
     "name": "stdout",
     "output_type": "stream",
     "text": [
      "4 * 1 = 4\n",
      "4 * 2 = 8\n",
      "4 * 3 = 12\n",
      "4 * 4 = 16\n",
      "4 * 5 = 20\n",
      "4 * 6 = 24\n",
      "4 * 7 = 28\n",
      "4 * 8 = 32\n",
      "4 * 9 = 36\n",
      "4 * 10 = 40\n"
     ]
    }
   ],
   "source": [
    "a=int(input('enter multiplication table:'))\n",
    "for i in range(1,11):\n",
    "    print(a,'*',i,'=',a*i)"
   ]
  },
  {
   "cell_type": "code",
   "execution_count": 55,
   "id": "c8957e41-2dbe-4976-a550-f6732b6a0eef",
   "metadata": {},
   "outputs": [
    {
     "name": "stdin",
     "output_type": "stream",
     "text": [
      "enter the number: 6\n"
     ]
    },
    {
     "name": "stdout",
     "output_type": "stream",
     "text": [
      "* * * * * * * * * * * * * * * * * * * * * * * * * * * * * * * * * * * * * * * * * * "
     ]
    }
   ],
   "source": [
    "n=int(input(\"enter the number:\"))\n",
    "for i in range(n):\n",
    "    for j in range(n+1,):\n",
    "        print(\"*\",end=\" \")"
   ]
  },
  {
   "cell_type": "code",
   "execution_count": 57,
   "id": "b53555a3-e704-48ec-886c-e1ad5f6c8937",
   "metadata": {},
   "outputs": [
    {
     "name": "stdout",
     "output_type": "stream",
     "text": [
      "[0]\n",
      "[0, 1]\n",
      "[0, 1, 4]\n",
      "[0, 1, 4, 9]\n",
      "[0, 1, 4, 9, 16]\n",
      "[0, 1, 4, 9, 16, 25]\n",
      "[0, 1, 4, 9, 16, 25, 36]\n",
      "[0, 1, 4, 9, 16, 25, 36, 49]\n",
      "[0, 1, 4, 9, 16, 25, 36, 49, 64]\n",
      "[0, 1, 4, 9, 16, 25, 36, 49, 64, 81]\n"
     ]
    }
   ],
   "source": [
    "squares = []\n",
    "for i in range(10):\n",
    "    squares.append(i**2)\n",
    "    print(squares)"
   ]
  },
  {
   "cell_type": "code",
   "execution_count": 59,
   "id": "13bcaec8-f407-4f2a-946b-4ad5bddd053e",
   "metadata": {},
   "outputs": [
    {
     "name": "stdout",
     "output_type": "stream",
     "text": [
      "[0, 1, 4, 9, 16, 25, 36, 49, 64, 81]\n"
     ]
    }
   ],
   "source": [
    "squares = [i**2 for i in range(10)]\n",
    "print(squares)"
   ]
  },
  {
   "cell_type": "code",
   "execution_count": 61,
   "id": "e58ed877-e4f2-4eb4-b7e5-d1f5f0e2e98f",
   "metadata": {},
   "outputs": [
    {
     "data": {
      "text/plain": [
       "[3, 4, 4, 3]"
      ]
     },
     "execution_count": 61,
     "metadata": {},
     "output_type": "execute_result"
    }
   ],
   "source": [
    "movies = ['omg','kick','ddlj','don']\n",
    "[len(movie) for movie in movies]"
   ]
  },
  {
   "cell_type": "code",
   "execution_count": 63,
   "id": "2a22f1bc-e022-45ad-83a6-8f14d43c0bf5",
   "metadata": {},
   "outputs": [
    {
     "data": {
      "text/plain": [
       "[7, 6, 8, 2, 4, 8, 9]"
      ]
     },
     "execution_count": 63,
     "metadata": {},
     "output_type": "execute_result"
    }
   ],
   "source": [
    "list2 = [-7,-6,-8,-2,-4,8,9]\n",
    "absv = [abs(x) for x in list2]\n",
    "absv"
   ]
  },
  {
   "cell_type": "code",
   "execution_count": 79,
   "id": "9e4a3447-4e3d-41e2-b0e8-02dab4dfac69",
   "metadata": {},
   "outputs": [
    {
     "data": {
      "text/plain": [
       "[2, 7, 4, 8, 64, 27]"
      ]
     },
     "execution_count": 79,
     "metadata": {},
     "output_type": "execute_result"
    }
   ],
   "source": [
    "list2 = [-2,-7,-4,-8,4,3]\n",
    "both = []\n",
    "for x in list2:\n",
    "    if x < 0:\n",
    "        both.append(abs(x))\n",
    "    else:\n",
    "        both.append(x**3)\n",
    "\n",
    "both"
   ]
  },
  {
   "cell_type": "code",
   "execution_count": 71,
   "id": "be42d656-aac5-4c6b-bf4c-9f2a78831878",
   "metadata": {},
   "outputs": [
    {
     "data": {
      "text/plain": [
       "[2, 7, 4, 8, 64, 27]"
      ]
     },
     "execution_count": 71,
     "metadata": {},
     "output_type": "execute_result"
    }
   ],
   "source": [
    "[abs(x) if x<0 else x**3 for x in list2]"
   ]
  },
  {
   "cell_type": "code",
   "execution_count": 77,
   "id": "20489d08-2ce5-41b6-9a6f-801c2bb3dba9",
   "metadata": {},
   "outputs": [
    {
     "data": {
      "text/plain": [
       "{3, 4, 6}"
      ]
     },
     "execution_count": 77,
     "metadata": {},
     "output_type": "execute_result"
    }
   ],
   "source": [
    "movies = ['soul','RRR','avatar','2012']\n",
    "a=set()\n",
    "for i in movies:\n",
    "    a.add(len(i))\n",
    "\n",
    "a"
   ]
  },
  {
   "cell_type": "code",
   "execution_count": 81,
   "id": "2e1cbe78-f011-4c8a-ba27-c67c451f6eae",
   "metadata": {},
   "outputs": [
    {
     "data": {
      "text/plain": [
       "{3, 4, 5}"
      ]
     },
     "execution_count": 81,
     "metadata": {},
     "output_type": "execute_result"
    }
   ],
   "source": [
    "movies = ['RRR','pyaar','tujhe','kiya']\n",
    "{len(i) for i in movies}"
   ]
  },
  {
   "cell_type": "code",
   "execution_count": 89,
   "id": "e6d3dca7-6311-4dd4-8be1-70d8ed97999a",
   "metadata": {},
   "outputs": [
    {
     "data": {
      "text/plain": [
       "{0: 'RRR', 1: 'pyaar', 2: 'tujhe', 3: 'kiya'}"
      ]
     },
     "execution_count": 89,
     "metadata": {},
     "output_type": "execute_result"
    }
   ],
   "source": [
    "movies = {'RRR':9, 'pyaar':9.2, 'tujhe':8, 'kiya':8.5}\n",
    "{movie:rating for movie,rating in enumerate(movies)}"
   ]
  },
  {
   "cell_type": "code",
   "execution_count": 95,
   "id": "d2390b5a-998c-4bb5-9979-d9ebc9db5a49",
   "metadata": {},
   "outputs": [],
   "source": [
    "numbers = [2,3,4,6,7]\n",
    "for num in numbers:\n",
    "    if num == 4:\n",
    "        break\n",
    "        print(num)"
   ]
  },
  {
   "cell_type": "code",
   "execution_count": 99,
   "id": "a7494bf4-a1d5-4b2c-abca-33d79d8a1a27",
   "metadata": {},
   "outputs": [
    {
     "name": "stdout",
     "output_type": "stream",
     "text": [
      "3\n",
      "5\n",
      "7\n"
     ]
    }
   ],
   "source": [
    "numbers = [2, 3, 4, 5, 6, 7]\n",
    "for num in  numbers:\n",
    "    if num % 2 == 0:\n",
    "        continue\n",
    "    print(num)"
   ]
  },
  {
   "cell_type": "code",
   "execution_count": 101,
   "id": "9c041919-6021-4a45-af35-494286fe9f81",
   "metadata": {},
   "outputs": [
    {
     "name": "stdout",
     "output_type": "stream",
     "text": [
      "3\n",
      "4\n",
      "5\n",
      "no item left in the list\n"
     ]
    }
   ],
   "source": [
    "numbers = [3, 4, 5]\n",
    "for item in numbers:\n",
    "    print(item)\n",
    "\n",
    "else:\n",
    "    print(\"no item left in the list\")"
   ]
  },
  {
   "cell_type": "code",
   "execution_count": 103,
   "id": "68a7ffb6-bb10-4c3f-996a-526a3c3fe52f",
   "metadata": {},
   "outputs": [
    {
     "name": "stdout",
     "output_type": "stream",
     "text": [
      "3\n",
      "9\n"
     ]
    }
   ],
   "source": [
    "numbers = [3, 4, 7, 8, 9]\n",
    "for item in numbers:\n",
    "    if item % 3 == 0:\n",
    "        print(item)\n",
    "        "
   ]
  },
  {
   "cell_type": "code",
   "execution_count": 105,
   "id": "4e9237c0-de21-4c99-b7b9-76a27da5d7cd",
   "metadata": {},
   "outputs": [
    {
     "name": "stdout",
     "output_type": "stream",
     "text": [
      "4\n"
     ]
    }
   ],
   "source": [
    "numbers = [3, 4, 5, 6, 7]\n",
    "for item in numbers:\n",
    "    if item % 2 == 0:\n",
    "        print(item)\n",
    "        break\n"
   ]
  },
  {
   "cell_type": "code",
   "execution_count": 107,
   "id": "aefd57be-f0d6-4830-8534-821a7c277f3d",
   "metadata": {},
   "outputs": [
    {
     "name": "stdout",
     "output_type": "stream",
     "text": [
      "1\n",
      "2\n",
      "3\n",
      "4\n",
      "5\n",
      "6\n"
     ]
    }
   ],
   "source": [
    " x=0\n",
    "while x < 6:\n",
    "    x=x+1\n",
    "    print(x)"
   ]
  },
  {
   "cell_type": "code",
   "execution_count": 109,
   "id": "368e5cde-a0de-49ff-ab89-083749d5a0cf",
   "metadata": {},
   "outputs": [
    {
     "name": "stdout",
     "output_type": "stream",
     "text": [
      "x is  0\n",
      "x is  1\n",
      "x is  2\n",
      "x is  3\n",
      "x is  4\n",
      "x is  5\n",
      "x is  6\n",
      "x is  7\n"
     ]
    }
   ],
   "source": [
    "x = 0\n",
    "while x < 8:\n",
    "    print(\"x is \",x)\n",
    "    x = x+1"
   ]
  },
  {
   "cell_type": "code",
   "execution_count": 111,
   "id": "c9084466-dbce-471d-8184-9512253dedbe",
   "metadata": {},
   "outputs": [
    {
     "name": "stdout",
     "output_type": "stream",
     "text": [
      "x is 8\n",
      "x is 7\n",
      "x is 6\n",
      "x is 5\n",
      "x is 4\n",
      "x is 3\n",
      "x is 2\n"
     ]
    }
   ],
   "source": [
    "x = 8\n",
    "while x > 1:\n",
    "    print(\"x is {}\".format(x))\n",
    "    x -= 1"
   ]
  },
  {
   "cell_type": "code",
   "execution_count": 113,
   "id": "16a9f83a-c5e3-4de8-8ef7-78cb02473750",
   "metadata": {},
   "outputs": [
    {
     "name": "stdout",
     "output_type": "stream",
     "text": [
      "1430\n"
     ]
    }
   ],
   "source": [
    "i=200\n",
    "s=30\n",
    "while i<=500:\n",
    "    s=s+i\n",
    "    i=i+100\n",
    "\n",
    "print(s)"
   ]
  },
  {
   "cell_type": "code",
   "execution_count": 115,
   "id": "cf8f8775-0d7c-45f8-8d47-36dbb8002159",
   "metadata": {},
   "outputs": [
    {
     "name": "stdout",
     "output_type": "stream",
     "text": [
      "6\n"
     ]
    }
   ],
   "source": [
    "i=0\n",
    "s=0\n",
    "while (i<=5):\n",
    "    s=s+i\n",
    "    i+=2\n",
    "\n",
    "print(s)"
   ]
  },
  {
   "cell_type": "code",
   "execution_count": 117,
   "id": "32795932-93af-41a3-95c0-c56e8c956826",
   "metadata": {},
   "outputs": [
    {
     "name": "stdout",
     "output_type": "stream",
     "text": [
      "0\n",
      "5\n"
     ]
    }
   ],
   "source": [
    "x=0\n",
    "print(x)\n",
    "while x < 5:\n",
    "    x=x+1\n",
    "\n",
    "print(x)"
   ]
  },
  {
   "cell_type": "code",
   "execution_count": 119,
   "id": "be8f8c92-c9e7-4a65-b75b-a33cf6764903",
   "metadata": {},
   "outputs": [
    {
     "name": "stdout",
     "output_type": "stream",
     "text": [
      "110\n"
     ]
    }
   ],
   "source": [
    "i=0\n",
    "s=0\n",
    "while (i<=20):\n",
    "    s=s+i\n",
    "    i+=2\n",
    "\n",
    "print(s)"
   ]
  },
  {
   "cell_type": "code",
   "execution_count": 121,
   "id": "c880ee33-22c5-4816-b848-f0f7537a6aed",
   "metadata": {},
   "outputs": [
    {
     "name": "stdout",
     "output_type": "stream",
     "text": [
      "0 1 2 3 4 5 6 7 8 9 10 11 12 13 14 15 16 17 18 19 20 21 22 23 24 25 26 27 28 29 30 31 32 33 34 35 36 37 38 39 40 41 42 43 44 45 46 47 48 49 50 51 52 53 54 55 56 57 58 59 60 61 62 63 64 65 66 67 68 69 70 71 72 73 74 75 76 77 78 79 80 81 82 83 84 85 86 87 88 89 90 91 92 93 94 95 96 97 98 99 100 101 102 103 104 105 106 107 108 109 110 111 112 113 114 115 116 117 118 119 120 121 122 123 124 125 126 127 128 129 130 131 132 133 134 135 136 137 138 139 140 141 142 143 144 145 146 147 148 149 150 151 152 153 154 155 156 157 158 159 160 161 162 163 164 165 166 167 168 169 170 171 172 173 174 175 176 177 178 179 180 181 182 183 184 185 186 187 188 189 190 191 192 193 194 195 196 197 198 199 200 "
     ]
    }
   ],
   "source": [
    "i=0\n",
    "while(i<=200):\n",
    "    print(i,end=' ')\n",
    "    i=i+1"
   ]
  },
  {
   "cell_type": "code",
   "execution_count": 127,
   "id": "3afa9bd0-20e8-4fe0-b804-fefdae750f67",
   "metadata": {},
   "outputs": [
    {
     "name": "stdin",
     "output_type": "stream",
     "text": [
      "Enter n:  6\n"
     ]
    },
    {
     "name": "stdout",
     "output_type": "stream",
     "text": [
      "The sum is 21\n"
     ]
    }
   ],
   "source": [
    "n = int(input(\"Enter n: \"))\n",
    "sum = 0\n",
    "i = 1\n",
    "while i <= n:\n",
    "    sum = sum + i\n",
    "    i = i+1\n",
    "\n",
    "print(\"The sum is\",sum)"
   ]
  },
  {
   "cell_type": "code",
   "execution_count": 139,
   "id": "07579d7f-d983-4f19-bca3-991dc8d9089e",
   "metadata": {},
   "outputs": [
    {
     "ename": "SyntaxError",
     "evalue": "invalid decimal literal (886581809.py, line 1)",
     "output_type": "error",
     "traceback": [
      "\u001b[1;36m  Cell \u001b[1;32mIn[139], line 1\u001b[1;36m\u001b[0m\n\u001b[1;33m    1st = [1, 2, 3, 4, 6]\u001b[0m\n\u001b[1;37m    ^\u001b[0m\n\u001b[1;31mSyntaxError\u001b[0m\u001b[1;31m:\u001b[0m invalid decimal literal\n"
     ]
    }
   ],
   "source": [
    "1st = [1, 2, 3, 4, 6]\n",
    "\n",
    "product = 1\n",
    "index = 0\n",
    "\n",
    "while index < len(1st):\n",
    "    product *= lst[index]\n",
    "    index += 2\n",
    "\n",
    "print(\"product is: {}\".format(product))"
   ]
  },
  {
   "cell_type": "code",
   "execution_count": 1,
   "id": "b4dfaef7-2d37-4fed-a365-3fc554b2062e",
   "metadata": {},
   "outputs": [
    {
     "name": "stdin",
     "output_type": "stream",
     "text": [
      "enter a value: 4\n",
      "enter a value: 4\n",
      "enter a value: 5\n",
      "enter a value: done13\n"
     ]
    },
    {
     "ename": "ValueError",
     "evalue": "invalid literal for int() with base 10: 'done13'",
     "output_type": "error",
     "traceback": [
      "\u001b[1;31m---------------------------------------------------------------------------\u001b[0m",
      "\u001b[1;31mValueError\u001b[0m                                Traceback (most recent call last)",
      "Cell \u001b[1;32mIn[1], line 6\u001b[0m\n\u001b[0;32m      4\u001b[0m     \u001b[38;5;28;01mif\u001b[39;00m (a\u001b[38;5;241m==\u001b[39m\u001b[38;5;124m'\u001b[39m\u001b[38;5;124mdone\u001b[39m\u001b[38;5;124m'\u001b[39m):\n\u001b[0;32m      5\u001b[0m         \u001b[38;5;28;01mbreak\u001b[39;00m\n\u001b[1;32m----> 6\u001b[0m     s\u001b[38;5;241m=\u001b[39ms\u001b[38;5;241m+\u001b[39m\u001b[38;5;28mint\u001b[39m(a)\n\u001b[0;32m      8\u001b[0m \u001b[38;5;28mprint\u001b[39m(s)\n",
      "\u001b[1;31mValueError\u001b[0m: invalid literal for int() with base 10: 'done13'"
     ]
    }
   ],
   "source": [
    "s=0\n",
    "while True:\n",
    "    a=input('enter a value:')\n",
    "    if (a=='done'):\n",
    "        break\n",
    "    s=s+int(a)\n",
    "\n",
    "print(s)"
   ]
  },
  {
   "cell_type": "code",
   "execution_count": 3,
   "id": "2e425c66-10e5-44ab-b63a-e821fb72b29b",
   "metadata": {},
   "outputs": [
    {
     "name": "stdout",
     "output_type": "stream",
     "text": [
      "x is 9\n",
      "x is 8\n",
      "x is 7\n",
      "x is 6\n",
      "x is 5\n",
      "x is 4\n",
      "x is 3\n",
      "x is 2\n",
      "x is no longer greater than 1\n"
     ]
    }
   ],
   "source": [
    "x = 9\n",
    "while x > 1:\n",
    "    print(\"x is {}\".format(x))\n",
    "    x -= 1\n",
    "    if x==9:\n",
    "        break\n",
    "else:\n",
    "    print(\"x is no longer greater than 1\")"
   ]
  },
  {
   "cell_type": "code",
   "execution_count": 5,
   "id": "0c94a1c5-4fb1-4ccd-be02-1a6041192791",
   "metadata": {},
   "outputs": [
    {
     "name": "stdout",
     "output_type": "stream",
     "text": [
      "x is 0\n",
      "x is 1\n",
      "x is 2\n",
      "x is 3\n",
      "x is 4\n",
      "x is 5\n",
      "x is 6\n",
      "x is 7\n",
      "x is no longer < 8\n"
     ]
    }
   ],
   "source": [
    "x = 0\n",
    "while x < 8:\n",
    "    print(\"x is {}\".format(x))\n",
    "    x += 1\n",
    "else:\n",
    "    print(\"x is no longer < 8\")"
   ]
  },
  {
   "cell_type": "code",
   "execution_count": 7,
   "id": "fbd9d6b7-a4a5-4a2d-971a-638124f9b421",
   "metadata": {},
   "outputs": [
    {
     "name": "stdout",
     "output_type": "stream",
     "text": [
      "1\n",
      "3\n",
      "4\n",
      "6\n",
      "7\n",
      "8\n",
      "no item left in the list\n"
     ]
    }
   ],
   "source": [
    "numbers = [1, 3, 4, 6, 7, 8]\n",
    "index = 0\n",
    "while index < len(numbers):\n",
    "    print(numbers[index])\n",
    "    index += 1\n",
    "\n",
    "else:\n",
    "    print(\"no item left in the list\")"
   ]
  },
  {
   "cell_type": "code",
   "execution_count": 9,
   "id": "3a1e9117-3cc3-4320-b2ea-7f5d729f1f60",
   "metadata": {},
   "outputs": [
    {
     "name": "stdin",
     "output_type": "stream",
     "text": [
      " 3\n"
     ]
    },
    {
     "name": "stdout",
     "output_type": "stream",
     "text": [
      "6\n"
     ]
    }
   ],
   "source": [
    "a=int(input())\n",
    "fact=1\n",
    "for i in range(a,0,-1):\n",
    "    fact=fact*i\n",
    "print(fact)"
   ]
  },
  {
   "cell_type": "code",
   "execution_count": 11,
   "id": "14fab5e6-5133-4a12-a051-662b32ec6bd5",
   "metadata": {},
   "outputs": [
    {
     "name": "stdin",
     "output_type": "stream",
     "text": [
      " 9\n"
     ]
    },
    {
     "name": "stdout",
     "output_type": "stream",
     "text": [
      "after 1 iteration the factorial value is: 1\n",
      "after 2 iteration the factorial value is: 2\n",
      "after 3 iteration the factorial value is: 6\n",
      "after 4 iteration the factorial value is: 24\n",
      "after 5 iteration the factorial value is: 120\n",
      "after 6 iteration the factorial value is: 720\n",
      "after 7 iteration the factorial value is: 5040\n",
      "after 8 iteration the factorial value is: 40320\n",
      "after 9 iteration the factorial value is: 362880\n"
     ]
    }
   ],
   "source": [
    "a=int(input())\n",
    "fact=1\n",
    "for i in range(1,a+1):\n",
    "    fact=fact*i\n",
    "    print(\"after\",i,\"iteration the factorial value is:\", fact)"
   ]
  },
  {
   "cell_type": "code",
   "execution_count": null,
   "id": "cabbe717-95ab-4a84-9588-2e78d5eeeabf",
   "metadata": {},
   "outputs": [],
   "source": []
  }
 ],
 "metadata": {
  "kernelspec": {
   "display_name": "Python 3 (ipykernel)",
   "language": "python",
   "name": "python3"
  },
  "language_info": {
   "codemirror_mode": {
    "name": "ipython",
    "version": 3
   },
   "file_extension": ".py",
   "mimetype": "text/x-python",
   "name": "python",
   "nbconvert_exporter": "python",
   "pygments_lexer": "ipython3",
   "version": "3.11.7"
  }
 },
 "nbformat": 4,
 "nbformat_minor": 5
}
