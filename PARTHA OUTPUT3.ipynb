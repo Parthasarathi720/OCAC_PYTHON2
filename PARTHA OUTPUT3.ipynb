{
 "cells": [
  {
   "cell_type": "code",
   "execution_count": 1,
   "id": "4f576d3c-bd8e-4595-a101-90892fce8827",
   "metadata": {},
   "outputs": [
    {
     "name": "stdin",
     "output_type": "stream",
     "text": [
      " 24\n"
     ]
    },
    {
     "data": {
      "text/plain": [
       "'24'"
      ]
     },
     "execution_count": 1,
     "metadata": {},
     "output_type": "execute_result"
    }
   ],
   "source": [
    "n=input()\n",
    "n"
   ]
  },
  {
   "cell_type": "code",
   "execution_count": 2,
   "id": "ac67801d-ab84-4722-af77-3e2a1e9db9ad",
   "metadata": {},
   "outputs": [
    {
     "data": {
      "text/plain": [
       "str"
      ]
     },
     "execution_count": 2,
     "metadata": {},
     "output_type": "execute_result"
    }
   ],
   "source": [
    "type(n)"
   ]
  },
  {
   "cell_type": "code",
   "execution_count": 3,
   "id": "73508ede-8518-49b3-adde-507a27a525d1",
   "metadata": {},
   "outputs": [
    {
     "name": "stdin",
     "output_type": "stream",
     "text": [
      " Partha\n"
     ]
    },
    {
     "data": {
      "text/plain": [
       "'Partha'"
      ]
     },
     "execution_count": 3,
     "metadata": {},
     "output_type": "execute_result"
    }
   ],
   "source": [
    "n=input()\n",
    "n"
   ]
  },
  {
   "cell_type": "code",
   "execution_count": 5,
   "id": "3fd518c9-4969-434d-a1b7-706b801d0da0",
   "metadata": {},
   "outputs": [
    {
     "name": "stdin",
     "output_type": "stream",
     "text": [
      "enter your age: 24\n"
     ]
    },
    {
     "data": {
      "text/plain": [
       "'24'"
      ]
     },
     "execution_count": 5,
     "metadata": {},
     "output_type": "execute_result"
    }
   ],
   "source": [
    "n1=input(\"enter your age:\")\n",
    "n1"
   ]
  },
  {
   "cell_type": "code",
   "execution_count": 5,
   "id": "f9bf3e96-9668-45f9-80fc-c1ac5895e420",
   "metadata": {},
   "outputs": [
    {
     "data": {
      "text/plain": [
       "str"
      ]
     },
     "execution_count": 5,
     "metadata": {},
     "output_type": "execute_result"
    }
   ],
   "source": [
    "type(n1)"
   ]
  },
  {
   "cell_type": "code",
   "execution_count": 7,
   "id": "b5398a79-bc02-40d0-b139-fd69f1ce3143",
   "metadata": {},
   "outputs": [
    {
     "name": "stdin",
     "output_type": "stream",
     "text": [
      "enter your age: 24\n"
     ]
    }
   ],
   "source": [
    "n=float(input(\"enter your age:\"))"
   ]
  },
  {
   "cell_type": "code",
   "execution_count": 9,
   "id": "1697409d-6134-4c87-88aa-9d2836959e88",
   "metadata": {},
   "outputs": [
    {
     "name": "stdin",
     "output_type": "stream",
     "text": [
      "What is your name?  Partha\n"
     ]
    },
    {
     "name": "stdout",
     "output_type": "stream",
     "text": [
      "It was nice talking to you Partha!\n"
     ]
    }
   ],
   "source": [
    "name = input(\"What is your name? \")\n",
    "print(\"It was nice talking to you \" + name + \"!\")"
   ]
  },
  {
   "cell_type": "code",
   "execution_count": 11,
   "id": "76a52f5d-caf0-46ff-b5a1-c5557f01a636",
   "metadata": {},
   "outputs": [
    {
     "name": "stdin",
     "output_type": "stream",
     "text": [
      "Enter your age?  24\n"
     ]
    },
    {
     "name": "stdout",
     "output_type": "stream",
     "text": [
      "Hey, you are already 24years old, Partha!\n"
     ]
    }
   ],
   "source": [
    "age = input(\"Enter your age? \")\n",
    "print(\"Hey, you are already \" + age + \"years old, \" + name + \"!\")"
   ]
  },
  {
   "cell_type": "code",
   "execution_count": 13,
   "id": "3cc224d3-026d-49d3-9894-d5b46612ec30",
   "metadata": {},
   "outputs": [
    {
     "name": "stdin",
     "output_type": "stream",
     "text": [
      "Enter your name:  Partha Sarathi\n"
     ]
    },
    {
     "name": "stdout",
     "output_type": "stream",
     "text": [
      "Partha\n",
      "Sarathi\n"
     ]
    }
   ],
   "source": [
    "var_1, var_2 = input(\"Enter your name: \").split(\" \")\n",
    "print(var_1)\n",
    "print(var_2)"
   ]
  },
  {
   "cell_type": "code",
   "execution_count": null,
   "id": "d5a9c500-53ee-4ba6-bad0-acda7db1d8d7",
   "metadata": {},
   "outputs": [],
   "source": []
  }
 ],
 "metadata": {
  "kernelspec": {
   "display_name": "Python 3 (ipykernel)",
   "language": "python",
   "name": "python3"
  },
  "language_info": {
   "codemirror_mode": {
    "name": "ipython",
    "version": 3
   },
   "file_extension": ".py",
   "mimetype": "text/x-python",
   "name": "python",
   "nbconvert_exporter": "python",
   "pygments_lexer": "ipython3",
   "version": "3.11.7"
  }
 },
 "nbformat": 4,
 "nbformat_minor": 5
}
