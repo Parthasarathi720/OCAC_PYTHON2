{
 "cells": [
  {
   "cell_type": "code",
   "execution_count": 2,
   "id": "ff7f0a0b-bbce-463d-baea-9fc6e1490761",
   "metadata": {},
   "outputs": [
    {
     "name": "stdout",
     "output_type": "stream",
     "text": [
      "Hi\n",
      "partha\n"
     ]
    }
   ],
   "source": [
    "if 1<2:\n",
    "    print('Hi')\n",
    "    print('partha')"
   ]
  },
  {
   "cell_type": "code",
   "execution_count": 14,
   "id": "5b9d790b-27cd-4f27-95b2-de62d9d79164",
   "metadata": {},
   "outputs": [],
   "source": [
    "if 1>2:\n",
    "    print('Hi!')"
   ]
  },
  {
   "cell_type": "code",
   "execution_count": 16,
   "id": "7c735529-444b-4587-92ec-a043a8a73e78",
   "metadata": {},
   "outputs": [],
   "source": [
    "if 1>2:\n",
    "    print('Hi!')\n",
    "    \n",
    "    print(\"partha\")"
   ]
  },
  {
   "cell_type": "code",
   "execution_count": 18,
   "id": "5729b2e5-2880-4fc0-914f-dbac9be2b894",
   "metadata": {},
   "outputs": [
    {
     "name": "stdin",
     "output_type": "stream",
     "text": [
      "Enter Name: partha\n"
     ]
    },
    {
     "name": "stdout",
     "output_type": "stream",
     "text": [
      "Hello partha Good Morning\n"
     ]
    }
   ],
   "source": [
    "name=input(\"Enter Name:\")\n",
    "if name ==\"partha\" :\n",
    "    print(\"Hello partha Good Morning\")"
   ]
  },
  {
   "cell_type": "code",
   "execution_count": 20,
   "id": "4ba04b1a-a24d-427e-9535-3ffa6918ec18",
   "metadata": {},
   "outputs": [
    {
     "name": "stdout",
     "output_type": "stream",
     "text": [
      "first\n"
     ]
    }
   ],
   "source": [
    "if 1<2:\n",
    "    print('first')\n",
    "\n",
    "else:\n",
    "    print('last')"
   ]
  },
  {
   "cell_type": "code",
   "execution_count": 22,
   "id": "aa677e9c-ea7f-4377-a76b-0aa8a60c7824",
   "metadata": {},
   "outputs": [
    {
     "name": "stdout",
     "output_type": "stream",
     "text": [
      "last\n"
     ]
    }
   ],
   "source": [
    "if 1>2:\n",
    "    print('first')\n",
    "else:\n",
    "    print('last')"
   ]
  },
  {
   "cell_type": "code",
   "execution_count": 24,
   "id": "ead59268-f31a-4e11-99c9-9791e970814a",
   "metadata": {},
   "outputs": [
    {
     "name": "stdin",
     "output_type": "stream",
     "text": [
      "enter a number 50\n"
     ]
    },
    {
     "name": "stdout",
     "output_type": "stream",
     "text": [
      "50 is even number\n"
     ]
    }
   ],
   "source": [
    "x=int(input('enter a number'))\n",
    "if (x%2==0):\n",
    "    print(x, 'is even number')\n",
    "else:\n",
    "    print(x,'is odd number')"
   ]
  },
  {
   "cell_type": "code",
   "execution_count": 26,
   "id": "068fb026-597e-4dc6-8d5f-6e07c7bed179",
   "metadata": {},
   "outputs": [
    {
     "name": "stdin",
     "output_type": "stream",
     "text": [
      "Enter Name: partha\n"
     ]
    },
    {
     "name": "stdout",
     "output_type": "stream",
     "text": [
      "Hello partha Good Morning\n"
     ]
    }
   ],
   "source": [
    "name=input(\"Enter Name:\")\n",
    "if name==\"partha\" :\n",
    "    print(\"Hello partha Good Morning\")\n",
    "else:\n",
    "    print(\"Hello\",name,\"Good Morning\")"
   ]
  },
  {
   "cell_type": "code",
   "execution_count": 28,
   "id": "235a4980-b82a-4eb7-a4de-ef7f59348cf9",
   "metadata": {},
   "outputs": [
    {
     "name": "stdout",
     "output_type": "stream",
     "text": [
      "AI\n",
      "ML\n"
     ]
    }
   ],
   "source": [
    "lst = ['one', 'two', 'three', 'four']\n",
    "\n",
    "if 'two' in lst:\n",
    "    print('AI')\n",
    "\n",
    "if 'six' not in lst:\n",
    "    print('ML')"
   ]
  },
  {
   "cell_type": "code",
   "execution_count": 30,
   "id": "60071140-886f-4215-b5cf-fa004327af91",
   "metadata": {},
   "outputs": [
    {
     "name": "stdin",
     "output_type": "stream",
     "text": [
      " 10\n"
     ]
    },
    {
     "name": "stdout",
     "output_type": "stream",
     "text": [
      "10 is positive\n"
     ]
    }
   ],
   "source": [
    "a=int(input())\n",
    "if (a>=0):\n",
    "    print(a,'is positive')\n",
    "else:\n",
    "    print(a,'is negative number')"
   ]
  },
  {
   "cell_type": "code",
   "execution_count": 32,
   "id": "11db8bba-3977-418a-bc2d-d77d93110caa",
   "metadata": {},
   "outputs": [
    {
     "name": "stdout",
     "output_type": "stream",
     "text": [
      "8 is even number\n"
     ]
    }
   ],
   "source": [
    "x = 8\n",
    "if x%2 == 0 :\n",
    "    print(x, \"is even number\")\n",
    "else:\n",
    "    print(x, \"is ODD number\")\n",
    "    print(\"this is out of IF else block\")"
   ]
  },
  {
   "cell_type": "code",
   "execution_count": 34,
   "id": "33df4142-0094-4d63-b679-744428daa2a5",
   "metadata": {},
   "outputs": [
    {
     "name": "stdout",
     "output_type": "stream",
     "text": [
      "first\n"
     ]
    }
   ],
   "source": [
    "if 3==3:\n",
    "    print('first')\n",
    "elif 5 == 5:\n",
    "    print('middle')"
   ]
  },
  {
   "cell_type": "code",
   "execution_count": 44,
   "id": "537717b0-3a3b-4a6b-896f-0828a8f5e8c1",
   "metadata": {},
   "outputs": [
    {
     "ename": "IndentationError",
     "evalue": "expected an indented block after 'if' statement on line 3 (3989344309.py, line 4)",
     "output_type": "error",
     "traceback": [
      "\u001b[1;36m  Cell \u001b[1;32mIn[44], line 4\u001b[1;36m\u001b[0m\n\u001b[1;33m    print(\"Grade A\")\u001b[0m\n\u001b[1;37m    ^\u001b[0m\n\u001b[1;31mIndentationError\u001b[0m\u001b[1;31m:\u001b[0m expected an indented block after 'if' statement on line 3\n"
     ]
    }
   ],
   "source": [
    "y=52\n",
    "\n",
    "if y>90:\n",
    "print(\"Grade A\")\n",
    "\n",
    "elif(y>60):\n",
    "print(\"Grade B\")\n",
    "\n",
    "elif y>40:\n",
    "print(\"Grade C\")\n",
    "\n",
    "else:\n",
    "print(\"Grade F\")"
   ]
  },
  {
   "cell_type": "code",
   "execution_count": 46,
   "id": "4781ed79-9a7f-447d-84b3-4e36a2b61453",
   "metadata": {},
   "outputs": [
    {
     "name": "stdout",
     "output_type": "stream",
     "text": [
      "All is well with the world\n"
     ]
    },
    {
     "name": "stderr",
     "output_type": "stream",
     "text": [
      "<>:1: SyntaxWarning: \"is\" with a literal. Did you mean \"==\"?\n",
      "<>:1: SyntaxWarning: \"is\" with a literal. Did you mean \"==\"?\n",
      "C:\\Users\\parth\\AppData\\Local\\Temp\\ipykernel_1716\\1671987351.py:1: SyntaxWarning: \"is\" with a literal. Did you mean \"==\"?\n",
      "  if 1 is 3:\n"
     ]
    }
   ],
   "source": [
    "if 1 is 3:\n",
    "    print(\"How did that happen?\")\n",
    "elif 1>3:\n",
    "    print(\"Yikes\")\n",
    "else:\n",
    "    print(\"All is well with the world\")"
   ]
  },
  {
   "cell_type": "code",
   "execution_count": 48,
   "id": "473b8b18-952f-4c3f-8bca-fc015ac620e4",
   "metadata": {},
   "outputs": [
    {
     "name": "stdin",
     "output_type": "stream",
     "text": [
      "enter marks: 100\n"
     ]
    },
    {
     "name": "stdout",
     "output_type": "stream",
     "text": [
      "100 A grade\n"
     ]
    }
   ],
   "source": [
    "a=int(float(input('enter marks:')))\n",
    "\n",
    "if (a>85 and a<=100):\n",
    "    print(a,'A grade')\n",
    "elif(a<=85 and a>75):\n",
    "    print(a,'B grade')\n",
    "elif(a<=75 and a>65):\n",
    "    print(a,'C grade')\n",
    "elif(a<=65 and a>55):\n",
    "    print(a,'D grade')\n",
    "elif(a<=55 and a>45):\n",
    "    print(a,'E grade')\n",
    "else:\n",
    "    print(a,'Fail')\n",
    "    \n",
    "    "
   ]
  },
  {
   "cell_type": "code",
   "execution_count": 52,
   "id": "1d0885f5-b8dd-4ff5-a392-33c7882671bc",
   "metadata": {},
   "outputs": [
    {
     "name": "stdin",
     "output_type": "stream",
     "text": [
      "Enter the First Number: 30\n",
      "Enter the second Number: 25\n"
     ]
    },
    {
     "name": "stdout",
     "output_type": "stream",
     "text": [
      "Biggest Number is : 30\n"
     ]
    }
   ],
   "source": [
    "n1=int(input(\"Enter the First Number:\"))\n",
    "n2=int(input(\"Enter the second Number:\"))\n",
    "if n1>n2:\n",
    "    print(\"Biggest Number is :\",n1)\n",
    "else:\n",
    "    print(\"Biggest Number is :\",n2)"
   ]
  },
  {
   "cell_type": "code",
   "execution_count": 56,
   "id": "e79326cf-d90e-44fa-b787-3f6c7b07d6f0",
   "metadata": {},
   "outputs": [
    {
     "name": "stdin",
     "output_type": "stream",
     "text": [
      "Enter First Number: 10\n",
      "Enter Second Number: 20\n",
      "Enter Third Number: 30\n"
     ]
    },
    {
     "name": "stdout",
     "output_type": "stream",
     "text": [
      "30 is the Largest\n"
     ]
    }
   ],
   "source": [
    "n1=int(input(\"Enter First Number:\"))\n",
    "n2=int(input(\"Enter Second Number:\"))\n",
    "n3=int(input(\"Enter Third Number:\"))\n",
    "if n1>n2 and n1>n3:\n",
    "    print(n1,\"is the Largest\")\n",
    "elif n2>n3:\n",
    "    print(n2,\"is the Largest\")\n",
    "else:\n",
    "    print(n3,\"is the Largest\")\n",
    "          "
   ]
  },
  {
   "cell_type": "code",
   "execution_count": 60,
   "id": "9c61856e-c931-4121-9b19-84a16cd54609",
   "metadata": {},
   "outputs": [
    {
     "name": "stdin",
     "output_type": "stream",
     "text": [
      "Enter first string: partha\n",
      "Enter second string: unmesha\n"
     ]
    },
    {
     "name": "stdout",
     "output_type": "stream",
     "text": [
      "first string is less than second string\n"
     ]
    }
   ],
   "source": [
    "s1=input(\"Enter first string:\")\n",
    "s2=input(\"Enter second string:\")\n",
    "if s1==s2:\n",
    "    print(\"Both strings are equal\")\n",
    "elif s1<s2:\n",
    "    print(\"first string is less than second string\")\n",
    "else:\n",
    "    print(\"First string is greater than second string\")"
   ]
  },
  {
   "cell_type": "code",
   "execution_count": 69,
   "id": "ab697856-b62a-4ca8-b2af-656554e1cad7",
   "metadata": {},
   "outputs": [
    {
     "name": "stdout",
     "output_type": "stream",
     "text": [
      "Negative number\n"
     ]
    }
   ],
   "source": [
    "num = 20\n",
    "\n",
    "if num >= 0:\n",
    "    if num == 0:\n",
    "        print(\"not\")\n",
    "    else:\n",
    "        print(\"Negative number\")\n",
    "else:\n",
    "    print(\"positive Number\")\n",
    "    "
   ]
  },
  {
   "cell_type": "code",
   "execution_count": 77,
   "id": "410d33ea-dce2-4cbe-b6ab-17c71cfd7169",
   "metadata": {},
   "outputs": [
    {
     "name": "stdout",
     "output_type": "stream",
     "text": [
      "less than 4\n",
      "Fsdfsf\n"
     ]
    }
   ],
   "source": [
    "i = 3.1\n",
    "if (i < 4):\n",
    "    print('less than 4')\n",
    "    if i>3:\n",
    "        print(\"Fsdfsf\")\n",
    "\n",
    "elif i < 6:\n",
    "    print('less than 6')\n",
    "\n",
    "else:\n",
    "    print('6 or more')"
   ]
  },
  {
   "cell_type": "code",
   "execution_count": 79,
   "id": "badfe5ab-62c8-4490-bfaa-80840a9dda15",
   "metadata": {},
   "outputs": [
    {
     "name": "stdin",
     "output_type": "stream",
     "text": [
      "enter your pin 7209\n",
      "with draw amount: 50000\n"
     ]
    },
    {
     "name": "stdout",
     "output_type": "stream",
     "text": [
      "50000 successfully transaction complted\n"
     ]
    }
   ],
   "source": [
    "amount=50000\n",
    "pin=7209\n",
    "if (int(input('enter your pin'))==7209):\n",
    "    with_draw=int(input('with draw amount:'))\n",
    "    if (with_draw<=amount):\n",
    "        print(with_draw,'successfully transaction complted')\n",
    "    else:\n",
    "        print(with_draw,' not sufficiant funds in your account')\n",
    "else:\n",
    "    print('invalid pin number')\n",
    "    "
   ]
  },
  {
   "cell_type": "code",
   "execution_count": null,
   "id": "0a80d7fa-4bf7-43d8-b109-99efa6caa558",
   "metadata": {},
   "outputs": [],
   "source": []
  }
 ],
 "metadata": {
  "kernelspec": {
   "display_name": "Python 3 (ipykernel)",
   "language": "python",
   "name": "python3"
  },
  "language_info": {
   "codemirror_mode": {
    "name": "ipython",
    "version": 3
   },
   "file_extension": ".py",
   "mimetype": "text/x-python",
   "name": "python",
   "nbconvert_exporter": "python",
   "pygments_lexer": "ipython3",
   "version": "3.11.7"
  }
 },
 "nbformat": 4,
 "nbformat_minor": 5
}
