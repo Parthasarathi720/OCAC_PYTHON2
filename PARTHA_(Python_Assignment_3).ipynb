{
  "cells": [
    {
      "cell_type": "code",
      "execution_count": null,
      "metadata": {
        "id": "NbOPGQwRP_5g"
      },
      "outputs": [],
      "source": [
        "1. check Maximum number of a list of numbers in Python\n",
        "2. Python Program for factorial of a number\n",
        "3. Python Program for simple interest\n",
        "4. Python Program for compound interest\n",
        "5. Python Program to check Armstrong Number\n",
        "6. Python Program for Program to find area of a circle\n",
        "7. Python program to print all Prime numbers in an Interval\n",
        "8. Python program to check whether a number is Prime or not\n",
        "9. Python Program for n-th Fibonacci number\n",
        "10. Python Program for How to check if a given number is Fibonacci number?\n",
        "11. Python Program for n\\’th multiple of a number in Fibonacci Series\n",
        "12. Python Program for Sum of squares of first n natural numbers\n",
        "13. Python Program for cube sum of first n natural numbers"
      ]
    },
    {
      "cell_type": "code",
      "execution_count": null,
      "metadata": {
        "colab": {
          "base_uri": "https://localhost:8080/"
        },
        "id": "OUQaoc14NhqG",
        "outputId": "7fc0f32e-f1cd-4a32-9ae8-b5c9cb79ff1c"
      },
      "outputs": [
        {
          "output_type": "stream",
          "name": "stdout",
          "text": [
            "100\n"
          ]
        }
      ],
      "source": [
        "#1.check maximum number of list of numbers in pyhton.\n",
        "p=[26,44,78,90,89,100,34,23,67] #define the list\n",
        "print(max(p)) #using max function to get the maximum element from the list"
      ]
    },
    {
      "cell_type": "code",
      "execution_count": null,
      "metadata": {
        "id": "w_7elLZLNhqJ",
        "outputId": "b37aa50d-02fe-43e1-ecfa-49c6eee48e11"
      },
      "outputs": [
        {
          "name": "stdout",
          "output_type": "stream",
          "text": [
            "3628800\n"
          ]
        }
      ],
      "source": [
        "#2.pyhton program for factorial of a number\n",
        "a=int(input(\"enter a number : \")) #input program for enter a number\n",
        "fact=1 #define the multiplicative identity to get the factorial\n",
        "for n in range(1,a+1): #using for loop to get the fact variable updated and calculated till the last number which user enetered\n",
        "    fact=fact*n #using for update the factorial\n",
        "print(fact) #printing the final value of factorial of given number\n"
      ]
    },
    {
      "cell_type": "code",
      "execution_count": null,
      "metadata": {
        "colab": {
          "base_uri": "https://localhost:8080/"
        },
        "id": "I-D0hfZbNhqK",
        "outputId": "92398c8d-ed96-452c-c66e-da62614e889a"
      },
      "outputs": [
        {
          "output_type": "stream",
          "name": "stdout",
          "text": [
            "enter the principal for simple intrest5000\n",
            "enter the time for simple intrest5\n",
            "enter the rate of intrest for simple intrest8\n",
            "simple intrest is : Rs 2000.0\n"
          ]
        }
      ],
      "source": [
        "#3. Python Program for simple interest\n",
        "def simple_intrest(p,t,r): #define a liabrary\n",
        "    si=(p*t*r)/100\n",
        "    return si #return statement for define liabrary\n",
        "principal=float(input(\"enter the principal for simple intrest\"))\n",
        "time=float(input(\"enter the time for simple intrest\"))\n",
        "rate=float(input(\"enter the rate of intrest for simple intrest\"))\n",
        "intrest=simple_intrest(principal,time,rate) #calculate simple intrest using a defined liabrary\n",
        "print(\"simple intrest is : Rs\",intrest) #print function\n"
      ]
    },
    {
      "cell_type": "code",
      "execution_count": null,
      "metadata": {
        "colab": {
          "base_uri": "https://localhost:8080/"
        },
        "id": "6cG5ZgjkNhqL",
        "outputId": "081cd49e-16d9-4067-ec79-363a1d6966a0"
      },
      "outputs": [
        {
          "output_type": "stream",
          "name": "stdout",
          "text": [
            "enter the principal for simple intrest3000\n",
            "enter the time for simple intrest6\n",
            "enter the rate of intrest for simple intrest3\n",
            "simple intrest is : Rs 540.0\n"
          ]
        }
      ],
      "source": [
        "#another way of question 3\n",
        "p=float(input(\"enter the principal for simple intrest\")) #giving principal input\n",
        "t=float(input(\"enter the time for simple intrest\")) #giving time input\n",
        "r=float(input(\"enter the rate of intrest for simple intrest\")) #giving rate of intrest input\n",
        "si=(p*t*r)/100 #calculate si\n",
        "print(\"simple intrest is : Rs\",si) #print simple intrest"
      ]
    },
    {
      "cell_type": "code",
      "execution_count": null,
      "metadata": {
        "id": "F8jWMeRNNhqM",
        "outputId": "3f850fab-5714-4f9a-92d8-f7ae58f804ff"
      },
      "outputs": [
        {
          "name": "stdout",
          "output_type": "stream",
          "text": [
            "The amount of money accumulated after 10 years, including interest, is: 1638.62\n",
            "The interest earned is: 638.62\n"
          ]
        }
      ],
      "source": [
        "#4. Python Program for compound interest\n",
        "def calculate_compound_interest(principal, rate, times_compounded, years):\n",
        "    rate = rate / 100 # Convert the annual rate from percentage to decimal\n",
        "    amount = principal * (1 + rate / times_compounded) ** (times_compounded * years) #Calculate compound interest\n",
        "    interest = amount - principal # Calculate the interest earned\n",
        "    return amount, interest\n",
        "# Input values\n",
        "P = float(input(\"Enter the principal amount: \"))\n",
        "r = float(input(\"Enter the annual interest rate (in %): \"))\n",
        "n = int(input(\"Enter the number of times the interest is compounded per year: \"))\n",
        "t = int(input(\"Enter the number of years the money is invested or borrowed for: \"))\n",
        "amount, interest = calculate_compound_interest(P, r, n, t) # Calculate compound interest\n",
        "\n",
        "print(f\"The amount of money accumulated after {t} years, including interest, is: {amount:.2f}\")\n",
        "print(f\"The interest earned is: {interest:.2f}\")\n"
      ]
    },
    {
      "cell_type": "code",
      "execution_count": null,
      "metadata": {
        "id": "4e6HS01BNhqN",
        "outputId": "3ae56a61-a5cf-40db-a331-1f51c1c48c94"
      },
      "outputs": [
        {
          "name": "stdout",
          "output_type": "stream",
          "text": [
            "24 is not an Armstrong number.\n"
          ]
        }
      ],
      "source": [
        "#5. Python Program to check Armstrong Number\n",
        "def is_armstrong_number(number):\n",
        "    num_str = str(number) # Convert the number to a string to easily iterate over digits\n",
        "    num_digits = len(num_str)  # Calculate the number of digits\n",
        "    sum_of_powers = 0  # Initialize sum of powers\n",
        "    for digit in num_str:\n",
        "        sum_of_powers += int(digit) ** num_digits # Calculate the sum of each digit raised to the power of num_digits\n",
        "    return sum_of_powers == number #the sum of powers is equal to the original number\n",
        "\n",
        "number = int(input(\"Enter a number: \")) # Input from the user\n",
        "\n",
        "if is_armstrong_number(number):\n",
        "    print(f\"{number} is an Armstrong number.\")\n",
        "else:\n",
        "    print(f\"{number} is not an Armstrong number.\") # Check if the number is an Armstrong number\n"
      ]
    },
    {
      "cell_type": "code",
      "execution_count": null,
      "metadata": {
        "colab": {
          "base_uri": "https://localhost:8080/"
        },
        "id": "cK3QYxyjNhqP",
        "outputId": "febda932-4eab-4b3c-9909-58feba1aee22"
      },
      "outputs": [
        {
          "output_type": "stream",
          "name": "stdout",
          "text": [
            "50 : 25\n",
            "the area of the circle is : 1964.2857142857142\n"
          ]
        }
      ],
      "source": [
        "#6. Python Program for Program to find area of a circle\n",
        "def area_of_circle(radius):\n",
        "    area=22/7*radius*radius #calculate area formula\n",
        "    return area\n",
        "r=float(input(\"50 : \")) #input statement for user\n",
        "a=area_of_circle(r) #call the liabrary to use it\n",
        "print(f\"the area of the circle is :\",a) #output statement"
      ]
    },
    {
      "cell_type": "code",
      "execution_count": null,
      "metadata": {
        "id": "6dFv_pqcNhqT",
        "outputId": "5ef2008b-6a72-450f-98b9-4f4c5ef52111"
      },
      "outputs": [
        {
          "name": "stdout",
          "output_type": "stream",
          "text": [
            "Prime numbers between 1 and 100 are: 2\n",
            "3\n",
            "5\n",
            "7\n",
            "11\n",
            "13\n",
            "17\n",
            "19\n",
            "23\n",
            "29\n",
            "31\n",
            "37\n",
            "41\n",
            "43\n",
            "47\n",
            "53\n",
            "59\n",
            "61\n",
            "67\n",
            "71\n",
            "73\n",
            "79\n",
            "83\n",
            "89\n",
            "97\n"
          ]
        }
      ],
      "source": [
        "#7. Python program to print all Prime numbers in an Interval\n",
        "def is_prime(n):\n",
        "    \"\"\"Check if a number is prime.\"\"\"\n",
        "    if n <= 1:\n",
        "        return False\n",
        "    if n <= 3:\n",
        "        return True\n",
        "    if n % 2 == 0 or n % 3 == 0:\n",
        "        return False\n",
        "    i = 5\n",
        "    while i * i <= n:\n",
        "        if n % i == 0 or n % (i + 2) == 0:\n",
        "            return False\n",
        "        i += 6\n",
        "    return True\n",
        "\n",
        "def print_primes_in_interval(start, end):\n",
        "    \"\"\"Print all prime numbers in the interval [start, end].\"\"\"\n",
        "    for num in range(start, end + 1):\n",
        "        if is_prime(num):\n",
        "            print(num)\n",
        "\n",
        "# Input the interval from the user\n",
        "start = int(input(\"Enter the start of the interval: \"))\n",
        "end = int(input(\"Enter the end of the interval: \"))\n",
        "\n",
        "# Print all prime numbers in the interval\n",
        "print(f\"Prime numbers between {start} and {end} are:\")\n",
        "print_primes_in_interval(start, end)\n"
      ]
    },
    {
      "cell_type": "code",
      "execution_count": null,
      "metadata": {
        "colab": {
          "base_uri": "https://localhost:8080/"
        },
        "id": "ydb7LwdUNhqU",
        "outputId": "143ab163-d8ed-4082-b90e-60358111f8e2"
      },
      "outputs": [
        {
          "output_type": "stream",
          "name": "stdout",
          "text": [
            "650 : 345\n",
            "345 is not a prime number.\n"
          ]
        }
      ],
      "source": [
        "#8. Python program to check whether a number is Prime or not\n",
        "def is_prime(n):\n",
        "    #heck if a number is prime.\n",
        "    if n <= 1:\n",
        "        return False\n",
        "    if n <= 3:\n",
        "        return True\n",
        "    if n % 2 == 0 or n % 3 == 0:\n",
        "        return False\n",
        "    i = 5\n",
        "    while i * i <= n:\n",
        "        if n % i == 0 or n % (i + 2) == 0:\n",
        "            return False\n",
        "        i += 6\n",
        "    return True\n",
        "\n",
        "# Input from the user\n",
        "number = int(input(\"650 : \"))\n",
        "\n",
        "# Check if the number is prime\n",
        "if is_prime(number):\n",
        "    print(f\"{number} is a prime number.\")\n",
        "else:\n",
        "    print(f\"{number} is not a prime number.\")\n"
      ]
    },
    {
      "cell_type": "code",
      "execution_count": null,
      "metadata": {
        "id": "fLB2eMwgNhqV",
        "outputId": "e14999ec-3268-464b-b858-b61394b7dbc4"
      },
      "outputs": [
        {
          "name": "stdout",
          "output_type": "stream",
          "text": [
            "The 7-th Fibonacci number is: 8\n"
          ]
        }
      ],
      "source": [
        "#9. Python Program for n-th Fibonacci number\n",
        "def fibonacci_number(n):\n",
        "    if n <= 0:\n",
        "        return \"Invalid input, n should be a positive integer.\"\n",
        "    elif n == 1:\n",
        "        return 0\n",
        "    elif n == 2:\n",
        "        return 1\n",
        "    a=0\n",
        "    b=1\n",
        "    for i in range(n - 2):\n",
        "        a, b = b, a + b\n",
        "    return b\n",
        "\n",
        "# Input from the user\n",
        "n = int(input(\"Enter the position of the Fibonacci number: \"))\n",
        "\n",
        "# Get the n-th Fibonacci number\n",
        "fib_number = fibonacci_number(n)\n",
        "print(f\"The {n}-th Fibonacci number is: {fib_number}\")\n"
      ]
    },
    {
      "cell_type": "code",
      "execution_count": null,
      "metadata": {
        "colab": {
          "base_uri": "https://localhost:8080/",
          "height": 211
        },
        "id": "yVkMP_idNhqW",
        "outputId": "4ee9cc87-9df5-4144-b2b8-838135b1084d"
      },
      "outputs": [
        {
          "output_type": "error",
          "ename": "NameError",
          "evalue": "name 'numbers_to_test' is not defined",
          "traceback": [
            "\u001b[0;31m---------------------------------------------------------------------------\u001b[0m",
            "\u001b[0;31mNameError\u001b[0m                                 Traceback (most recent call last)",
            "\u001b[0;32m<ipython-input-3-7830155b62a4>\u001b[0m in \u001b[0;36m<cell line: 15>\u001b[0;34m()\u001b[0m\n\u001b[1;32m     13\u001b[0m   \u001b[0mnumbers_to_test\u001b[0m \u001b[0;34m=\u001b[0m \u001b[0;34m[\u001b[0m\u001b[0;36m0\u001b[0m\u001b[0;34m,\u001b[0m \u001b[0;36m1\u001b[0m\u001b[0;34m,\u001b[0m \u001b[0;36m2\u001b[0m\u001b[0;34m,\u001b[0m \u001b[0;36m3\u001b[0m\u001b[0;34m,\u001b[0m \u001b[0;36m4\u001b[0m\u001b[0;34m,\u001b[0m \u001b[0;36m5\u001b[0m\u001b[0;34m,\u001b[0m \u001b[0;36m13\u001b[0m\u001b[0;34m,\u001b[0m \u001b[0;36m21\u001b[0m\u001b[0;34m,\u001b[0m \u001b[0;36m22\u001b[0m\u001b[0;34m]\u001b[0m\u001b[0;34m\u001b[0m\u001b[0;34m\u001b[0m\u001b[0m\n\u001b[1;32m     14\u001b[0m \u001b[0;34m\u001b[0m\u001b[0m\n\u001b[0;32m---> 15\u001b[0;31m \u001b[0;32mfor\u001b[0m \u001b[0mnumber\u001b[0m \u001b[0;32min\u001b[0m \u001b[0mnumbers_to_test\u001b[0m\u001b[0;34m:\u001b[0m\u001b[0;34m\u001b[0m\u001b[0;34m\u001b[0m\u001b[0m\n\u001b[0m\u001b[1;32m     16\u001b[0m   \u001b[0;32mif\u001b[0m \u001b[0mis_fibonacci_number\u001b[0m\u001b[0;34m(\u001b[0m\u001b[0mnumber\u001b[0m\u001b[0;34m)\u001b[0m\u001b[0;34m:\u001b[0m\u001b[0;34m\u001b[0m\u001b[0;34m\u001b[0m\u001b[0m\n\u001b[1;32m     17\u001b[0m     \u001b[0mprint\u001b[0m\u001b[0;34m(\u001b[0m\u001b[0;34mf\"{number} is a Fibonacci number.\"\u001b[0m\u001b[0;34m)\u001b[0m\u001b[0;34m\u001b[0m\u001b[0;34m\u001b[0m\u001b[0m\n",
            "\u001b[0;31mNameError\u001b[0m: name 'numbers_to_test' is not defined"
          ]
        }
      ],
      "source": [
        "#10. Python Program for How to check if a given number is Fibonacci number?\n",
        "import math\n",
        "\n",
        "def is_perfect_square(x):\n",
        "  s = int(math.sqrt(x))\n",
        "  return s * s == x\n",
        "\n",
        "def is_fibonacci_number(n):\n",
        "  # check if one or both conditions hold true\n",
        "  return is_perfect_square(5 * n * n + 4) or is_perfect_square(5 * n * n) or is_perfect_square(5 * n * n - 4)\n",
        "\n",
        "  # Test the function with some numbers\n",
        "  numbers_to_test = [0, 1, 2, 3, 4, 5, 13, 21, 22]\n",
        "\n",
        "for number in numbers_to_test:\n",
        "  if is_fibonacci_number(number):\n",
        "    print(f\"{number} is a Fibonacci number.\")\n",
        "else:\n",
        "      print(f\"{number} is not a Fibonacci number.\")"
      ]
    },
    {
      "cell_type": "code",
      "execution_count": null,
      "metadata": {
        "colab": {
          "base_uri": "https://localhost:8080/",
          "height": 106
        },
        "id": "4duELnyQNhqX",
        "outputId": "81554e57-9a51-44c2-f405-7cdf5b20a9f6"
      },
      "outputs": [
        {
          "output_type": "error",
          "ename": "SyntaxError",
          "evalue": "unterminated string literal (detected at line 22) (<ipython-input-10-a8eccd8137df>, line 22)",
          "traceback": [
            "\u001b[0;36m  File \u001b[0;32m\"<ipython-input-10-a8eccd8137df>\"\u001b[0;36m, line \u001b[0;32m22\u001b[0m\n\u001b[0;31m    print(f\"The {n}th multiple of {x} in the Fibonacci series is:\u001b[0m\n\u001b[0m          ^\u001b[0m\n\u001b[0;31mSyntaxError\u001b[0m\u001b[0;31m:\u001b[0m unterminated string literal (detected at line 22)\n"
          ]
        }
      ],
      "source": [
        "#11.Python Program for n\\’th multiple of a number in Fibonacci Series\n",
        "def find_nth_multiple_of_x_in_fibonacci(n,x)\n",
        "\n",
        "# initialize the first two Fibonacci numbers\n",
        "a,b = 0, 1\n",
        "count = 0 # count of multiples found\n",
        "multiples = [] # List to store multiples\n",
        "\n",
        "# continue until we find n multiples\n",
        "while count < n:\n",
        "  # Generate the next Fibonacci number\n",
        "  a, b =b, a + b\n",
        "  # check if it is a multiple of x\n",
        "  if a % x == 0:\n",
        "    multiples.append(a)\n",
        "    count += 1\n",
        "\n",
        "    return multiples[-1] #Return the nth multiple\n",
        "    # Example usage\n",
        "    n = 5\n",
        "    x = 4\n",
        "    print(f\"The {n}th multiple of {x} in the Fibonacci series is:\n",
        "    {find_nth_multiple_of_x_in_fibonacci(n, x)}\")"
      ]
    },
    {
      "cell_type": "code",
      "execution_count": null,
      "metadata": {
        "colab": {
          "base_uri": "https://localhost:8080/"
        },
        "id": "OW-B6whNNhqY",
        "outputId": "3a01ad48-cf22-4d14-aefa-f648b44b6230"
      },
      "outputs": [
        {
          "output_type": "stream",
          "name": "stdout",
          "text": [
            "Enter a positive integer: 35\n",
            "The sum of the squares of the first 35 natural numbers is: 14910.0\n"
          ]
        }
      ],
      "source": [
        "#12. Python Program for Sum of squares of first n natural numbers\n",
        "def sum_of_squares(n):\n",
        "    return n * (n + 1) * (2 * n + 1) /6 #Calculate the sum of squares of the first n natural numbers using the formula.\n",
        "\n",
        "n = int(input(\"Enter a positive integer: \"))# Input from the user\n",
        "# Calculate the sum of squares using the formula\n",
        "sum_squares = sum_of_squares(n)\n",
        "print(f\"The sum of the squares of the first {n} natural numbers is: {sum_squares}\")\n"
      ]
    },
    {
      "cell_type": "code",
      "execution_count": null,
      "metadata": {
        "colab": {
          "base_uri": "https://localhost:8080/"
        },
        "id": "pdKCCDukNhqY",
        "outputId": "fb20fb57-5184-4125-9af1-472cdcabf8c4"
      },
      "outputs": [
        {
          "output_type": "stream",
          "name": "stdout",
          "text": [
            "Enter a positive integer: 45\n",
            "The sum of the cubes of the first 45 natural numbers is: 1071225\n"
          ]
        }
      ],
      "source": [
        "#13.Python Program for cube sum of first n natural numbers\n",
        "def sum_of_cubes(n):\n",
        "    #Calculate the sum of cubes of the first n natural numbers using the formula.\n",
        "    sum_n = n * (n + 1) // 2\n",
        "    return sum_n * sum_n\n",
        "# Input from the user\n",
        "n = int(input(\"Enter a positive integer: \"))\n",
        "# Calculate the sum of cubes using the formula\n",
        "sum_cubes = sum_of_cubes(n)\n",
        "print(f\"The sum of the cubes of the first {n} natural numbers is: {sum_cubes}\")\n"
      ]
    },
    {
      "cell_type": "code",
      "execution_count": null,
      "metadata": {
        "id": "Jbj1qNljNhqZ"
      },
      "outputs": [],
      "source": []
    }
  ],
  "metadata": {
    "colab": {
      "provenance": []
    },
    "kernelspec": {
      "display_name": "Python 3",
      "name": "python3"
    },
    "language_info": {
      "codemirror_mode": {
        "name": "ipython",
        "version": 3
      },
      "file_extension": ".py",
      "mimetype": "text/x-python",
      "name": "python",
      "nbconvert_exporter": "python",
      "pygments_lexer": "ipython3",
      "version": "3.12.4"
    }
  },
  "nbformat": 4,
  "nbformat_minor": 0
}