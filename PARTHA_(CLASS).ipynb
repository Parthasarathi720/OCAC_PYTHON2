{
  "nbformat": 4,
  "nbformat_minor": 0,
  "metadata": {
    "colab": {
      "provenance": []
    },
    "kernelspec": {
      "name": "python3",
      "display_name": "Python 3"
    },
    "language_info": {
      "name": "python"
    }
  },
  "cells": [
    {
      "source": [
        "#Create Class\n",
        "class MyClass:\n",
        "    x = 5 # Indent this line to make it part of the class\n",
        "    print(\"Hello partha\",x)"
      ],
      "cell_type": "code",
      "metadata": {
        "colab": {
          "base_uri": "https://localhost:8080/"
        },
        "id": "CqAuQ7fS4-5C",
        "outputId": "46d82b69-bdf1-4c74-99ea-0eac9ef5c9f0"
      },
      "execution_count": 1,
      "outputs": [
        {
          "output_type": "stream",
          "name": "stdout",
          "text": [
            "Hello partha 5\n"
          ]
        }
      ]
    },
    {
      "cell_type": "code",
      "source": [
        "#create object, Create an object named p1, and print the value of x:\n",
        "p1 = MyClass()\n",
        "print(p1.x)"
      ],
      "metadata": {
        "colab": {
          "base_uri": "https://localhost:8080/"
        },
        "id": "XHE8LUNS5AoU",
        "outputId": "87bcc4a3-d41d-42c7-8310-4c95f7758305"
      },
      "execution_count": null,
      "outputs": [
        {
          "output_type": "stream",
          "name": "stdout",
          "text": [
            "5\n"
          ]
        }
      ]
    },
    {
      "cell_type": "code",
      "source": [
        "y=MyClass()\n",
        "print(y.x)\n",
        "print(type(y))"
      ],
      "metadata": {
        "colab": {
          "base_uri": "https://localhost:8080/"
        },
        "id": "WDx9DacQ5JNl",
        "outputId": "5ec6c1e1-92d8-48a2-a2fe-ab42ede0a28a"
      },
      "execution_count": null,
      "outputs": [
        {
          "output_type": "stream",
          "name": "stdout",
          "text": [
            "5\n",
            "<class '__main__.MyClass'>\n"
          ]
        }
      ]
    },
    {
      "source": [
        "class Students:\n",
        "    print(\"Hello partha\")  # Indent this line to be part of the class\n",
        "z = Students()\n",
        "print(type(z))"
      ],
      "cell_type": "code",
      "metadata": {
        "colab": {
          "base_uri": "https://localhost:8080/"
        },
        "id": "vrGimtHn5f2r",
        "outputId": "782b5954-7002-40db-ef48-027405cd1d9f"
      },
      "execution_count": 2,
      "outputs": [
        {
          "output_type": "stream",
          "name": "stdout",
          "text": [
            "Hello partha\n",
            "<class '__main__.Students'>\n"
          ]
        }
      ]
    },
    {
      "source": [
        "class Student:\n",
        "    def func(): # Indent this line to be part of the class\n",
        "        print(\"Hello, My Name is Partha\")\n",
        "\n",
        "Student.func()"
      ],
      "cell_type": "code",
      "metadata": {
        "colab": {
          "base_uri": "https://localhost:8080/"
        },
        "id": "-dQZwmVr5urc",
        "outputId": "bf27901b-8018-4eca-e2a1-0362af9baa24"
      },
      "execution_count": 3,
      "outputs": [
        {
          "output_type": "stream",
          "name": "stdout",
          "text": [
            "Hello, My Name is Partha\n"
          ]
        }
      ]
    },
    {
      "source": [
        "class Student:\n",
        "    year = 1999  # Indent this line to be part of the class definition\n",
        "\n",
        "    def func(self):\n",
        "        print(\"Hello, My Birth year is\", self.year)\n",
        "\n",
        "x = Student()\n",
        "x.func()"
      ],
      "cell_type": "code",
      "metadata": {
        "colab": {
          "base_uri": "https://localhost:8080/"
        },
        "id": "8WiNO7-V57AK",
        "outputId": "6a1a687a-6213-4daf-b945-1b5dbe9448fa"
      },
      "execution_count": 4,
      "outputs": [
        {
          "output_type": "stream",
          "name": "stdout",
          "text": [
            "Hello, My Birth year is 1999\n"
          ]
        }
      ]
    },
    {
      "source": [
        "class Person:\n",
        "    def __init__(self, name, age):\n",
        "        self.name = name\n",
        "        self.age = age\n",
        "\n",
        "    def myfunc(self):\n",
        "        print(\"Hello my name is \" + self.name)\n",
        "\n",
        "p1 = Person(\"Partha\", 24)\n",
        "p1.myfunc() # Call the function using the correct name"
      ],
      "cell_type": "code",
      "metadata": {
        "colab": {
          "base_uri": "https://localhost:8080/"
        },
        "id": "lxS8SCCn6w3l",
        "outputId": "a950a2e5-172e-4a46-c02e-824218c32889"
      },
      "execution_count": 5,
      "outputs": [
        {
          "output_type": "stream",
          "name": "stdout",
          "text": [
            "Hello my name is Partha\n"
          ]
        }
      ]
    },
    {
      "source": [
        "class Student:\n",
        "    def __init__(self,name):\n",
        "        self.name = name\n",
        "partha = Student(name='Partha Sarathi Behuria!')\n",
        "best = Student(name=\"I am the best\")\n",
        "print(partha.name)\n",
        "print(best.name)"
      ],
      "cell_type": "code",
      "metadata": {
        "colab": {
          "base_uri": "https://localhost:8080/"
        },
        "id": "KWiBqT1Z8plH",
        "outputId": "affa9113-ff83-446d-d7d8-54a384c1b803"
      },
      "execution_count": 6,
      "outputs": [
        {
          "output_type": "stream",
          "name": "stdout",
          "text": [
            "Partha Sarathi Behuria!\n",
            "I am the best\n"
          ]
        }
      ]
    },
    {
      "source": [
        "class Person:\n",
        "    def __init__(self, name, age):\n",
        "\n",
        "        self.name = name\n",
        "        self.age = age\n",
        "p1 = Person(\"Partha\", 24)\n",
        "print(p1.name)\n",
        "print(p1.age)"
      ],
      "cell_type": "code",
      "metadata": {
        "colab": {
          "base_uri": "https://localhost:8080/"
        },
        "id": "Qv5Y0oWI88EO",
        "outputId": "cd61723c-ea7f-4602-b107-308d512d3ad1"
      },
      "execution_count": 7,
      "outputs": [
        {
          "output_type": "stream",
          "name": "stdout",
          "text": [
            "Partha\n",
            "24\n"
          ]
        }
      ]
    },
    {
      "source": [
        "class Student:\n",
        "    Total = 100 # Class variable\n",
        "    def __init__(self, marks):\n",
        "        self.marks = marks # Corrected the assignment\n",
        "        print(\"Initialized...\")\n",
        "    def findLoss(self):\n",
        "        return self.Total - self.marks # Corrected the expression\n",
        "    def findPercentage(self):\n",
        "        return (self.marks / self.Total) * 100 # Corrected the expression\n",
        "a = Student(marks=70)\n",
        "print(\"Total Marks:\", a.Total)\n",
        "print('Lost Marks:', a.findLoss()) # Corrected the typo in the string\n",
        "print('Percentage is:', a.findPercentage()) # Added missing closing parenthesis"
      ],
      "cell_type": "code",
      "metadata": {
        "colab": {
          "base_uri": "https://localhost:8080/"
        },
        "id": "BVC2OMx89mCv",
        "outputId": "9d6dabe3-5c11-4898-80f3-2e1d24ca478f"
      },
      "execution_count": 8,
      "outputs": [
        {
          "output_type": "stream",
          "name": "stdout",
          "text": [
            "Initialized...\n",
            "Total Marks: 100\n",
            "Lost Marks: 30\n",
            "Percentage is: 70.0\n"
          ]
        }
      ]
    },
    {
      "source": [
        "class Student:\n",
        "    Total = 100 # Class variable\n",
        "    def __init__(self, name, marks,gender):\n",
        "        self.name=name\n",
        "        self.marks=marks\n",
        "        self.gender=gender\n",
        "        print(\"Initialized...\")\n",
        "    def __len__(self):\n",
        "        return self.marks\n",
        "    def __str__(self):\n",
        "        return \"Name: %s | Marks: %s | Gender: %s\" %(self.name,self.marks,self.gender) # fix typo self.g -> self.gender\n",
        "    def __del__(self):\n",
        "        print(\"Student Database is Deleted\")\n",
        "a = Student('Partha', 80, 'male')\n",
        "print(a)\n",
        "print('Marks: ',len(a))\n",
        "del a"
      ],
      "cell_type": "code",
      "metadata": {
        "colab": {
          "base_uri": "https://localhost:8080/"
        },
        "id": "rxsxVgSCAQOQ",
        "outputId": "f047fbf8-e619-4ec7-d011-fa866c607196"
      },
      "execution_count": 10,
      "outputs": [
        {
          "output_type": "stream",
          "name": "stdout",
          "text": [
            "Initialized...\n",
            "Name: Partha | Marks: 80 | Gender: male\n",
            "Marks:  80\n",
            "Student Database is Deleted\n"
          ]
        }
      ]
    },
    {
      "source": [
        "student = {\n",
        "    \"Name\": \"Partha\",\n",
        "    \"Marks\": 380,\n",
        "    \"Gender\": \"male\"\n",
        "}\n",
        "\n",
        "del student\n",
        "\n",
        "print(\"Student Database is Deleted\")\n",
        "class Student:\n",
        "    Total = 500 # Class variable\n",
        "    def __init__(self, name, marks,gender):\n",
        "        self.name=name\n",
        "        self.marks=marks\n",
        "        self.gender=gender\n",
        "        print(\"Initialized...\")\n",
        "    def __len__(self):\n",
        "        return self.marks\n",
        "    def __str__(self):\n",
        "        return \"Name: %s | Marks: %s | Gender: %s\" %(self.name,self.marks,self.gender) # fix typo self.g -> self.gender\n",
        "\n",
        "    def __del__(self):\n",
        "        print('Student Database is Deleted') # Indent this line to be part of the class"
      ],
      "cell_type": "code",
      "metadata": {
        "colab": {
          "base_uri": "https://localhost:8080/"
        },
        "id": "U2zrVTliAjtX",
        "outputId": "dc840691-4bd6-4e7a-87c8-2505e3bb967d"
      },
      "execution_count": 11,
      "outputs": [
        {
          "output_type": "stream",
          "name": "stdout",
          "text": [
            "Student Database is Deleted\n"
          ]
        }
      ]
    },
    {
      "source": [
        "class Student:\n",
        "    Total = 500 # Class variable\n",
        "    def __init__(self, marks): # Fix indentation\n",
        "        self.marks = marks\n",
        "        print(\"Initialized...\")\n",
        "    def mul(self): # Fix indentation\n",
        "        return self.marks * self.Total\n",
        "p1 = Student(490)\n",
        "p1.mul()"
      ],
      "cell_type": "code",
      "metadata": {
        "colab": {
          "base_uri": "https://localhost:8080/"
        },
        "id": "vC1EXmYsA0u4",
        "outputId": "5c56f11d-ab05-4f5d-8872-3ef4ded6e07e"
      },
      "execution_count": 12,
      "outputs": [
        {
          "output_type": "stream",
          "name": "stdout",
          "text": [
            "Initialized...\n"
          ]
        },
        {
          "output_type": "execute_result",
          "data": {
            "text/plain": [
              "245000"
            ]
          },
          "metadata": {},
          "execution_count": 12
        }
      ]
    },
    {
      "source": [
        "class Student:\n",
        "    Total = 500 # Class variable\n",
        "    def __init__(self, name, marks,gender):\n",
        "        self.name=name\n",
        "        self.marks=marks\n",
        "        self.gender=gender\n",
        "        print(\"Initialized...\")\n",
        "    def __len__(b):\n",
        "        return b.marks\n",
        "a = Student('Partha', 289, 'male')\n",
        "print(a)\n",
        "print('Marks: ',len(a))"
      ],
      "cell_type": "code",
      "metadata": {
        "colab": {
          "base_uri": "https://localhost:8080/"
        },
        "id": "Z5npYF8oBFNk",
        "outputId": "d1cd4092-ff45-43f1-da29-b48512843630"
      },
      "execution_count": 13,
      "outputs": [
        {
          "output_type": "stream",
          "name": "stdout",
          "text": [
            "Initialized...\n",
            "<__main__.Student object at 0x7eb207b46590>\n",
            "Marks:  289\n"
          ]
        }
      ]
    },
    {
      "source": [
        "class Person:\n",
        "    def __init__(mysillyobject, name, age):\n",
        "        mysillyobject.name = name\n",
        "        mysillyobject.age = age\n",
        "    def myfunc(abc):\n",
        "        print(\"Hello my name is \" + abc.name + \" \" + str(abc.age)) # Fix concatenation and convert age to string\n",
        "\n",
        "p1 = Person(\"Partha\", 24)\n",
        "p1.myfunc() # Call the method on the object"
      ],
      "cell_type": "code",
      "metadata": {
        "colab": {
          "base_uri": "https://localhost:8080/"
        },
        "id": "zBfsqNiuB4MS",
        "outputId": "e459a941-9e96-44de-bfb1-e353719cc8b4"
      },
      "execution_count": 14,
      "outputs": [
        {
          "output_type": "stream",
          "name": "stdout",
          "text": [
            "Hello my name is Partha 24\n"
          ]
        }
      ]
    },
    {
      "cell_type": "code",
      "source": [
        "#Modify Object Properties\n",
        "#Set the age of p1 to 40\n",
        "\n",
        "p1.age = 24\n",
        "p1.myfunc()"
      ],
      "metadata": {
        "colab": {
          "base_uri": "https://localhost:8080/"
        },
        "id": "CcoUf08DB7I2",
        "outputId": "63bf3b7e-d438-4951-ab9f-57dbde7229a9"
      },
      "execution_count": 15,
      "outputs": [
        {
          "output_type": "stream",
          "name": "stdout",
          "text": [
            "Hello my name is Partha 24\n"
          ]
        }
      ]
    },
    {
      "source": [
        "class Person:\n",
        "    def __init__(self, fname, lname):\n",
        "        self.firstname = fname  # Initialize firstname attribute in Person class\n",
        "        self.lastname = lname\n",
        "\n",
        "class Student(Person):\n",
        "    def __init__(self, fname, lname, major):\n",
        "        Person.__init__(self, fname, lname)  # Properly call Person's constructor\n",
        "        self.major = major\n",
        "\n",
        "    def print_info(self):\n",
        "        print(self.firstname, self.lastname, \"-\", self.major)  # Now you can access self.firstname\n",
        "\n",
        "x = Student(\"Partha\", \"Unmesha\", \"Forever\")\n",
        "x.print_info()"
      ],
      "cell_type": "code",
      "metadata": {
        "colab": {
          "base_uri": "https://localhost:8080/"
        },
        "id": "BBO5Jye1E2g0",
        "outputId": "311a3621-f0ef-45be-91a2-fdd2fee0835d"
      },
      "execution_count": 16,
      "outputs": [
        {
          "output_type": "stream",
          "name": "stdout",
          "text": [
            "Partha Unmesha - Forever\n"
          ]
        }
      ]
    },
    {
      "source": [
        "class Person:\n",
        "    def __init__(self, fname, lname): # Indent the __init__ method\n",
        "        self.firstname = fname\n",
        "        self.lastname = lname\n",
        "    def printname(self): # Indent the printname method\n",
        "        print(self.firstname, self.lastname)\n",
        "\n",
        "class Student(Person):\n",
        "    def __init__(self, fname, lname):\n",
        "        super().__init__(fname, lname)\n",
        "        self.graduationyear = 2018\n",
        "\n",
        "x = Student(\"Partha\", \"Unmesha\")\n",
        "print(x.graduationyear)\n",
        "x.printname()"
      ],
      "cell_type": "code",
      "metadata": {
        "colab": {
          "base_uri": "https://localhost:8080/"
        },
        "id": "oM83NFPdFik-",
        "outputId": "4602c5c6-456e-48e0-f03a-f49af0e0f32b"
      },
      "execution_count": 17,
      "outputs": [
        {
          "output_type": "stream",
          "name": "stdout",
          "text": [
            "2018\n",
            "Partha Unmesha\n"
          ]
        }
      ]
    },
    {
      "source": [
        "class Person:\n",
        "    def __init__(self, fname, lname):\n",
        "        self.firstname = fname\n",
        "        self.lastname = lname\n",
        "\n",
        "    def printname(self):\n",
        "        print(self.firstname, self.lastname)\n",
        "\n",
        "class Student(Person):\n",
        "    def __init__(self, fname, lname, year):\n",
        "        super().__init__(fname, lname)\n",
        "        self.graduationyear = year\n",
        "\n",
        "x = Student(\"Partha\", \"Unmesha\", 2018)\n",
        "print(x.graduationyear)"
      ],
      "cell_type": "code",
      "metadata": {
        "colab": {
          "base_uri": "https://localhost:8080/"
        },
        "id": "sM6M0HKqGXim",
        "outputId": "727276e0-1303-47ad-d0d4-91ef26605a34"
      },
      "execution_count": 18,
      "outputs": [
        {
          "output_type": "stream",
          "name": "stdout",
          "text": [
            "2018\n"
          ]
        }
      ]
    },
    {
      "source": [
        "class Person:\n",
        "    def __init__(self, fname, lname):\n",
        "        self.firstname = fname\n",
        "        self.lastname = lname\n",
        "\n",
        "    def printname(self):\n",
        "        print(self.firstname, self.lastname) # Indent this line\n",
        "\n",
        "class Student(Person):\n",
        "    def __init__(self, fname, lname, year):\n",
        "        super().__init__(fname, lname)\n",
        "        self.graduationyear = year\n",
        "\n",
        "    def welcome(self):\n",
        "        print(\"Our\", self.firstname, self.lastname, \"in the year of\", self.graduationyear) # Fix typo here\n",
        "\n",
        "x = Student(\"Relationship\", \"started\", 2018)\n",
        "x.welcome()"
      ],
      "cell_type": "code",
      "metadata": {
        "colab": {
          "base_uri": "https://localhost:8080/"
        },
        "id": "fULTnA6JG-49",
        "outputId": "3ab48a31-9b7d-4239-dc80-2869cc4798eb"
      },
      "execution_count": 19,
      "outputs": [
        {
          "output_type": "stream",
          "name": "stdout",
          "text": [
            "Our Relationship started in the year of 2018\n"
          ]
        }
      ]
    },
    {
      "source": [
        "class Partha:\n",
        "    def __init__(self): # Indent all methods within the class\n",
        "        print(\"Profile created\")\n",
        "    def name(self):\n",
        "        print(\"Partha Sarathi\")\n",
        "    def age(self):\n",
        "        print(\"24\")"
      ],
      "cell_type": "code",
      "metadata": {
        "id": "6vZmowklHuvJ"
      },
      "execution_count": 20,
      "outputs": []
    },
    {
      "source": [
        "class IPS(Partha):\n",
        "    def __init__(self):  # Indent this line\n",
        "        super().__init__() # Correctly call the parent class's initializer\n",
        "        print(\"All india Rank 12\")\n",
        "    def name(self):  # Indent this line\n",
        "        print(\"IPS\")\n",
        "    def type(self):  # Indent this line\n",
        "        print(\"My final goal\")"
      ],
      "cell_type": "code",
      "metadata": {
        "id": "HywsW-C-H-XY"
      },
      "execution_count": 21,
      "outputs": []
    },
    {
      "cell_type": "code",
      "source": [
        "# Creating an instance of the IPS class\n",
        "IPS_profile = IPS()\n",
        "# Calling methods on the instance\n",
        "IPS_profile.name()\n",
        "IPS_profile.age()\n",
        "IPS_profile.type()"
      ],
      "metadata": {
        "colab": {
          "base_uri": "https://localhost:8080/"
        },
        "id": "AAuoTUqtIAeY",
        "outputId": "55adc6cf-377a-4a3d-ad17-b25a502c9ddc"
      },
      "execution_count": 22,
      "outputs": [
        {
          "output_type": "stream",
          "name": "stdout",
          "text": [
            "Profile created\n",
            "All india Rank 12\n",
            "IPS\n",
            "24\n",
            "My final goal\n"
          ]
        }
      ]
    },
    {
      "cell_type": "code",
      "source": [
        "a = IPS()"
      ],
      "metadata": {
        "colab": {
          "base_uri": "https://localhost:8080/"
        },
        "id": "erwYRCahIIAk",
        "outputId": "7f91308e-b756-4bab-c31b-90312f61d5c9"
      },
      "execution_count": 23,
      "outputs": [
        {
          "output_type": "stream",
          "name": "stdout",
          "text": [
            "Profile created\n",
            "All india Rank 12\n"
          ]
        }
      ]
    },
    {
      "source": [
        "class MyClass:\n",
        "    @staticmethod\n",
        "    def my_function(arg1, arg2):\n",
        "        return arg1 + arg2\n",
        "\n",
        "# You can call it directly using the class name\n",
        "result = MyClass.my_function(8, 9)\n",
        "print(result) # Output: 17"
      ],
      "cell_type": "code",
      "metadata": {
        "colab": {
          "base_uri": "https://localhost:8080/"
        },
        "id": "fwHkOnwWJo8t",
        "outputId": "9ac2b42b-e46e-40f9-cfbe-eab1c9fb8173"
      },
      "execution_count": 24,
      "outputs": [
        {
          "output_type": "stream",
          "name": "stdout",
          "text": [
            "17\n"
          ]
        }
      ]
    },
    {
      "source": [
        "class MyClass:\n",
        "    def my_function(arg1, arg2): # Indent this line\n",
        "        return arg1 + arg2 # Indent this line as well\n",
        "\n",
        "# You can call it directly using the class name\n",
        "result = MyClass.my_function(1, 8)\n",
        "print(result) # Output: 9"
      ],
      "cell_type": "code",
      "metadata": {
        "colab": {
          "base_uri": "https://localhost:8080/"
        },
        "id": "BVJ1VWdSJ4lp",
        "outputId": "3bcf8a79-e951-4ba2-9456-6b2bb285e621"
      },
      "execution_count": 25,
      "outputs": [
        {
          "output_type": "stream",
          "name": "stdout",
          "text": [
            "9\n"
          ]
        }
      ]
    },
    {
      "source": [
        "class MyClass:\n",
        "    class_variable = 14  # Indent this line\n",
        "\n",
        "    @classmethod\n",
        "    def my_function(cls, arg1):\n",
        "        return cls.class_variable + arg1  # Indent this line as well\n",
        "\n",
        "# You can call it directly using the class name\n",
        "result = MyClass.my_function(7)\n",
        "print(result) # Output: 14"
      ],
      "cell_type": "code",
      "metadata": {
        "colab": {
          "base_uri": "https://localhost:8080/"
        },
        "id": "EoKTwfk3Oh_m",
        "outputId": "9b3c6953-32cf-4393-cc22-b01dd9a7c735"
      },
      "execution_count": 26,
      "outputs": [
        {
          "output_type": "stream",
          "name": "stdout",
          "text": [
            "21\n"
          ]
        }
      ]
    },
    {
      "source": [
        "class MyClass:\n",
        "    def my_function(arg1, arg2): # Indent this line\n",
        "        return arg1 + arg2 # Indent this line as well\n",
        "\n",
        "# You can call it directly using the class name\n",
        "result = MyClass.my_function(2, 8)\n",
        "print(result) # Output: 6"
      ],
      "cell_type": "code",
      "metadata": {
        "id": "4SZ8k9tJMLho",
        "colab": {
          "base_uri": "https://localhost:8080/"
        },
        "outputId": "5f5af769-74b6-49d9-cb40-7a7d43760494"
      },
      "execution_count": 27,
      "outputs": [
        {
          "output_type": "stream",
          "name": "stdout",
          "text": [
            "10\n"
          ]
        }
      ]
    }
  ]
}