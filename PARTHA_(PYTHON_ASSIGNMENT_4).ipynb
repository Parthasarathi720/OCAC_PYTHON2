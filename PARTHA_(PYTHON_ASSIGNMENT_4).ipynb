{
  "cells": [
    {
      "cell_type": "markdown",
      "id": "432568b0-8053-4ed6-9e81-b511558b4583",
      "metadata": {
        "id": "432568b0-8053-4ed6-9e81-b511558b4583"
      },
      "source": [
        "### 1. Array Creation and Basic Operations\n",
        "1. **Create a 1D array of the first 10 positive integers.**\n",
        "   - Print the array.\n",
        "   - Find the sum of all elements in the array.\n",
        "   - Calculate the mean of the elements.\n",
        "\n",
        "2. **Create a 2D array of shape (3, 4) with random integers between 1 and 10.**\n",
        "   - Print the array.\n",
        "   - Find the maximum and minimum values in the array.\n",
        "   - Calculate the sum of each row and each column.\n",
        "\n",
        "### 2. Array Indexing and Slicing\n",
        "3. **Create a 1D array of 20 random integers between 1 and 100.**\n",
        "   - Print the array.\n",
        "   - Print the elements from index 5 to 15.\n",
        "   - Print every second element of the array.\n",
        "\n",
        "4. **Create a 2D array of shape (5, 5) with random integers between 1 and 50.**\n",
        "   - Print the array.\n",
        "   - Extract and print the second row.\n",
        "   - Extract and print the third column.\n",
        "   - Extract and print a 3x3 subarray from the original array.\n",
        "\n",
        "### 3. Array Manipulation\n",
        "5. **Create two 1D arrays of 10 random integers each.**\n",
        "   - Concatenate the two arrays.\n",
        "   - Sort the concatenated array.\n",
        "   - Find the unique elements in the concatenated array.\n",
        "\n",
        "6. **Create a 2D array of shape (4, 4) with random integers between 1 and 20.**\n",
        "   - Print the array.\n",
        "   - Flatten the array into a 1D array.\n",
        "   - Reshape the flattened array back into a 2D array of shape (2, 8).\n",
        "\n",
        "### 4. Mathematical and Statistical Operations\n",
        "7. **Create a 1D array of 15 random integers between 1 and 50.**\n",
        "   - Print the array.\n",
        "   - Calculate and print the standard deviation of the array.\n",
        "   - Find and print the index of the maximum value in the array.\n",
        "   - Normalize the array (scale the values to a range between 0 and 1).\n",
        "\n",
        "8. **Create two 2D arrays of shape (3, 3) with random integers between 1 and 10.**\n",
        "   - Print both arrays.\n",
        "   - Perform element-wise addition, subtraction, and multiplication of the arrays.\n",
        "   - Calculate the dot product of the arrays.\n"
      ]
    },
    {
      "cell_type": "code",
      "execution_count": 2,
      "id": "56c03a97-e325-4418-bbcc-5f0094d7e989",
      "metadata": {
        "id": "56c03a97-e325-4418-bbcc-5f0094d7e989",
        "outputId": "58eb4948-27a1-4719-851b-4e908822e31c",
        "colab": {
          "base_uri": "https://localhost:8080/"
        }
      },
      "outputs": [
        {
          "output_type": "stream",
          "name": "stdout",
          "text": [
            "Array: [ 1  2  3  4  5  6  7  8  9 10]\n",
            "sum of all elements: 55\n",
            "Mean of the elements: 5.5\n"
          ]
        }
      ],
      "source": [
        " import numpy as np\n",
        "\n",
        " #1. create a 1D array pf the first 10 positive integers\n",
        " array = np.arange(1,11)\n",
        "\n",
        " # print the array\n",
        " print(\"Array:\", array)\n",
        "\n",
        " #2. Find the sum of all elementsin the array\n",
        " array_sum = np.sum(array)\n",
        " print(\"sum of all elements:\", array_sum)\n",
        "\n",
        " #3. calculate the mean of the elements\n",
        " array_mean = np.mean(array)\n",
        " print(\"Mean of the elements:\", array_mean)"
      ]
    },
    {
      "cell_type": "code",
      "source": [
        "# 2D array with random integers between 1 and 10\n",
        "array_2d = np.random.randint(1, 11, size=(3, 4))\n",
        "print(\"2D array:\\n\", array_2d)\n",
        "\n",
        "# Maximum and minimum values\n",
        "max_value = np.max(array_2d)\n",
        "min_value = np.min(array_2d)\n",
        "print(\"Maximum value:\", max_value)\n",
        "print(\"Minimum value:\", min_value)\n",
        "\n",
        "# sum of each row and each column\n",
        "sum_rows = np.sum(array_2d, axis=1)\n",
        "sum_columns = np.sum(array_2d, axis=0)\n",
        "print(\"sum of each row:\", sum_rows)\n",
        "print(\"sum of each column:\", sum_columns)"
      ],
      "metadata": {
        "id": "lgPpCWhD5xaY",
        "outputId": "9f6214f6-d4b9-40bf-afbe-d6ec1873b7ba",
        "colab": {
          "base_uri": "https://localhost:8080/"
        }
      },
      "id": "lgPpCWhD5xaY",
      "execution_count": 3,
      "outputs": [
        {
          "output_type": "stream",
          "name": "stdout",
          "text": [
            "2D array:\n",
            " [[9 5 9 7]\n",
            " [7 8 5 5]\n",
            " [2 9 7 9]]\n",
            "Maximum value: 9\n",
            "Minimum value: 2\n",
            "sum of each row: [30 25 27]\n",
            "sum of each column: [18 22 21 21]\n"
          ]
        }
      ]
    },
    {
      "cell_type": "code",
      "source": [
        "# 1D array of 20 random integers between 1 and 100\n",
        "array_20 = np.random.randint(1, 101, size=20)\n",
        "print(\"1D array of 20 random integers:\", array_20)\n",
        "\n",
        "# Elements from index 5 to 15\n",
        "print(\"Elements from index 5 to 15:\", array_20[5:16])\n",
        "\n",
        "# Every second element\n",
        "print(\"Every second element:\", array_20[::2])"
      ],
      "metadata": {
        "id": "475JaCk38WjP",
        "outputId": "d80f6612-2067-44df-df27-e0ded7782f41",
        "colab": {
          "base_uri": "https://localhost:8080/"
        }
      },
      "id": "475JaCk38WjP",
      "execution_count": 4,
      "outputs": [
        {
          "output_type": "stream",
          "name": "stdout",
          "text": [
            "1D array of 20 random integers: [75 25 60 50 89 60  2 99 21  3 66  4 89 78 43 55 17 34 10 76]\n",
            "Elements from index 5 to 15: [60  2 99 21  3 66  4 89 78 43 55]\n",
            "Every second element: [75 60 89  2 21 66 89 43 17 10]\n"
          ]
        }
      ]
    },
    {
      "cell_type": "code",
      "source": [
        "# 2D array of shape (5, 5) with random integers between 1 and 50\n",
        "array_5x5 = np.random.randint(1, 51, size=(5, 5))\n",
        "print(\"2D array:\\n\", array_5x5)\n",
        "\n",
        "# Extract and print the second row\n",
        "second_row = array_5x5[1, :]\n",
        "print(\"second row:\", second_row)\n",
        "\n",
        "# Extract and print the third column\n",
        "third_column = array_5x5[:, 2]\n",
        "print(\"Third column:\", third_column)\n",
        "\n",
        "# Extract and print a 3x3 subarray\n",
        "subarray_3x3 = array_5x5[1:4, 1:4]\n",
        "print(\"3x3 subarray:\\n\", subarray_3x3)"
      ],
      "metadata": {
        "id": "-sBNvu2J9VVm",
        "outputId": "ca0c5a9c-2036-413e-8ec7-6c306205b510",
        "colab": {
          "base_uri": "https://localhost:8080/"
        }
      },
      "id": "-sBNvu2J9VVm",
      "execution_count": 5,
      "outputs": [
        {
          "output_type": "stream",
          "name": "stdout",
          "text": [
            "2D array:\n",
            " [[18 10 50 25  7]\n",
            " [29 47  2  3 17]\n",
            " [35 22 18  3 16]\n",
            " [22  3 23 44  2]\n",
            " [46  6 15 19  8]]\n",
            "second row: [29 47  2  3 17]\n",
            "Third column: [50  2 18 23 15]\n",
            "3x3 subarray:\n",
            " [[47  2  3]\n",
            " [22 18  3]\n",
            " [ 3 23 44]]\n"
          ]
        }
      ]
    },
    {
      "cell_type": "code",
      "source": [
        "# Two 1D arrays of 10 random integers each\n",
        "array1 = np.random.randint(1, 101, size=10)\n",
        "array2 = np.random.randint(1, 101, size=10)\n",
        "print(\"Array 1:\", array1)\n",
        "print(\"Array 2:\", array2)\n",
        "\n",
        "# concentrate the two arrays\n",
        "concatenated_array = np.concatenate((array1, array2))\n",
        "print(\"concatenated array:\", concatenated_array)\n",
        "\n",
        "# sort the concatenated array\n",
        "sorted_array = np.sort(concatenated_array)\n",
        "print(\"sorted array:\", sorted_array)\n",
        "\n",
        "# unique elements\n",
        "unique_elements = np.unique(sorted_array)\n",
        "print(\"unique elements:\", unique_elements)"
      ],
      "metadata": {
        "id": "gOS3iEMI-5t-",
        "outputId": "48cc45cb-632b-443c-c6a9-13ae31f5f9d2",
        "colab": {
          "base_uri": "https://localhost:8080/"
        }
      },
      "id": "gOS3iEMI-5t-",
      "execution_count": 6,
      "outputs": [
        {
          "output_type": "stream",
          "name": "stdout",
          "text": [
            "Array 1: [27 93 67  6 55  8 41 57 37 46]\n",
            "Array 2: [ 78 100  26  46  34  57  95   4   4  64]\n",
            "concatenated array: [ 27  93  67   6  55   8  41  57  37  46  78 100  26  46  34  57  95   4\n",
            "   4  64]\n",
            "sorted array: [  4   4   6   8  26  27  34  37  41  46  46  55  57  57  64  67  78  93\n",
            "  95 100]\n",
            "unique elements: [  4   6   8  26  27  34  37  41  46  55  57  64  67  78  93  95 100]\n"
          ]
        }
      ]
    },
    {
      "cell_type": "code",
      "source": [
        "# 2D array of shape(4, 4) with random integers between 1 and 20\n",
        "array_4x4 = np.random.randint(1, 21, size=(4, 4))\n",
        "print(\"2D array:\\n\", array_4x4)\n",
        "\n",
        "# Flatten the array into a 1D array\n",
        "flattened_array = array_4x4.flatten()\n",
        "print(\"Flattened array:\", flattened_array)\n",
        "\n",
        "# Reshape the fattened array back into a 2D array of shape(2, 8)\n",
        "reshaped_array = flattened_array.reshape((2, 8))\n",
        "print(\"Reshaped array:\\n\", reshaped_array)"
      ],
      "metadata": {
        "id": "ixKnFiwSCQuT",
        "outputId": "caa2ce4c-8454-4608-c137-61ba23845431",
        "colab": {
          "base_uri": "https://localhost:8080/"
        }
      },
      "id": "ixKnFiwSCQuT",
      "execution_count": 7,
      "outputs": [
        {
          "output_type": "stream",
          "name": "stdout",
          "text": [
            "2D array:\n",
            " [[ 3 12 10 14]\n",
            " [17  1 20 19]\n",
            " [19  4 14 14]\n",
            " [ 5  2  3 11]]\n",
            "Flattened array: [ 3 12 10 14 17  1 20 19 19  4 14 14  5  2  3 11]\n",
            "Reshaped array:\n",
            " [[ 3 12 10 14 17  1 20 19]\n",
            " [19  4 14 14  5  2  3 11]]\n"
          ]
        }
      ]
    },
    {
      "cell_type": "code",
      "source": [
        "# 1D array of 15 random integers between 1 and 50\n",
        "array_15 = np.random.randint(1, 51, size=15)\n",
        "print(\"1D array:\", array_15)\n",
        "\n",
        "# standard deviation\n",
        "std_dev = np.std(array_15)\n",
        "print(\"standard deviation:\", std_dev)\n",
        "\n",
        "# index of the maximum value\n",
        "max_index = np.argmax(array_15)\n",
        "print(\"Index of maximum value:\", max_index)\n",
        "\n",
        "# Normalize the array\n",
        "normalized_array = (array_15 - np.min(array_15)) / (np.max(array_15) - np.min(array_15))\n",
        "print(\"Normalized array:\", normalized_array)"
      ],
      "metadata": {
        "id": "2BD_-xJ8DgBj",
        "outputId": "be318c6c-75c4-4bc2-d4ca-b5a5eaab58b0",
        "colab": {
          "base_uri": "https://localhost:8080/"
        }
      },
      "id": "2BD_-xJ8DgBj",
      "execution_count": 8,
      "outputs": [
        {
          "output_type": "stream",
          "name": "stdout",
          "text": [
            "1D array: [38 37 12 35 50 12 46 50 37 42 50  5 17 21 27]\n",
            "standard deviation: 14.748860596293154\n",
            "Index of maximum value: 4\n",
            "Normalized array: [0.73333333 0.71111111 0.15555556 0.66666667 1.         0.15555556\n",
            " 0.91111111 1.         0.71111111 0.82222222 1.         0.\n",
            " 0.26666667 0.35555556 0.48888889]\n"
          ]
        }
      ]
    },
    {
      "cell_type": "code",
      "source": [
        "# Two 2D arrays of shape (3, 3) with random integers between 1 and 10\n",
        "array_3x3_1 = np.random.randint(1, 11, size=(3, 3))\n",
        "array_3x3_2 = np.random.randint(1, 11, size=(3, 3))\n",
        "print(\"Array 1:\\n\", array_3x3_1)\n",
        "print(\"Array 2:\\n\", array_3x3_2)\n",
        "\n",
        "# Element -wise addition, subtraction, and multiplication\n",
        "addition = array_3x3_1 + array_3x3_2\n",
        "subtraction = array_3x3_1 - array_3x3_2\n",
        "multiplication = array_3x3_1 * array_3x3_2\n",
        "print(\"Element-wise addition:\\n\", addition)\n",
        "print(\"Element-wise subtraction:\\n\", subtraction)\n",
        "print(\"Element-wise multiplication:\\n\", multiplication)\n",
        "\n",
        "# Dot product of the arrays\n",
        "dot_product = np.dot(array_3x3_1, array_3x3_2)\n",
        "print(\"Dot product:\\n\", dot_product)\n"
      ],
      "metadata": {
        "id": "B9vNV4xtFeaj",
        "outputId": "7cdf6ca2-0404-4b5d-dcf8-873ce1ef4b20",
        "colab": {
          "base_uri": "https://localhost:8080/"
        }
      },
      "id": "B9vNV4xtFeaj",
      "execution_count": 9,
      "outputs": [
        {
          "output_type": "stream",
          "name": "stdout",
          "text": [
            "Array 1:\n",
            " [[1 7 9]\n",
            " [1 8 7]\n",
            " [8 9 5]]\n",
            "Array 2:\n",
            " [[1 5 7]\n",
            " [1 2 9]\n",
            " [6 3 4]]\n",
            "Element-wise addition:\n",
            " [[ 2 12 16]\n",
            " [ 2 10 16]\n",
            " [14 12  9]]\n",
            "Element-wise subtraction:\n",
            " [[ 0  2  2]\n",
            " [ 0  6 -2]\n",
            " [ 2  6  1]]\n",
            "Element-wise multiplication:\n",
            " [[ 1 35 63]\n",
            " [ 1 16 63]\n",
            " [48 27 20]]\n",
            "Dot product:\n",
            " [[ 62  46 106]\n",
            " [ 51  42 107]\n",
            " [ 47  73 157]]\n"
          ]
        }
      ]
    },
    {
      "cell_type": "code",
      "source": [],
      "metadata": {
        "id": "v8Q9i9CrH01G"
      },
      "id": "v8Q9i9CrH01G",
      "execution_count": null,
      "outputs": []
    }
  ],
  "metadata": {
    "kernelspec": {
      "display_name": "Python 3 (ipykernel)",
      "language": "python",
      "name": "python3"
    },
    "language_info": {
      "codemirror_mode": {
        "name": "ipython",
        "version": 3
      },
      "file_extension": ".py",
      "mimetype": "text/x-python",
      "name": "python",
      "nbconvert_exporter": "python",
      "pygments_lexer": "ipython3",
      "version": "3.11.7"
    },
    "colab": {
      "provenance": []
    }
  },
  "nbformat": 4,
  "nbformat_minor": 5
}