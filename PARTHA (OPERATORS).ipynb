{
 "cells": [
  {
   "cell_type": "code",
   "execution_count": 1,
   "id": "fec81f9a-d179-497d-a0b6-0f8c6cd58b48",
   "metadata": {},
   "outputs": [
    {
     "data": {
      "text/plain": [
       "15"
      ]
     },
     "execution_count": 1,
     "metadata": {},
     "output_type": "execute_result"
    }
   ],
   "source": [
    "# addition\n",
    "8+7"
   ]
  },
  {
   "cell_type": "code",
   "execution_count": 3,
   "id": "6836ea47-d6ef-4e87-88ae-7c2dc4d14fe0",
   "metadata": {},
   "outputs": [
    {
     "data": {
      "text/plain": [
       "24"
      ]
     },
     "execution_count": 3,
     "metadata": {},
     "output_type": "execute_result"
    }
   ],
   "source": [
    "# Subtraction\n",
    "89-65\n"
   ]
  },
  {
   "cell_type": "code",
   "execution_count": 5,
   "id": "469e3f3f-418f-4f1f-a7d4-d9610d1c0a15",
   "metadata": {},
   "outputs": [
    {
     "data": {
      "text/plain": [
       "40"
      ]
     },
     "execution_count": 5,
     "metadata": {},
     "output_type": "execute_result"
    }
   ],
   "source": [
    "# Multiplication\n",
    "5 * 8"
   ]
  },
  {
   "cell_type": "code",
   "execution_count": 7,
   "id": "50c5a850-fb9f-4030-aff4-171008d30ed3",
   "metadata": {},
   "outputs": [
    {
     "data": {
      "text/plain": [
       "5.0"
      ]
     },
     "execution_count": 7,
     "metadata": {},
     "output_type": "execute_result"
    }
   ],
   "source": [
    "# Division\n",
    "10/2"
   ]
  },
  {
   "cell_type": "code",
   "execution_count": 9,
   "id": "3e6d22ec-523a-4d07-b244-1ffad8b112e4",
   "metadata": {},
   "outputs": [
    {
     "data": {
      "text/plain": [
       "160000"
      ]
     },
     "execution_count": 9,
     "metadata": {},
     "output_type": "execute_result"
    }
   ],
   "source": [
    "# Power/exponent\n",
    "20**4"
   ]
  },
  {
   "cell_type": "code",
   "execution_count": 11,
   "id": "a623f68c-251b-4b4b-90b9-7103bbbae6c0",
   "metadata": {},
   "outputs": [
    {
     "data": {
      "text/plain": [
       "25.0"
      ]
     },
     "execution_count": 11,
     "metadata": {},
     "output_type": "execute_result"
    }
   ],
   "source": [
    "50/2"
   ]
  },
  {
   "cell_type": "code",
   "execution_count": 13,
   "id": "441ec502-29e4-4b3a-8002-f82bc9c80da8",
   "metadata": {},
   "outputs": [
    {
     "data": {
      "text/plain": [
       "20"
      ]
     },
     "execution_count": 13,
     "metadata": {},
     "output_type": "execute_result"
    }
   ],
   "source": [
    "# floor division\n",
    "60//3"
   ]
  },
  {
   "cell_type": "code",
   "execution_count": 15,
   "id": "59ce4114-2ce9-44fe-96dd-e71644fd3d70",
   "metadata": {},
   "outputs": [
    {
     "data": {
      "text/plain": [
       "0"
      ]
     },
     "execution_count": 15,
     "metadata": {},
     "output_type": "execute_result"
    }
   ],
   "source": [
    "# Modulo --> remainder\n",
    "30%3\n"
   ]
  },
  {
   "cell_type": "code",
   "execution_count": 17,
   "id": "0488bf5a-5cea-4800-a875-1bdb6700caa9",
   "metadata": {},
   "outputs": [
    {
     "data": {
      "text/plain": [
       "272"
      ]
     },
     "execution_count": 17,
     "metadata": {},
     "output_type": "execute_result"
    }
   ],
   "source": [
    "# parantasis\n",
    "(8+9) * (8+8)"
   ]
  },
  {
   "cell_type": "code",
   "execution_count": 19,
   "id": "1dc547ab-a306-49e5-886c-8471e97ab207",
   "metadata": {},
   "outputs": [
    {
     "name": "stdout",
     "output_type": "stream",
     "text": [
      "1800\n",
      "0.5\n",
      "30\n"
     ]
    }
   ],
   "source": [
    "## Mathematical operation with variable Assignment\n",
    "a=30\n",
    "b=60\n",
    "print(a*b)\n",
    "print(a/b)\n",
    "print(a%b)"
   ]
  },
  {
   "cell_type": "code",
   "execution_count": 21,
   "id": "c29ebf42-f670-40a9-b01c-423d8a65b48c",
   "metadata": {},
   "outputs": [
    {
     "data": {
      "text/plain": [
       "30.0"
      ]
     },
     "execution_count": 21,
     "metadata": {},
     "output_type": "execute_result"
    }
   ],
   "source": [
    "a-b*a/b+a ##BODMAS"
   ]
  },
  {
   "cell_type": "code",
   "execution_count": 23,
   "id": "7e4e4688-74e3-4b7e-930f-b2f55bc7ed57",
   "metadata": {},
   "outputs": [
    {
     "data": {
      "text/plain": [
       "33"
      ]
     },
     "execution_count": 23,
     "metadata": {},
     "output_type": "execute_result"
    }
   ],
   "source": [
    "(3*(4+7))"
   ]
  },
  {
   "cell_type": "code",
   "execution_count": 25,
   "id": "3de45530-db98-4bf2-b7f6-fe521a1de7ec",
   "metadata": {},
   "outputs": [
    {
     "data": {
      "text/plain": [
       "78118"
      ]
     },
     "execution_count": 25,
     "metadata": {},
     "output_type": "execute_result"
    }
   ],
   "source": [
    "9//8%7+5**7-8"
   ]
  },
  {
   "cell_type": "code",
   "execution_count": 27,
   "id": "da566b8e-4a67-41c8-806d-477bca6c9aaf",
   "metadata": {},
   "outputs": [
    {
     "data": {
      "text/plain": [
       "20.0"
      ]
     },
     "execution_count": 27,
     "metadata": {},
     "output_type": "execute_result"
    }
   ],
   "source": [
    "4//5*5/6+20%5**4"
   ]
  },
  {
   "cell_type": "code",
   "execution_count": 29,
   "id": "5b2b14d7-f699-4992-b259-6229766dada0",
   "metadata": {},
   "outputs": [
    {
     "data": {
      "text/plain": [
       "True"
      ]
     },
     "execution_count": 29,
     "metadata": {},
     "output_type": "execute_result"
    }
   ],
   "source": [
    "# greater than\n",
    "76>45"
   ]
  },
  {
   "cell_type": "code",
   "execution_count": 31,
   "id": "3438f9e5-8d63-4625-8910-5b0d936579c1",
   "metadata": {},
   "outputs": [
    {
     "data": {
      "text/plain": [
       "False"
      ]
     },
     "execution_count": 31,
     "metadata": {},
     "output_type": "execute_result"
    }
   ],
   "source": [
    "# Less than\n",
    "78<7"
   ]
  },
  {
   "cell_type": "code",
   "execution_count": 35,
   "id": "bcc46309-9c91-47bc-a813-49c4e9926fbd",
   "metadata": {},
   "outputs": [
    {
     "data": {
      "text/plain": [
       "False"
      ]
     },
     "execution_count": 35,
     "metadata": {},
     "output_type": "execute_result"
    }
   ],
   "source": [
    "7*8 < 8*1"
   ]
  },
  {
   "cell_type": "code",
   "execution_count": 37,
   "id": "c1dec9af-6880-4bb3-b338-d84a15c5f9eb",
   "metadata": {},
   "outputs": [
    {
     "data": {
      "text/plain": [
       "True"
      ]
     },
     "execution_count": 37,
     "metadata": {},
     "output_type": "execute_result"
    }
   ],
   "source": [
    "# equal\n",
    "89==89"
   ]
  },
  {
   "cell_type": "code",
   "execution_count": 39,
   "id": "ea5280b1-5a48-4d75-98b9-c7428dd6644c",
   "metadata": {},
   "outputs": [
    {
     "data": {
      "text/plain": [
       "True"
      ]
     },
     "execution_count": 39,
     "metadata": {},
     "output_type": "execute_result"
    }
   ],
   "source": [
    "# not equal\n",
    "7!=6"
   ]
  },
  {
   "cell_type": "code",
   "execution_count": 41,
   "id": "ddca6536-808b-493a-90c4-4782fda99812",
   "metadata": {},
   "outputs": [
    {
     "data": {
      "text/plain": [
       "True"
      ]
     },
     "execution_count": 41,
     "metadata": {},
     "output_type": "execute_result"
    }
   ],
   "source": [
    "#greaterthan or equalto\n",
    "5>=5"
   ]
  },
  {
   "cell_type": "code",
   "execution_count": 43,
   "id": "fa5df814-6bff-4404-9dbd-1d71e67c1ad4",
   "metadata": {},
   "outputs": [
    {
     "data": {
      "text/plain": [
       "False"
      ]
     },
     "execution_count": 43,
     "metadata": {},
     "output_type": "execute_result"
    }
   ],
   "source": [
    "#lessthan equal to\n",
    "6<=3"
   ]
  },
  {
   "cell_type": "code",
   "execution_count": 47,
   "id": "fe1b0b60-e125-41e3-96e6-fc2afaa08df5",
   "metadata": {},
   "outputs": [
    {
     "data": {
      "text/plain": [
       "True"
      ]
     },
     "execution_count": 47,
     "metadata": {},
     "output_type": "execute_result"
    }
   ],
   "source": [
    "67==67.0"
   ]
  },
  {
   "cell_type": "code",
   "execution_count": 49,
   "id": "b0a44e63-e7d2-425f-b6fa-744b2b3beedb",
   "metadata": {},
   "outputs": [
    {
     "data": {
      "text/plain": [
       "False"
      ]
     },
     "execution_count": 49,
     "metadata": {},
     "output_type": "execute_result"
    }
   ],
   "source": [
    "'hi'=='HI'"
   ]
  },
  {
   "cell_type": "code",
   "execution_count": 55,
   "id": "4b30cdb1-d1f3-400e-bfad-a80a862b1c27",
   "metadata": {},
   "outputs": [
    {
     "data": {
      "text/plain": [
       "'0b1100100'"
      ]
     },
     "execution_count": 55,
     "metadata": {},
     "output_type": "execute_result"
    }
   ],
   "source": [
    "bin(100)"
   ]
  },
  {
   "cell_type": "code",
   "execution_count": 57,
   "id": "4c41e0c4-3e95-484b-8e3d-fd4202bfe55d",
   "metadata": {},
   "outputs": [
    {
     "data": {
      "text/plain": [
       "37"
      ]
     },
     "execution_count": 57,
     "metadata": {},
     "output_type": "execute_result"
    }
   ],
   "source": [
    "0b100101"
   ]
  },
  {
   "cell_type": "code",
   "execution_count": 59,
   "id": "f8e58718-21e8-4b6e-8f03-aab7ae62f186",
   "metadata": {},
   "outputs": [
    {
     "name": "stdout",
     "output_type": "stream",
     "text": [
      "7\n"
     ]
    }
   ],
   "source": [
    "#Bitwise OR\n",
    "a=5\n",
    "b=7\n",
    "\n",
    "print(a|b)"
   ]
  },
  {
   "cell_type": "code",
   "execution_count": 63,
   "id": "73c2d2d6-4a09-486f-a37b-969cf62c57c4",
   "metadata": {},
   "outputs": [
    {
     "name": "stdout",
     "output_type": "stream",
     "text": [
      "3\n"
     ]
    }
   ],
   "source": [
    "a=7\n",
    "b=3\n",
    "\n",
    "\n",
    "print(a & b)"
   ]
  },
  {
   "cell_type": "code",
   "execution_count": 65,
   "id": "fb400503-a8a1-4087-8b0f-b610a33507ba",
   "metadata": {},
   "outputs": [
    {
     "data": {
      "text/plain": [
       "13"
      ]
     },
     "execution_count": 65,
     "metadata": {},
     "output_type": "execute_result"
    }
   ],
   "source": [
    "9|4"
   ]
  },
  {
   "cell_type": "code",
   "execution_count": 67,
   "id": "5a3afbc5-62b3-4ae8-b7d7-370d54c0209d",
   "metadata": {},
   "outputs": [
    {
     "data": {
      "text/plain": [
       "0"
      ]
     },
     "execution_count": 67,
     "metadata": {},
     "output_type": "execute_result"
    }
   ],
   "source": [
    "6&8"
   ]
  },
  {
   "cell_type": "code",
   "execution_count": 71,
   "id": "bc3adbe9-7f8e-477d-be2f-9560a278aa56",
   "metadata": {},
   "outputs": [
    {
     "data": {
      "text/plain": [
       "True"
      ]
     },
     "execution_count": 71,
     "metadata": {},
     "output_type": "execute_result"
    }
   ],
   "source": [
    "(5 > 6) or (4<5)"
   ]
  },
  {
   "cell_type": "code",
   "execution_count": 73,
   "id": "635ed66c-c765-4373-b723-cc9d99ef0c37",
   "metadata": {},
   "outputs": [
    {
     "data": {
      "text/plain": [
       "False"
      ]
     },
     "execution_count": 73,
     "metadata": {},
     "output_type": "execute_result"
    }
   ],
   "source": [
    "(4>7) and (6<9)"
   ]
  },
  {
   "cell_type": "code",
   "execution_count": 77,
   "id": "4c52bc24-00b6-4183-a27d-78c94810c2a6",
   "metadata": {},
   "outputs": [
    {
     "data": {
      "text/plain": [
       "False"
      ]
     },
     "execution_count": 77,
     "metadata": {},
     "output_type": "execute_result"
    }
   ],
   "source": [
    "not True"
   ]
  },
  {
   "cell_type": "code",
   "execution_count": 79,
   "id": "b985901f-d2b6-4088-82f2-ca64b52723c3",
   "metadata": {},
   "outputs": [
    {
     "data": {
      "text/plain": [
       "True"
      ]
     },
     "execution_count": 79,
     "metadata": {},
     "output_type": "execute_result"
    }
   ],
   "source": [
    "not False"
   ]
  },
  {
   "cell_type": "code",
   "execution_count": 83,
   "id": "531e5df3-daeb-4def-8909-905c7fbab3e8",
   "metadata": {},
   "outputs": [
    {
     "data": {
      "text/plain": [
       "True"
      ]
     },
     "execution_count": 83,
     "metadata": {},
     "output_type": "execute_result"
    }
   ],
   "source": [
    "my_str='partha'\n",
    "\n",
    "my_str.isalpha()or str_eaxmple.isnum()"
   ]
  },
  {
   "cell_type": "code",
   "execution_count": 85,
   "id": "3a830885-d7f3-4999-be47-e4666714d585",
   "metadata": {},
   "outputs": [
    {
     "data": {
      "text/plain": [
       "True"
      ]
     },
     "execution_count": 85,
     "metadata": {},
     "output_type": "execute_result"
    }
   ],
   "source": [
    "(6 == 6) and (3 == 5) or (9 == 9)"
   ]
  },
  {
   "cell_type": "code",
   "execution_count": 87,
   "id": "1e53bd15-768b-48d5-bead-1718f8c6fadf",
   "metadata": {},
   "outputs": [
    {
     "data": {
      "text/plain": [
       "15"
      ]
     },
     "execution_count": 87,
     "metadata": {},
     "output_type": "execute_result"
    }
   ],
   "source": [
    "a=15\n",
    "a"
   ]
  },
  {
   "cell_type": "code",
   "execution_count": 89,
   "id": "3ede56a0-b9b9-49d4-a0bf-243406299cc7",
   "metadata": {},
   "outputs": [
    {
     "name": "stdout",
     "output_type": "stream",
     "text": [
      "21\n"
     ]
    }
   ],
   "source": [
    "a=a+6\n",
    "print(a)"
   ]
  },
  {
   "cell_type": "code",
   "execution_count": 93,
   "id": "b77f67e1-524d-4db9-be65-1e9e7d7bf6ca",
   "metadata": {},
   "outputs": [
    {
     "data": {
      "text/plain": [
       "31"
      ]
     },
     "execution_count": 93,
     "metadata": {},
     "output_type": "execute_result"
    }
   ],
   "source": [
    "a+=5\n",
    "a"
   ]
  },
  {
   "cell_type": "code",
   "execution_count": 95,
   "id": "56a24b83-6a7c-41e1-b025-462a9e21328a",
   "metadata": {},
   "outputs": [
    {
     "data": {
      "text/plain": [
       "24"
      ]
     },
     "execution_count": 95,
     "metadata": {},
     "output_type": "execute_result"
    }
   ],
   "source": [
    "a-=7\n",
    "a"
   ]
  },
  {
   "cell_type": "code",
   "execution_count": 97,
   "id": "fefa5b06-80d4-44e6-846b-288248c39bc2",
   "metadata": {},
   "outputs": [
    {
     "name": "stdout",
     "output_type": "stream",
     "text": [
      "False\n"
     ]
    }
   ],
   "source": [
    "a = 9\n",
    "b = 7\n",
    "print(a is b)"
   ]
  },
  {
   "cell_type": "code",
   "execution_count": 99,
   "id": "4344a80b-77ec-4105-b8f8-9de1a1353aa6",
   "metadata": {},
   "outputs": [
    {
     "name": "stdout",
     "output_type": "stream",
     "text": [
      "False\n"
     ]
    }
   ],
   "source": [
    "s1 = \"partha\"\n",
    "s2 = \"unmesha\"\n",
    "print(s1 is s2)"
   ]
  },
  {
   "cell_type": "code",
   "execution_count": 101,
   "id": "efafed09-6eec-4f4c-b479-7c933786457b",
   "metadata": {},
   "outputs": [
    {
     "data": {
      "text/plain": [
       "True"
      ]
     },
     "execution_count": 101,
     "metadata": {},
     "output_type": "execute_result"
    }
   ],
   "source": [
    "a=9\n",
    "b=5\n",
    "a is not b"
   ]
  },
  {
   "cell_type": "code",
   "execution_count": 103,
   "id": "1561c3aa-17f1-421f-95b7-b7d96cf4ea2e",
   "metadata": {},
   "outputs": [
    {
     "data": {
      "text/plain": [
       "False"
      ]
     },
     "execution_count": 103,
     "metadata": {},
     "output_type": "execute_result"
    }
   ],
   "source": [
    "a=\"partha\"\n",
    "\"esh\" in a"
   ]
  },
  {
   "cell_type": "code",
   "execution_count": 109,
   "id": "da955ab4-edb9-4ca3-846e-ad623abdbfdf",
   "metadata": {},
   "outputs": [
    {
     "data": {
      "text/plain": [
       "False"
      ]
     },
     "execution_count": 109,
     "metadata": {},
     "output_type": "execute_result"
    }
   ],
   "source": [
    "lst = [3, 4, 5, 6]\n",
    "1 in lst"
   ]
  },
  {
   "cell_type": "code",
   "execution_count": 111,
   "id": "d27fefa7-3f29-47a5-a1c6-a6c41c544398",
   "metadata": {},
   "outputs": [
    {
     "data": {
      "text/plain": [
       "True"
      ]
     },
     "execution_count": 111,
     "metadata": {},
     "output_type": "execute_result"
    }
   ],
   "source": [
    "a=[5, 6, 7, 9, 5]\n",
    "8 not in a"
   ]
  },
  {
   "cell_type": "code",
   "execution_count": null,
   "id": "6c07ec4f-fad8-42f3-b96a-12bba89bedf0",
   "metadata": {},
   "outputs": [],
   "source": []
  }
 ],
 "metadata": {
  "kernelspec": {
   "display_name": "Python 3 (ipykernel)",
   "language": "python",
   "name": "python3"
  },
  "language_info": {
   "codemirror_mode": {
    "name": "ipython",
    "version": 3
   },
   "file_extension": ".py",
   "mimetype": "text/x-python",
   "name": "python",
   "nbconvert_exporter": "python",
   "pygments_lexer": "ipython3",
   "version": "3.11.7"
  }
 },
 "nbformat": 4,
 "nbformat_minor": 5
}
