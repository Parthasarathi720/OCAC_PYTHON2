{
  "nbformat": 4,
  "nbformat_minor": 0,
  "metadata": {
    "colab": {
      "provenance": []
    },
    "kernelspec": {
      "name": "python3",
      "display_name": "Python 3"
    },
    "language_info": {
      "name": "python"
    }
  },
  "cells": [
    {
      "cell_type": "code",
      "execution_count": null,
      "metadata": {
        "id": "RegyXyC9FM1B"
      },
      "outputs": [],
      "source": [
        "#1. Python Program to Add Two Numbers , take input from user and show the input and output uisng .format\n",
        "#2 Python Program to Find the Square Root using operator\n",
        "#3. Python Program to Calculate the Area of a Triangle\n",
        "#4. Python Program to Convert Kilometers to Miles\n",
        "#5 Python Program to Convert Celsius To Fahrenheit\n",
        "#6 Python Program to Find ASCII Value of Character"
      ]
    },
    {
      "cell_type": "code",
      "source": [
        "num1 = float(input(\"Enter the first number : \"))\n",
        "num2 = float(input(\"Enter the second number: \"))\n",
        "\n",
        "result = num1 + num2\n",
        "\n",
        "output = \"The sum of {0} and {1} is {2}\".format(num1, num2, result)\n",
        "print(output)"
      ],
      "metadata": {
        "id": "pF33xFGvCfxi",
        "outputId": "bc1c3e53-5b19-4050-e938-ca5e0fd1b640",
        "colab": {
          "base_uri": "https://localhost:8080/"
        }
      },
      "execution_count": null,
      "outputs": [
        {
          "output_type": "stream",
          "name": "stdout",
          "text": [
            "Enter the first number : 100\n",
            "Enter the second number: 200\n",
            "The sum of 100.0 and 200.0 is 300.0\n"
          ]
        }
      ]
    },
    {
      "cell_type": "code",
      "source": [
        "number = float(input(\"Enter a number: \"))\n",
        "\n",
        "square_root = number ** 0.5\n",
        "\n",
        "output = \"The square root of {0} is {1}\".format(number, square_root)\n",
        "print(output)"
      ],
      "metadata": {
        "id": "cnMKUH1yFpwj",
        "outputId": "fda17a35-8371-46f2-e3bf-a1e34da78b15",
        "colab": {
          "base_uri": "https://localhost:8080/"
        }
      },
      "execution_count": null,
      "outputs": [
        {
          "output_type": "stream",
          "name": "stdout",
          "text": [
            "Enter a number: 567\n",
            "The square root of 567.0 is 23.811761799581316\n"
          ]
        }
      ]
    },
    {
      "cell_type": "code",
      "source": [
        "base = float(input(\"Enter the base of the triangle: \"))\n",
        "height = float(input(\"Enter the height of the triangle: \"))\n",
        "\n",
        "area = 0.5 * base * height\n",
        "\n",
        "output = \"The area of the triangle with base {0} and height {1} is {2}\".format(base, height, area)\n",
        "print(output)"
      ],
      "metadata": {
        "id": "PiGn6195GcGc",
        "outputId": "747e769a-9a8a-4457-b825-e8fa0b32d4e0",
        "colab": {
          "base_uri": "https://localhost:8080/"
        }
      },
      "execution_count": null,
      "outputs": [
        {
          "output_type": "stream",
          "name": "stdout",
          "text": [
            "Enter the base of the triangle: 37\n",
            "Enter the height of the triangle: 45\n",
            "The area of the triangle with base 37.0 and height 45.0 is 832.5\n"
          ]
        }
      ]
    },
    {
      "cell_type": "code",
      "source": [
        "km_to_miles_factor = 0.621371\n",
        "\n",
        "kilometres = float(input(\"Enter distance in kilometres: \"))\n",
        "\n",
        "miles = kilometres * km_to_miles_factor\n",
        "\n",
        "output = \"{0} kilometres is equal to {1} miles\".format(kilometres, miles)\n",
        "print(output)"
      ],
      "metadata": {
        "id": "FTQcOQQaHYxC",
        "outputId": "1f08bb9a-2da9-4f1f-f23f-2c65d86c2026",
        "colab": {
          "base_uri": "https://localhost:8080/"
        }
      },
      "execution_count": null,
      "outputs": [
        {
          "output_type": "stream",
          "name": "stdout",
          "text": [
            "Enter distance in kilometres: 456\n",
            "456.0 kilometres is equal to 283.345176 miles\n"
          ]
        }
      ]
    },
    {
      "cell_type": "code",
      "source": [
        "celsius = float(input(\"Enter temperature in celsius: \"))\n",
        "\n",
        "fahrenheit = (celsius * 9/5) +32\n",
        "\n",
        "output = \"{0} degree celsius is equal to {1} degrees Farhenheit\".format(celsius, fahrenheit)\n",
        "print(output)"
      ],
      "metadata": {
        "id": "bT2kIYosIJVm",
        "outputId": "f88b9d2e-6a3c-4281-f6be-1b07e95ae642",
        "colab": {
          "base_uri": "https://localhost:8080/"
        }
      },
      "execution_count": null,
      "outputs": [
        {
          "output_type": "stream",
          "name": "stdout",
          "text": [
            "Enter temperature in celsius: 55\n",
            "55.0 degree celsius is equal to 131.0 degrees Farhenheit\n"
          ]
        }
      ]
    },
    {
      "cell_type": "code",
      "source": [
        "character = input(\"Enter a character: \")\n",
        "\n",
        "if len(character) != 1:\n",
        "  print(\"please enter exactly one character.\")\n",
        "else:\n",
        " ascii_value = ord(character)\n",
        " output = \"The ASCII value of '{0}' is {1}\".format(character, ascii_value)\n",
        " print(output)"
      ],
      "metadata": {
        "id": "aTIL4-j6I_SN",
        "outputId": "a4ad191f-2ac0-4109-bea7-929437a68a2f",
        "colab": {
          "base_uri": "https://localhost:8080/"
        }
      },
      "execution_count": null,
      "outputs": [
        {
          "output_type": "stream",
          "name": "stdout",
          "text": [
            "Enter a character: a\n",
            "The ASCII value of 'a' is 97\n"
          ]
        }
      ]
    },
    {
      "cell_type": "code",
      "source": [],
      "metadata": {
        "id": "su_KWDRHKZif"
      },
      "execution_count": null,
      "outputs": []
    }
  ]
}